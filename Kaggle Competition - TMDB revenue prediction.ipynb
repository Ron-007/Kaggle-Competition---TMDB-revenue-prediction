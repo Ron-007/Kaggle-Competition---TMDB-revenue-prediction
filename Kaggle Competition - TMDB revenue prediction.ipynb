{
  "nbformat": 4,
  "nbformat_minor": 0,
  "metadata": {
    "kernelspec": {
      "language": "python",
      "display_name": "Python 3",
      "name": "python3"
    },
    "language_info": {
      "name": "python",
      "version": "3.7.10",
      "mimetype": "text/x-python",
      "codemirror_mode": {
        "name": "ipython",
        "version": 3
      },
      "pygments_lexer": "ipython3",
      "nbconvert_exporter": "python",
      "file_extension": ".py"
    },
    "colab": {
      "name": "DS_Assignment2.ipynb",
      "provenance": [],
      "collapsed_sections": [
        "5ngS1eNln5V1",
        "Q97DScWt41-4"
      ]
    }
  },
  "cells": [
    {
      "cell_type": "markdown",
      "metadata": {
        "id": "99lbH_dkn1ZQ"
      },
      "source": [
        "**Data Science Engineering Methods and Tools**\n",
        "\n",
        "**Assignment 2** **-** **KAGGLE**\n",
        "\n",
        "**Name** - **Ronak Bhushan Patil**\n",
        "\n",
        "**NUID** - **001007035**\n",
        "\n",
        "**Abstract**\n",
        "\n",
        "The Movie Databse also known as TMDB is a community built movie and TV database. The aim of the notebook is to predict the target variable revenue of the movies listed in the TMDB database. We have ran the models and tried to predict the revenue of the movies."
      ]
    },
    {
      "cell_type": "markdown",
      "metadata": {
        "id": "5ngS1eNln5V1"
      },
      "source": [
        "### **THE  MOVIE  DATABASE**\n",
        "\n",
        "\n",
        "\n",
        "\n",
        "\n",
        "\n",
        "\n",
        "                    \n",
        "![](https://cdn-images-1.medium.com/max/1200/1*vIR7iO-1GnY2xYxL6NiYkw.png)"
      ]
    },
    {
      "cell_type": "markdown",
      "metadata": {
        "id": "jf74Mp4PoDu1"
      },
      "source": [
        "**Following is the detailed description of the columns in my dataset**\n",
        "\n",
        "**Data Description**\n",
        "\n",
        "**id** - Integer unique id of each movie\n",
        "\n",
        "**belongs_to_collection** - Contains the TMDB Id, Name, Movie Poster and Backdrop URL  of a movie in JSON format. You can see the Poster and Backdrop \n",
        "\n",
        "**budget**:Budget of a movie in dollars. 0 values mean unknown. \n",
        "\n",
        "**genres** : Contains all the Genres Name & TMDB Id in JSON Format\n",
        "\n",
        "**homepage** - Contains the official homepage URL of a movie.\n",
        "\n",
        "**imdb_id** - IMDB id of a movie (string). \n",
        "\n",
        "**original_language** - Two digit code of the original language, in which the movie was made. Like: en = English, fr = french. \n",
        "\n",
        "**original_title** - The original title of a movie. Title & Original title may differ, if the original title is not in English. \n",
        "\n",
        "**overview** - Brief description of the movie.\n",
        "\n",
        "**popularity** -  Popularity of the movie in float. \n",
        "\n",
        "**poster_path** - Poster path of a movie.\n",
        "\n",
        "**production_companies** - All production company name and TMDB id in JSON format of a movie.\n",
        "\n",
        "**production_countries** - Two digit code and full name of the production company in JSON format.\n",
        "\n",
        "**release_date** - Release date of a movie in mm/dd/yy format.\n",
        "\n",
        "**runtime** - Total runtime of a movie in minutes (Integer).\n",
        "\n",
        "**spoken_languages** - Two digit code and full name of the spoken language. \n",
        "\n",
        "**status** - Is the movie released or rumored? \n",
        "\n",
        "**tagline** - Tagline of a movie \n",
        "\n",
        "**title** - English title of a movie\n",
        "\n",
        "**Keywords** - TMDB Id and name of all the keywords in JSON format. \n",
        "\n",
        "**cast** - All cast TMDB id, name, character name, gender (1 = Female, 2 = Male) in JSON format\n",
        "\n",
        "**crew** - Name, TMDB id, profile path of various kind of crew members job like Director, Writer, Art, Sound etc. \n",
        "\n",
        "**revenue** - Total revenue earned by a movie in dollars. "
      ]
    },
    {
      "cell_type": "markdown",
      "metadata": {
        "id": "Q97DScWt41-4"
      },
      "source": [
        "### **Importing all necessary libraries**"
      ]
    },
    {
      "cell_type": "code",
      "metadata": {
        "execution": {
          "iopub.status.busy": "2021-11-05T19:19:41.073659Z",
          "iopub.execute_input": "2021-11-05T19:19:41.073956Z",
          "iopub.status.idle": "2021-11-05T19:19:48.867790Z",
          "shell.execute_reply.started": "2021-11-05T19:19:41.073873Z",
          "shell.execute_reply": "2021-11-05T19:19:48.866961Z"
        },
        "trusted": true,
        "colab": {
          "base_uri": "https://localhost:8080/"
        },
        "id": "tIamv9Hp41-8",
        "outputId": "591846f6-cfa9-4f8a-d142-0b8fcfa0ee64"
      },
      "source": [
        "import numpy as np\n",
        "import pandas as pd\n",
        "import matplotlib.pyplot as plt\n",
        "import seaborn as sns \n",
        "plt.style.use('fast')\n",
        "!pip install missingno\n",
        "import missingno as msngno \n",
        "%matplotlib inline\n",
        "import ast\n",
        "from sklearn.metrics import mean_squared_error\n",
        "from math import sqrt\n",
        "import warnings\n",
        "warnings.filterwarnings('ignore')"
      ],
      "execution_count": null,
      "outputs": [
        {
          "output_type": "stream",
          "name": "stdout",
          "text": [
            "Requirement already satisfied: missingno in /usr/local/lib/python3.7/dist-packages (0.5.0)\n",
            "Requirement already satisfied: scipy in /usr/local/lib/python3.7/dist-packages (from missingno) (1.4.1)\n",
            "Requirement already satisfied: numpy in /usr/local/lib/python3.7/dist-packages (from missingno) (1.19.5)\n",
            "Requirement already satisfied: matplotlib in /usr/local/lib/python3.7/dist-packages (from missingno) (3.2.2)\n",
            "Requirement already satisfied: seaborn in /usr/local/lib/python3.7/dist-packages (from missingno) (0.11.2)\n",
            "Requirement already satisfied: cycler>=0.10 in /usr/local/lib/python3.7/dist-packages (from matplotlib->missingno) (0.10.0)\n",
            "Requirement already satisfied: pyparsing!=2.0.4,!=2.1.2,!=2.1.6,>=2.0.1 in /usr/local/lib/python3.7/dist-packages (from matplotlib->missingno) (2.4.7)\n",
            "Requirement already satisfied: kiwisolver>=1.0.1 in /usr/local/lib/python3.7/dist-packages (from matplotlib->missingno) (1.3.2)\n",
            "Requirement already satisfied: python-dateutil>=2.1 in /usr/local/lib/python3.7/dist-packages (from matplotlib->missingno) (2.8.2)\n",
            "Requirement already satisfied: six in /usr/local/lib/python3.7/dist-packages (from cycler>=0.10->matplotlib->missingno) (1.15.0)\n",
            "Requirement already satisfied: pandas>=0.23 in /usr/local/lib/python3.7/dist-packages (from seaborn->missingno) (1.1.5)\n",
            "Requirement already satisfied: pytz>=2017.2 in /usr/local/lib/python3.7/dist-packages (from pandas>=0.23->seaborn->missingno) (2018.9)\n"
          ]
        }
      ]
    },
    {
      "cell_type": "markdown",
      "metadata": {
        "id": "GrUI9clBoTcZ"
      },
      "source": [
        "### **Uploading and Reading the Dataset**\n",
        "\n",
        "**Ratings, Total Votes, imdb_id and popularity2 column has been added as the Additional Features in both**"
      ]
    },
    {
      "cell_type": "code",
      "metadata": {
        "colab": {
          "base_uri": "https://localhost:8080/"
        },
        "id": "5cBv9Ttg7jOF",
        "outputId": "68dbc389-2112-4c00-b142-1adc70bf562d"
      },
      "source": [
        "from google.colab import drive\n",
        "drive.mount('/content/drive')"
      ],
      "execution_count": null,
      "outputs": [
        {
          "output_type": "stream",
          "name": "stdout",
          "text": [
            "Mounted at /content/drive\n"
          ]
        }
      ]
    },
    {
      "cell_type": "code",
      "metadata": {
        "execution": {
          "iopub.status.busy": "2021-11-05T19:19:48.869581Z",
          "iopub.execute_input": "2021-11-05T19:19:48.869956Z",
          "iopub.status.idle": "2021-11-05T19:19:50.483376Z",
          "shell.execute_reply.started": "2021-11-05T19:19:48.869897Z",
          "shell.execute_reply": "2021-11-05T19:19:50.482438Z"
        },
        "trusted": true,
        "id": "HS3lZ9c041-9"
      },
      "source": [
        "train = pd.read_csv('/content/drive/MyDrive/Dataset/train.csv')\n",
        "test = pd.read_csv('/content/drive/MyDrive/Dataset/test.csv')\n",
        "train_extra = pd.read_csv('/content/drive/MyDrive/Dataset/TrainAdditionalFeatures.csv')\n",
        "test_extra = pd.read_csv('/content/drive/MyDrive/Dataset/TestAdditionalFeatures.csv')\n",
        "\n",
        "train = pd.merge(train, train_extra, how='left', on=['imdb_id'])\n",
        "test = pd.merge(test, test_extra, how='left', on=['imdb_id'])\n",
        "\n"
      ],
      "execution_count": null,
      "outputs": []
    },
    {
      "cell_type": "markdown",
      "metadata": {
        "id": "Ellw-CUR41-9"
      },
      "source": [
        "**Loading the dataset, Train and Test\n",
        "I have also added additional features from an external source (both test and train)**\n",
        "\n",
        "**Note: When the data is in the local machine, it is easier to load. The data was however loaded through GitHub link and it might take a while :)**\n"
      ]
    },
    {
      "cell_type": "markdown",
      "metadata": {
        "id": "x8yEqPMYxj8t"
      },
      "source": [
        "# **Data Preprocessing and Cleaning**\n",
        "\n",
        "**The Train dataset has 3000 observations in it and 26 columns which is a mix between categorical and numeric values.**\n",
        "\n",
        "**The Test dataset has 4398 observations in it and 25 columns which is a mix between categorical and numeric values.**"
      ]
    },
    {
      "cell_type": "code",
      "metadata": {
        "execution": {
          "iopub.status.busy": "2021-11-05T19:19:53.044172Z",
          "iopub.execute_input": "2021-11-05T19:19:53.044488Z",
          "iopub.status.idle": "2021-11-05T19:19:53.055741Z",
          "shell.execute_reply.started": "2021-11-05T19:19:53.044458Z",
          "shell.execute_reply": "2021-11-05T19:19:53.054945Z"
        },
        "trusted": true,
        "colab": {
          "base_uri": "https://localhost:8080/"
        },
        "id": "1ebgTbap41--",
        "outputId": "f0c486e5-3f41-4693-b03d-4436bbe928a6"
      },
      "source": [
        "train.shape, test.shape"
      ],
      "execution_count": null,
      "outputs": [
        {
          "output_type": "execute_result",
          "data": {
            "text/plain": [
              "((3000, 26), (4398, 25))"
            ]
          },
          "metadata": {},
          "execution_count": 5
        }
      ]
    },
    {
      "cell_type": "markdown",
      "metadata": {
        "id": "6-dtDLLe3u_s"
      },
      "source": [
        "**The Additional Train dataset has 2887 observations in it and 4 columns which is a mix between categorical and numeric values.**\n",
        "\n",
        "**The Additional Test dataset has 4398 observations in it and 25 columns which is a mix between categorical and numeric values.**"
      ]
    },
    {
      "cell_type": "code",
      "metadata": {
        "execution": {
          "iopub.status.busy": "2021-11-05T19:19:54.131202Z",
          "iopub.execute_input": "2021-11-05T19:19:54.131538Z",
          "iopub.status.idle": "2021-11-05T19:19:54.137174Z",
          "shell.execute_reply.started": "2021-11-05T19:19:54.131510Z",
          "shell.execute_reply": "2021-11-05T19:19:54.136159Z"
        },
        "trusted": true,
        "colab": {
          "base_uri": "https://localhost:8080/"
        },
        "id": "-3tz0SUL41--",
        "outputId": "680fd4b1-b224-4c48-de83-dd300f65b476"
      },
      "source": [
        "train_extra.shape, test_extra.shape"
      ],
      "execution_count": null,
      "outputs": [
        {
          "output_type": "execute_result",
          "data": {
            "text/plain": [
              "((2887, 4), (4232, 4))"
            ]
          },
          "metadata": {},
          "execution_count": 6
        }
      ]
    },
    {
      "cell_type": "code",
      "metadata": {
        "execution": {
          "iopub.status.busy": "2021-11-05T19:19:54.478857Z",
          "iopub.execute_input": "2021-11-05T19:19:54.479163Z",
          "iopub.status.idle": "2021-11-05T19:19:54.511123Z",
          "shell.execute_reply.started": "2021-11-05T19:19:54.479135Z",
          "shell.execute_reply": "2021-11-05T19:19:54.510029Z"
        },
        "trusted": true,
        "colab": {
          "base_uri": "https://localhost:8080/",
          "height": 638
        },
        "id": "eavHFGhb41-_",
        "outputId": "04af79c4-eab2-4f68-d741-2f574f561d71"
      },
      "source": [
        "train.head()"
      ],
      "execution_count": null,
      "outputs": [
        {
          "output_type": "execute_result",
          "data": {
            "text/html": [
              "<div>\n",
              "<style scoped>\n",
              "    .dataframe tbody tr th:only-of-type {\n",
              "        vertical-align: middle;\n",
              "    }\n",
              "\n",
              "    .dataframe tbody tr th {\n",
              "        vertical-align: top;\n",
              "    }\n",
              "\n",
              "    .dataframe thead th {\n",
              "        text-align: right;\n",
              "    }\n",
              "</style>\n",
              "<table border=\"1\" class=\"dataframe\">\n",
              "  <thead>\n",
              "    <tr style=\"text-align: right;\">\n",
              "      <th></th>\n",
              "      <th>id</th>\n",
              "      <th>belongs_to_collection</th>\n",
              "      <th>budget</th>\n",
              "      <th>genres</th>\n",
              "      <th>homepage</th>\n",
              "      <th>imdb_id</th>\n",
              "      <th>original_language</th>\n",
              "      <th>original_title</th>\n",
              "      <th>overview</th>\n",
              "      <th>popularity</th>\n",
              "      <th>poster_path</th>\n",
              "      <th>production_companies</th>\n",
              "      <th>production_countries</th>\n",
              "      <th>release_date</th>\n",
              "      <th>runtime</th>\n",
              "      <th>spoken_languages</th>\n",
              "      <th>status</th>\n",
              "      <th>tagline</th>\n",
              "      <th>title</th>\n",
              "      <th>Keywords</th>\n",
              "      <th>cast</th>\n",
              "      <th>crew</th>\n",
              "      <th>revenue</th>\n",
              "      <th>popularity2</th>\n",
              "      <th>rating</th>\n",
              "      <th>totalVotes</th>\n",
              "    </tr>\n",
              "  </thead>\n",
              "  <tbody>\n",
              "    <tr>\n",
              "      <th>0</th>\n",
              "      <td>1</td>\n",
              "      <td>[{'id': 313576, 'name': 'Hot Tub Time Machine ...</td>\n",
              "      <td>14000000</td>\n",
              "      <td>[{'id': 35, 'name': 'Comedy'}]</td>\n",
              "      <td>NaN</td>\n",
              "      <td>tt2637294</td>\n",
              "      <td>en</td>\n",
              "      <td>Hot Tub Time Machine 2</td>\n",
              "      <td>When Lou, who has become the \"father of the In...</td>\n",
              "      <td>6.575393</td>\n",
              "      <td>/tQtWuwvMf0hCc2QR2tkolwl7c3c.jpg</td>\n",
              "      <td>[{'name': 'Paramount Pictures', 'id': 4}, {'na...</td>\n",
              "      <td>[{'iso_3166_1': 'US', 'name': 'United States o...</td>\n",
              "      <td>2/20/15</td>\n",
              "      <td>93.0</td>\n",
              "      <td>[{'iso_639_1': 'en', 'name': 'English'}]</td>\n",
              "      <td>Released</td>\n",
              "      <td>The Laws of Space and Time are About to be Vio...</td>\n",
              "      <td>Hot Tub Time Machine 2</td>\n",
              "      <td>[{'id': 4379, 'name': 'time travel'}, {'id': 9...</td>\n",
              "      <td>[{'cast_id': 4, 'character': 'Lou', 'credit_id...</td>\n",
              "      <td>[{'credit_id': '59ac067c92514107af02c8c8', 'de...</td>\n",
              "      <td>12314651</td>\n",
              "      <td>10.400</td>\n",
              "      <td>5.0</td>\n",
              "      <td>482.0</td>\n",
              "    </tr>\n",
              "    <tr>\n",
              "      <th>1</th>\n",
              "      <td>2</td>\n",
              "      <td>[{'id': 107674, 'name': 'The Princess Diaries ...</td>\n",
              "      <td>40000000</td>\n",
              "      <td>[{'id': 35, 'name': 'Comedy'}, {'id': 18, 'nam...</td>\n",
              "      <td>NaN</td>\n",
              "      <td>tt0368933</td>\n",
              "      <td>en</td>\n",
              "      <td>The Princess Diaries 2: Royal Engagement</td>\n",
              "      <td>Mia Thermopolis is now a college graduate and ...</td>\n",
              "      <td>8.248895</td>\n",
              "      <td>/w9Z7A0GHEhIp7etpj0vyKOeU1Wx.jpg</td>\n",
              "      <td>[{'name': 'Walt Disney Pictures', 'id': 2}]</td>\n",
              "      <td>[{'iso_3166_1': 'US', 'name': 'United States o...</td>\n",
              "      <td>8/6/04</td>\n",
              "      <td>113.0</td>\n",
              "      <td>[{'iso_639_1': 'en', 'name': 'English'}]</td>\n",
              "      <td>Released</td>\n",
              "      <td>It can take a lifetime to find true love; she'...</td>\n",
              "      <td>The Princess Diaries 2: Royal Engagement</td>\n",
              "      <td>[{'id': 2505, 'name': 'coronation'}, {'id': 42...</td>\n",
              "      <td>[{'cast_id': 1, 'character': 'Mia Thermopolis'...</td>\n",
              "      <td>[{'credit_id': '52fe43fe9251416c7502563d', 'de...</td>\n",
              "      <td>95149435</td>\n",
              "      <td>15.229</td>\n",
              "      <td>6.4</td>\n",
              "      <td>1528.0</td>\n",
              "    </tr>\n",
              "    <tr>\n",
              "      <th>2</th>\n",
              "      <td>3</td>\n",
              "      <td>NaN</td>\n",
              "      <td>3300000</td>\n",
              "      <td>[{'id': 18, 'name': 'Drama'}]</td>\n",
              "      <td>http://sonyclassics.com/whiplash/</td>\n",
              "      <td>tt2582802</td>\n",
              "      <td>en</td>\n",
              "      <td>Whiplash</td>\n",
              "      <td>Under the direction of a ruthless instructor, ...</td>\n",
              "      <td>64.299990</td>\n",
              "      <td>/lIv1QinFqz4dlp5U4lQ6HaiskOZ.jpg</td>\n",
              "      <td>[{'name': 'Bold Films', 'id': 2266}, {'name': ...</td>\n",
              "      <td>[{'iso_3166_1': 'US', 'name': 'United States o...</td>\n",
              "      <td>10/10/14</td>\n",
              "      <td>105.0</td>\n",
              "      <td>[{'iso_639_1': 'en', 'name': 'English'}]</td>\n",
              "      <td>Released</td>\n",
              "      <td>The road to greatness can take you to the edge.</td>\n",
              "      <td>Whiplash</td>\n",
              "      <td>[{'id': 1416, 'name': 'jazz'}, {'id': 1523, 'n...</td>\n",
              "      <td>[{'cast_id': 5, 'character': 'Andrew Neimann',...</td>\n",
              "      <td>[{'credit_id': '54d5356ec3a3683ba0000039', 'de...</td>\n",
              "      <td>13092000</td>\n",
              "      <td>26.082</td>\n",
              "      <td>8.4</td>\n",
              "      <td>7314.0</td>\n",
              "    </tr>\n",
              "    <tr>\n",
              "      <th>3</th>\n",
              "      <td>4</td>\n",
              "      <td>NaN</td>\n",
              "      <td>1200000</td>\n",
              "      <td>[{'id': 53, 'name': 'Thriller'}, {'id': 18, 'n...</td>\n",
              "      <td>http://kahaanithefilm.com/</td>\n",
              "      <td>tt1821480</td>\n",
              "      <td>hi</td>\n",
              "      <td>Kahaani</td>\n",
              "      <td>Vidya Bagchi (Vidya Balan) arrives in Kolkata ...</td>\n",
              "      <td>3.174936</td>\n",
              "      <td>/aTXRaPrWSinhcmCrcfJK17urp3F.jpg</td>\n",
              "      <td>NaN</td>\n",
              "      <td>[{'iso_3166_1': 'IN', 'name': 'India'}]</td>\n",
              "      <td>3/9/12</td>\n",
              "      <td>122.0</td>\n",
              "      <td>[{'iso_639_1': 'en', 'name': 'English'}, {'iso...</td>\n",
              "      <td>Released</td>\n",
              "      <td>NaN</td>\n",
              "      <td>Kahaani</td>\n",
              "      <td>[{'id': 10092, 'name': 'mystery'}, {'id': 1054...</td>\n",
              "      <td>[{'cast_id': 1, 'character': 'Vidya Bagchi', '...</td>\n",
              "      <td>[{'credit_id': '52fe48779251416c9108d6eb', 'de...</td>\n",
              "      <td>16000000</td>\n",
              "      <td>5.531</td>\n",
              "      <td>7.5</td>\n",
              "      <td>115.0</td>\n",
              "    </tr>\n",
              "    <tr>\n",
              "      <th>4</th>\n",
              "      <td>5</td>\n",
              "      <td>NaN</td>\n",
              "      <td>0</td>\n",
              "      <td>[{'id': 28, 'name': 'Action'}, {'id': 53, 'nam...</td>\n",
              "      <td>NaN</td>\n",
              "      <td>tt1380152</td>\n",
              "      <td>ko</td>\n",
              "      <td>마린보이</td>\n",
              "      <td>Marine Boy is the story of a former national s...</td>\n",
              "      <td>1.148070</td>\n",
              "      <td>/m22s7zvkVFDU9ir56PiiqIEWFdT.jpg</td>\n",
              "      <td>NaN</td>\n",
              "      <td>[{'iso_3166_1': 'KR', 'name': 'South Korea'}]</td>\n",
              "      <td>2/5/09</td>\n",
              "      <td>118.0</td>\n",
              "      <td>[{'iso_639_1': 'ko', 'name': '한국어/조선말'}]</td>\n",
              "      <td>Released</td>\n",
              "      <td>NaN</td>\n",
              "      <td>Marine Boy</td>\n",
              "      <td>NaN</td>\n",
              "      <td>[{'cast_id': 3, 'character': 'Chun-soo', 'cred...</td>\n",
              "      <td>[{'credit_id': '52fe464b9251416c75073b43', 'de...</td>\n",
              "      <td>3923970</td>\n",
              "      <td>NaN</td>\n",
              "      <td>NaN</td>\n",
              "      <td>NaN</td>\n",
              "    </tr>\n",
              "  </tbody>\n",
              "</table>\n",
              "</div>"
            ],
            "text/plain": [
              "   id                              belongs_to_collection  ...  rating totalVotes\n",
              "0   1  [{'id': 313576, 'name': 'Hot Tub Time Machine ...  ...     5.0      482.0\n",
              "1   2  [{'id': 107674, 'name': 'The Princess Diaries ...  ...     6.4     1528.0\n",
              "2   3                                                NaN  ...     8.4     7314.0\n",
              "3   4                                                NaN  ...     7.5      115.0\n",
              "4   5                                                NaN  ...     NaN        NaN\n",
              "\n",
              "[5 rows x 26 columns]"
            ]
          },
          "metadata": {},
          "execution_count": 7
        }
      ]
    },
    {
      "cell_type": "code",
      "metadata": {
        "execution": {
          "iopub.status.busy": "2021-11-05T19:19:55.036816Z",
          "iopub.execute_input": "2021-11-05T19:19:55.037152Z",
          "iopub.status.idle": "2021-11-05T19:19:55.134646Z",
          "shell.execute_reply.started": "2021-11-05T19:19:55.037123Z",
          "shell.execute_reply": "2021-11-05T19:19:55.133859Z"
        },
        "trusted": true,
        "colab": {
          "base_uri": "https://localhost:8080/"
        },
        "id": "TTyuZ78C41_A",
        "outputId": "b291cf43-70ed-4450-dea3-f47ce8e4f7a2"
      },
      "source": [
        "sum(train.duplicated()), sum(test.duplicated())"
      ],
      "execution_count": null,
      "outputs": [
        {
          "output_type": "execute_result",
          "data": {
            "text/plain": [
              "(0, 0)"
            ]
          },
          "metadata": {},
          "execution_count": 8
        }
      ]
    },
    {
      "cell_type": "markdown",
      "metadata": {
        "id": "gqXpcCgU4srj"
      },
      "source": [
        "**Checking the duplicates**"
      ]
    },
    {
      "cell_type": "markdown",
      "metadata": {
        "id": "F8xVun6I41_A"
      },
      "source": [
        "**Fixing the values that were missing/wrong for the complete dataset\n",
        "These were pre-released in the discussion section**"
      ]
    },
    {
      "cell_type": "code",
      "metadata": {
        "execution": {
          "iopub.status.busy": "2021-11-05T19:19:55.433102Z",
          "iopub.execute_input": "2021-11-05T19:19:55.433422Z"
        },
        "trusted": true,
        "id": "BENynL3v41_B"
      },
      "source": [
        "train.loc[train['id'] == 16,'revenue'] = 192864          # Skinning\n",
        "train.loc[train['id'] == 90,'budget'] = 30000000         # Sommersby          \n",
        "train.loc[train['id'] == 118,'budget'] = 60000000        # Wild Hogs\n",
        "train.loc[train['id'] == 149,'budget'] = 18000000        # Beethoven\n",
        "train.loc[train['id'] == 313,'revenue'] = 12000000       # The Cookout \n",
        "train.loc[train['id'] == 451,'revenue'] = 12000000       # Chasing Liberty\n",
        "train.loc[train['id'] == 464,'budget'] = 20000000        # Parenthood\n",
        "train.loc[train['id'] == 470,'budget'] = 13000000        # The Karate Kid, Part II\n",
        "train.loc[train['id'] == 513,'budget'] = 930000          # From Prada to Nada\n",
        "train.loc[train['id'] == 797,'budget'] = 8000000         # Welcome to Dongmakgol\n",
        "train.loc[train['id'] == 819,'budget'] = 90000000        # Alvin and the Chipmunks: The Road Chip\n",
        "train.loc[train['id'] == 850,'budget'] = 90000000        # Modern Times\n",
        "train.loc[train['id'] == 1007,'budget'] = 2              # Zyzzyx Road \n",
        "train.loc[train['id'] == 1112,'budget'] = 7500000        # An Officer and a Gentleman\n",
        "train.loc[train['id'] == 1131,'budget'] = 4300000        # Smokey and the Bandit   \n",
        "train.loc[train['id'] == 1359,'budget'] = 10000000       # Stir Crazy \n",
        "train.loc[train['id'] == 1542,'budget'] = 1              # All at Once\n",
        "train.loc[train['id'] == 1570,'budget'] = 15800000       # Crocodile Dundee II\n",
        "train.loc[train['id'] == 1571,'budget'] = 4000000        # Lady and the Tramp\n",
        "train.loc[train['id'] == 1714,'budget'] = 46000000       # The Recruit\n",
        "train.loc[train['id'] == 1721,'budget'] = 17500000       # Cocoon\n",
        "train.loc[train['id'] == 1865,'revenue'] = 25000000      # Scooby-Doo 2: Monsters Unleashed\n",
        "train.loc[train['id'] == 1885,'budget'] = 12             # In the Cut\n",
        "train.loc[train['id'] == 2091,'budget'] = 10             # Deadfall\n",
        "train.loc[train['id'] == 2268,'budget'] = 17500000       # Madea Goes to Jail budget\n",
        "train.loc[train['id'] == 2491,'budget'] = 6              # Never Talk to Strangers\n",
        "train.loc[train['id'] == 2602,'budget'] = 31000000       # Mr. Holland's Opus\n",
        "train.loc[train['id'] == 2612,'budget'] = 15000000       # Field of Dreams\n",
        "train.loc[train['id'] == 2696,'budget'] = 10000000       # Nurse 3-D\n",
        "train.loc[train['id'] == 2801,'budget'] = 10000000       # Fracture\n",
        "train.loc[train['id'] == 335,'budget'] = 2 \n",
        "train.loc[train['id'] == 348,'budget'] = 12\n",
        "train.loc[train['id'] == 470,'budget'] = 13000000 \n",
        "train.loc[train['id'] == 513,'budget'] = 1100000\n",
        "train.loc[train['id'] == 640,'budget'] = 6 \n",
        "train.loc[train['id'] == 696,'budget'] = 1\n",
        "train.loc[train['id'] == 797,'budget'] = 8000000 \n",
        "train.loc[train['id'] == 850,'budget'] = 1500000\n",
        "train.loc[train['id'] == 1199,'budget'] = 5 \n",
        "train.loc[train['id'] == 1282,'budget'] = 9               # Death at a Funeral\n",
        "train.loc[train['id'] == 1347,'budget'] = 1\n",
        "train.loc[train['id'] == 1755,'budget'] = 2\n",
        "train.loc[train['id'] == 1801,'budget'] = 5\n",
        "train.loc[train['id'] == 1918,'budget'] = 592 \n",
        "train.loc[train['id'] == 2033,'budget'] = 4\n",
        "train.loc[train['id'] == 2118,'budget'] = 344 \n",
        "train.loc[train['id'] == 2252,'budget'] = 130\n",
        "train.loc[train['id'] == 2256,'budget'] = 1 \n",
        "train.loc[train['id'] == 2696,'budget'] = 10000000\n",
        "\n",
        "\n",
        "test.loc[test['id'] == 6733,'budget'] = 5000000\n",
        "test.loc[test['id'] == 3889,'budget'] = 15000000\n",
        "test.loc[test['id'] == 6683,'budget'] = 50000000\n",
        "test.loc[test['id'] == 5704,'budget'] = 4300000\n",
        "test.loc[test['id'] == 6109,'budget'] = 281756\n",
        "test.loc[test['id'] == 7242,'budget'] = 10000000\n",
        "test.loc[test['id'] == 7021,'budget'] = 17540562       #  Two Is a Family\n",
        "test.loc[test['id'] == 5591,'budget'] = 4000000        # The Orphanage\n",
        "test.loc[test['id'] == 4282,'budget'] = 20000000       # Big Top Pee-wee\n",
        "test.loc[test['id'] == 3033,'budget'] = 250 \n",
        "test.loc[test['id'] == 3051,'budget'] = 50\n",
        "test.loc[test['id'] == 3084,'budget'] = 337\n",
        "test.loc[test['id'] == 3224,'budget'] = 4  \n",
        "test.loc[test['id'] == 3594,'budget'] = 25  \n",
        "test.loc[test['id'] == 3619,'budget'] = 500  \n",
        "test.loc[test['id'] == 3831,'budget'] = 3  \n",
        "test.loc[test['id'] == 3935,'budget'] = 500  \n",
        "test.loc[test['id'] == 4049,'budget'] = 995946 \n",
        "test.loc[test['id'] == 4424,'budget'] = 3  \n",
        "test.loc[test['id'] == 4460,'budget'] = 8  \n",
        "test.loc[test['id'] == 4555,'budget'] = 1200000 \n",
        "test.loc[test['id'] == 4624,'budget'] = 30 \n",
        "test.loc[test['id'] == 4645,'budget'] = 500 \n",
        "test.loc[test['id'] == 4709,'budget'] = 450 \n",
        "test.loc[test['id'] == 4839,'budget'] = 7\n",
        "test.loc[test['id'] == 3125,'budget'] = 25 \n",
        "test.loc[test['id'] == 3142,'budget'] = 1\n",
        "test.loc[test['id'] == 3201,'budget'] = 450\n",
        "test.loc[test['id'] == 3222,'budget'] = 6\n",
        "test.loc[test['id'] == 3545,'budget'] = 38\n",
        "test.loc[test['id'] == 3670,'budget'] = 18\n",
        "test.loc[test['id'] == 3792,'budget'] = 19\n",
        "test.loc[test['id'] == 3881,'budget'] = 7\n",
        "test.loc[test['id'] == 3969,'budget'] = 400\n",
        "test.loc[test['id'] == 4196,'budget'] = 6\n",
        "test.loc[test['id'] == 4221,'budget'] = 11\n",
        "test.loc[test['id'] == 4222,'budget'] = 500\n",
        "test.loc[test['id'] == 4285,'budget'] = 11\n",
        "test.loc[test['id'] == 4319,'budget'] = 1\n",
        "test.loc[test['id'] == 4639,'budget'] = 10\n",
        "test.loc[test['id'] == 4719,'budget'] = 45\n",
        "test.loc[test['id'] == 4822,'budget'] = 22\n",
        "test.loc[test['id'] == 4829,'budget'] = 20\n",
        "test.loc[test['id'] == 4969,'budget'] = 20\n",
        "test.loc[test['id'] == 5021,'budget'] = 40 \n",
        "test.loc[test['id'] == 5035,'budget'] = 1 \n",
        "test.loc[test['id'] == 5063,'budget'] = 14 \n",
        "test.loc[test['id'] == 5119,'budget'] = 2 \n",
        "test.loc[test['id'] == 5214,'budget'] = 30 \n",
        "test.loc[test['id'] == 5221,'budget'] = 50 \n",
        "test.loc[test['id'] == 4903,'budget'] = 15\n",
        "test.loc[test['id'] == 4983,'budget'] = 3\n",
        "test.loc[test['id'] == 5102,'budget'] = 28\n",
        "test.loc[test['id'] == 5217,'budget'] = 75\n",
        "test.loc[test['id'] == 5224,'budget'] = 3 \n",
        "test.loc[test['id'] == 5469,'budget'] = 20 \n",
        "test.loc[test['id'] == 5840,'budget'] = 1 \n",
        "test.loc[test['id'] == 5960,'budget'] = 30\n",
        "test.loc[test['id'] == 6506,'budget'] = 11 \n",
        "test.loc[test['id'] == 6553,'budget'] = 280\n",
        "test.loc[test['id'] == 6561,'budget'] = 7\n",
        "test.loc[test['id'] == 6582,'budget'] = 218\n",
        "test.loc[test['id'] == 6638,'budget'] = 5\n",
        "test.loc[test['id'] == 6749,'budget'] = 8 \n",
        "test.loc[test['id'] == 6759,'budget'] = 50 \n",
        "test.loc[test['id'] == 6856,'budget'] = 10\n",
        "test.loc[test['id'] == 6858,'budget'] =  100\n",
        "test.loc[test['id'] == 6876,'budget'] =  250\n",
        "test.loc[test['id'] == 6972,'budget'] = 1\n",
        "test.loc[test['id'] == 7079,'budget'] = 8000000\n",
        "test.loc[test['id'] == 7150,'budget'] = 118\n",
        "test.loc[test['id'] == 6506,'budget'] = 118\n",
        "test.loc[test['id'] == 7225,'budget'] = 6\n",
        "test.loc[test['id'] == 7231,'budget'] = 85\n",
        "test.loc[test['id'] == 5222,'budget'] = 5\n",
        "test.loc[test['id'] == 5322,'budget'] = 90\n",
        "test.loc[test['id'] == 5350,'budget'] = 70\n",
        "test.loc[test['id'] == 5378,'budget'] = 10\n",
        "test.loc[test['id'] == 5545,'budget'] = 80\n",
        "test.loc[test['id'] == 5810,'budget'] = 8\n",
        "test.loc[test['id'] == 5926,'budget'] = 300\n",
        "test.loc[test['id'] == 5927,'budget'] = 4\n",
        "test.loc[test['id'] == 5986,'budget'] = 1\n",
        "test.loc[test['id'] == 6053,'budget'] = 20\n",
        "test.loc[test['id'] == 6104,'budget'] = 1\n",
        "test.loc[test['id'] == 6130,'budget'] = 30\n",
        "test.loc[test['id'] == 6301,'budget'] = 150\n",
        "test.loc[test['id'] == 6276,'budget'] = 100\n",
        "test.loc[test['id'] == 6473,'budget'] = 100\n",
        "test.loc[test['id'] == 6842,'budget'] = 30"
      ],
      "execution_count": null,
      "outputs": []
    },
    {
      "cell_type": "markdown",
      "metadata": {
        "id": "whfJiJVy5Tix"
      },
      "source": [
        "**These are the predefined values for the null values in budget column**\n",
        "\n",
        "**These values has been added as per the discussion in the competition**"
      ]
    },
    {
      "cell_type": "code",
      "metadata": {
        "execution": {
          "iopub.status.busy": "2021-11-05T15:32:26.847118Z",
          "iopub.execute_input": "2021-11-05T15:32:26.847659Z",
          "iopub.status.idle": "2021-11-05T15:32:26.862031Z",
          "shell.execute_reply.started": "2021-11-05T15:32:26.847623Z",
          "shell.execute_reply": "2021-11-05T15:32:26.861223Z"
        },
        "trusted": true,
        "colab": {
          "base_uri": "https://localhost:8080/"
        },
        "id": "-yjdoQcb41_D",
        "outputId": "638f7a95-ed1e-49ff-932d-a0489fbe9d2e"
      },
      "source": [
        "train.isna().sum()"
      ],
      "execution_count": null,
      "outputs": [
        {
          "output_type": "execute_result",
          "data": {
            "text/plain": [
              "id                          0\n",
              "belongs_to_collection    2396\n",
              "budget                      0\n",
              "genres                      7\n",
              "homepage                 2054\n",
              "imdb_id                     0\n",
              "original_language           0\n",
              "original_title              0\n",
              "overview                    8\n",
              "popularity                  0\n",
              "poster_path                 1\n",
              "production_companies      156\n",
              "production_countries       55\n",
              "release_date                0\n",
              "runtime                     2\n",
              "spoken_languages           20\n",
              "status                      0\n",
              "tagline                   597\n",
              "title                       0\n",
              "Keywords                  276\n",
              "cast                       13\n",
              "crew                       16\n",
              "revenue                     0\n",
              "popularity2               118\n",
              "rating                    118\n",
              "totalVotes                118\n",
              "dtype: int64"
            ]
          },
          "metadata": {},
          "execution_count": 10
        }
      ]
    },
    {
      "cell_type": "markdown",
      "metadata": {
        "id": "Yke9vvKT5R0z"
      },
      "source": [
        "**Checking for null values for both train and test dataset**"
      ]
    },
    {
      "cell_type": "code",
      "metadata": {
        "execution": {
          "iopub.status.busy": "2021-11-05T15:32:26.864951Z",
          "iopub.execute_input": "2021-11-05T15:32:26.865395Z",
          "iopub.status.idle": "2021-11-05T15:32:26.880966Z",
          "shell.execute_reply.started": "2021-11-05T15:32:26.865366Z",
          "shell.execute_reply": "2021-11-05T15:32:26.879881Z"
        },
        "trusted": true,
        "colab": {
          "base_uri": "https://localhost:8080/"
        },
        "id": "zkGiDFz541_D",
        "outputId": "51d4fcbf-c70d-4726-971a-e878e6181c3e"
      },
      "source": [
        "test.isna().sum()"
      ],
      "execution_count": null,
      "outputs": [
        {
          "output_type": "execute_result",
          "data": {
            "text/plain": [
              "id                          0\n",
              "belongs_to_collection    3521\n",
              "budget                      0\n",
              "genres                     16\n",
              "homepage                 2978\n",
              "imdb_id                     0\n",
              "original_language           0\n",
              "original_title              0\n",
              "overview                   14\n",
              "popularity                  0\n",
              "poster_path                 1\n",
              "production_companies      258\n",
              "production_countries      102\n",
              "release_date                1\n",
              "runtime                     4\n",
              "spoken_languages           42\n",
              "status                      2\n",
              "tagline                   863\n",
              "title                       3\n",
              "Keywords                  393\n",
              "cast                       13\n",
              "crew                       22\n",
              "popularity2               179\n",
              "rating                    179\n",
              "totalVotes                179\n",
              "dtype: int64"
            ]
          },
          "metadata": {},
          "execution_count": 11
        }
      ]
    },
    {
      "cell_type": "code",
      "metadata": {
        "execution": {
          "iopub.status.busy": "2021-11-05T15:32:26.883147Z",
          "iopub.execute_input": "2021-11-05T15:32:26.883582Z",
          "iopub.status.idle": "2021-11-05T15:32:27.253837Z",
          "shell.execute_reply.started": "2021-11-05T15:32:26.883538Z",
          "shell.execute_reply": "2021-11-05T15:32:27.252997Z"
        },
        "trusted": true,
        "colab": {
          "base_uri": "https://localhost:8080/",
          "height": 513
        },
        "id": "kwp0dzxg41_D",
        "outputId": "0bf0531f-7013-4f08-94c9-8fe625e8c5d6"
      },
      "source": [
        "missing_values=train.isna().sum().sort_values(ascending=False)\n",
        "sns.barplot(missing_values[:10],missing_values[:10].index,palette=\"rocket\")\n",
        "plt.show()\n",
        "\n",
        "missing_values1=test.isna().sum().sort_values(ascending=False)\n",
        "sns.barplot(missing_values1[:10],missing_values1[:10].index,palette=\"rocket\")\n",
        "plt.show()"
      ],
      "execution_count": null,
      "outputs": [
        {
          "output_type": "display_data",
          "data": {
            "image/png": "[encoded data removed]",
            "text/plain": [
              "<Figure size 432x288 with 1 Axes>"
            ]
          },
          "metadata": {
            "needs_background": "light"
          }
        },
        {
          "output_type": "display_data",
          "data": {
            "image/png": "[encoded data removed]",
            "text/plain": [
              "<Figure size 432x288 with 1 Axes>"
            ]
          },
          "metadata": {
            "needs_background": "light"
          }
        }
      ]
    },
    {
      "cell_type": "markdown",
      "metadata": {
        "id": "QUvOrwWn5eOU"
      },
      "source": [
        "**Missing values has been plotted to get a clear picture of how many variables have missing values**"
      ]
    },
    {
      "cell_type": "code",
      "metadata": {
        "execution": {
          "iopub.status.busy": "2021-11-05T15:32:30.902894Z",
          "iopub.execute_input": "2021-11-05T15:32:30.90336Z",
          "iopub.status.idle": "2021-11-05T15:32:30.96493Z",
          "shell.execute_reply.started": "2021-11-05T15:32:30.903324Z",
          "shell.execute_reply": "2021-11-05T15:32:30.964079Z"
        },
        "trusted": true,
        "colab": {
          "base_uri": "https://localhost:8080/",
          "height": 319
        },
        "id": "jRUgxOe641_F",
        "outputId": "60cf4a4e-0b93-4061-c82b-f0f5f70ac820"
      },
      "source": [
        "train.describe()"
      ],
      "execution_count": null,
      "outputs": [
        {
          "output_type": "execute_result",
          "data": {
            "text/html": [
              "<div>\n",
              "<style scoped>\n",
              "    .dataframe tbody tr th:only-of-type {\n",
              "        vertical-align: middle;\n",
              "    }\n",
              "\n",
              "    .dataframe tbody tr th {\n",
              "        vertical-align: top;\n",
              "    }\n",
              "\n",
              "    .dataframe thead th {\n",
              "        text-align: right;\n",
              "    }\n",
              "</style>\n",
              "<table border=\"1\" class=\"dataframe\">\n",
              "  <thead>\n",
              "    <tr style=\"text-align: right;\">\n",
              "      <th></th>\n",
              "      <th>id</th>\n",
              "      <th>budget</th>\n",
              "      <th>homepage</th>\n",
              "      <th>popularity</th>\n",
              "      <th>runtime</th>\n",
              "      <th>revenue</th>\n",
              "      <th>rating</th>\n",
              "      <th>totalVotes</th>\n",
              "      <th>release_year</th>\n",
              "      <th>release_month</th>\n",
              "      <th>release_day</th>\n",
              "      <th>numberofgenres</th>\n",
              "      <th>lang_english</th>\n",
              "      <th>bud_runtime</th>\n",
              "      <th>bud_year</th>\n",
              "      <th>bud_popularity</th>\n",
              "      <th>runtime_year</th>\n",
              "      <th>popularity_year</th>\n",
              "    </tr>\n",
              "  </thead>\n",
              "  <tbody>\n",
              "    <tr>\n",
              "      <th>count</th>\n",
              "      <td>2840.000000</td>\n",
              "      <td>2840.000000</td>\n",
              "      <td>2840.000000</td>\n",
              "      <td>2840.000000</td>\n",
              "      <td>2840.000000</td>\n",
              "      <td>2840.000000</td>\n",
              "      <td>2840.000000</td>\n",
              "      <td>2840.000000</td>\n",
              "      <td>2840.000000</td>\n",
              "      <td>2840.000000</td>\n",
              "      <td>2840.000000</td>\n",
              "      <td>2840.000000</td>\n",
              "      <td>2840.000000</td>\n",
              "      <td>2.840000e+03</td>\n",
              "      <td>2840.000000</td>\n",
              "      <td>2.840000e+03</td>\n",
              "      <td>2840.000000</td>\n",
              "      <td>2840.000000</td>\n",
              "    </tr>\n",
              "    <tr>\n",
              "      <th>mean</th>\n",
              "      <td>1499.569014</td>\n",
              "      <td>11.990195</td>\n",
              "      <td>0.332042</td>\n",
              "      <td>8.573721</td>\n",
              "      <td>107.309054</td>\n",
              "      <td>16.031640</td>\n",
              "      <td>6.322239</td>\n",
              "      <td>966.016549</td>\n",
              "      <td>2002.297535</td>\n",
              "      <td>6.742958</td>\n",
              "      <td>3.305634</td>\n",
              "      <td>2.502113</td>\n",
              "      <td>0.855634</td>\n",
              "      <td>2.201377e+05</td>\n",
              "      <td>11836.425060</td>\n",
              "      <td>2.391353e+06</td>\n",
              "      <td>0.054065</td>\n",
              "      <td>0.004775</td>\n",
              "    </tr>\n",
              "    <tr>\n",
              "      <th>std</th>\n",
              "      <td>868.290215</td>\n",
              "      <td>7.471043</td>\n",
              "      <td>0.471029</td>\n",
              "      <td>12.390547</td>\n",
              "      <td>21.249041</td>\n",
              "      <td>3.018458</td>\n",
              "      <td>0.853994</td>\n",
              "      <td>1798.452339</td>\n",
              "      <td>10.802619</td>\n",
              "      <td>3.400079</td>\n",
              "      <td>1.276044</td>\n",
              "      <td>1.117599</td>\n",
              "      <td>0.351523</td>\n",
              "      <td>4.211415e+05</td>\n",
              "      <td>18779.709030</td>\n",
              "      <td>4.253962e+06</td>\n",
              "      <td>0.010598</td>\n",
              "      <td>0.006147</td>\n",
              "    </tr>\n",
              "    <tr>\n",
              "      <th>min</th>\n",
              "      <td>1.000000</td>\n",
              "      <td>0.000000</td>\n",
              "      <td>0.000000</td>\n",
              "      <td>0.000001</td>\n",
              "      <td>0.000000</td>\n",
              "      <td>0.693147</td>\n",
              "      <td>1.000000</td>\n",
              "      <td>1.000000</td>\n",
              "      <td>1971.000000</td>\n",
              "      <td>1.000000</td>\n",
              "      <td>0.000000</td>\n",
              "      <td>0.000000</td>\n",
              "      <td>0.000000</td>\n",
              "      <td>5.291005e-03</td>\n",
              "      <td>0.000496</td>\n",
              "      <td>2.598444e-02</td>\n",
              "      <td>0.000496</td>\n",
              "      <td>0.000500</td>\n",
              "    </tr>\n",
              "    <tr>\n",
              "      <th>25%</th>\n",
              "      <td>752.750000</td>\n",
              "      <td>0.000000</td>\n",
              "      <td>0.000000</td>\n",
              "      <td>4.133600</td>\n",
              "      <td>94.000000</td>\n",
              "      <td>14.714884</td>\n",
              "      <td>5.800000</td>\n",
              "      <td>90.000000</td>\n",
              "      <td>1995.000000</td>\n",
              "      <td>4.000000</td>\n",
              "      <td>3.000000</td>\n",
              "      <td>2.000000</td>\n",
              "      <td>1.000000</td>\n",
              "      <td>1.190476e-02</td>\n",
              "      <td>0.000504</td>\n",
              "      <td>7.030674e-01</td>\n",
              "      <td>0.047619</td>\n",
              "      <td>0.002564</td>\n",
              "    </tr>\n",
              "    <tr>\n",
              "      <th>50%</th>\n",
              "      <td>1500.500000</td>\n",
              "      <td>16.072038</td>\n",
              "      <td>0.000000</td>\n",
              "      <td>7.428286</td>\n",
              "      <td>104.000000</td>\n",
              "      <td>16.704229</td>\n",
              "      <td>6.366308</td>\n",
              "      <td>337.000000</td>\n",
              "      <td>2005.000000</td>\n",
              "      <td>7.000000</td>\n",
              "      <td>4.000000</td>\n",
              "      <td>2.000000</td>\n",
              "      <td>1.000000</td>\n",
              "      <td>8.910892e+04</td>\n",
              "      <td>4742.961828</td>\n",
              "      <td>1.134663e+06</td>\n",
              "      <td>0.052369</td>\n",
              "      <td>0.004215</td>\n",
              "    </tr>\n",
              "    <tr>\n",
              "      <th>75%</th>\n",
              "      <td>2255.250000</td>\n",
              "      <td>17.216708</td>\n",
              "      <td>1.000000</td>\n",
              "      <td>10.940463</td>\n",
              "      <td>117.000000</td>\n",
              "      <td>18.108662</td>\n",
              "      <td>6.900000</td>\n",
              "      <td>934.000000</td>\n",
              "      <td>2011.000000</td>\n",
              "      <td>10.000000</td>\n",
              "      <td>4.000000</td>\n",
              "      <td>3.000000</td>\n",
              "      <td>1.000000</td>\n",
              "      <td>2.806687e+05</td>\n",
              "      <td>14977.534199</td>\n",
              "      <td>3.306451e+06</td>\n",
              "      <td>0.059028</td>\n",
              "      <td>0.005956</td>\n",
              "    </tr>\n",
              "    <tr>\n",
              "      <th>max</th>\n",
              "      <td>3000.000000</td>\n",
              "      <td>19.755682</td>\n",
              "      <td>1.000000</td>\n",
              "      <td>294.337037</td>\n",
              "      <td>338.000000</td>\n",
              "      <td>21.141685</td>\n",
              "      <td>9.000000</td>\n",
              "      <td>18931.000000</td>\n",
              "      <td>2017.000000</td>\n",
              "      <td>12.000000</td>\n",
              "      <td>6.000000</td>\n",
              "      <td>7.000000</td>\n",
              "      <td>1.000000</td>\n",
              "      <td>1.100000e+07</td>\n",
              "      <td>188866.799702</td>\n",
              "      <td>1.124231e+08</td>\n",
              "      <td>0.168573</td>\n",
              "      <td>0.146351</td>\n",
              "    </tr>\n",
              "  </tbody>\n",
              "</table>\n",
              "</div>"
            ],
            "text/plain": [
              "                id       budget  ...  runtime_year  popularity_year\n",
              "count  2840.000000  2840.000000  ...   2840.000000      2840.000000\n",
              "mean   1499.569014    11.990195  ...      0.054065         0.004775\n",
              "std     868.290215     7.471043  ...      0.010598         0.006147\n",
              "min       1.000000     0.000000  ...      0.000496         0.000500\n",
              "25%     752.750000     0.000000  ...      0.047619         0.002564\n",
              "50%    1500.500000    16.072038  ...      0.052369         0.004215\n",
              "75%    2255.250000    17.216708  ...      0.059028         0.005956\n",
              "max    3000.000000    19.755682  ...      0.168573         0.146351\n",
              "\n",
              "[8 rows x 18 columns]"
            ]
          },
          "metadata": {},
          "execution_count": 102
        }
      ]
    },
    {
      "cell_type": "markdown",
      "metadata": {
        "id": "mriIqNrA532C"
      },
      "source": [
        "**Here we can see the min rating of the movie is 1 and the maximum rating any movie have got is 9**\n",
        "\n",
        "**The minimum total votes any movie has got is 1 whereas the maximum votes any movie has got is 18931**\n",
        "\n",
        "**It only describes about the numerical columns present in the dataset, but there are many dictionary columns too which we are going to see ahead**"
      ]
    },
    {
      "cell_type": "code",
      "metadata": {
        "execution": {
          "iopub.status.busy": "2021-11-05T15:32:30.968797Z",
          "iopub.execute_input": "2021-11-05T15:32:30.97093Z",
          "iopub.status.idle": "2021-11-05T15:32:42.8498Z",
          "shell.execute_reply.started": "2021-11-05T15:32:30.97089Z",
          "shell.execute_reply": "2021-11-05T15:32:42.848789Z"
        },
        "trusted": true,
        "id": "5XJog-Ul41_F"
      },
      "source": [
        "dict_columns = ['belongs_to_collection', 'genres', 'production_companies',\n",
        "                'production_countries', 'spoken_languages', 'Keywords', 'cast', 'crew']\n",
        "\n",
        "def text_to_dict(df):\n",
        "    for column in dict_columns:\n",
        "        df[column] = df[column].apply(lambda x: {} if pd.isna(x) else ast.literal_eval(x) )\n",
        "    return df\n",
        "        \n",
        "train = text_to_dict(train)\n",
        "test = text_to_dict(test)"
      ],
      "execution_count": null,
      "outputs": []
    },
    {
      "cell_type": "markdown",
      "metadata": {
        "id": "yigD1cOK73wl"
      },
      "source": [
        "**Here we are converting various columns which are in JSON format in to dictionary**"
      ]
    },
    {
      "cell_type": "code",
      "metadata": {
        "execution": {
          "iopub.status.busy": "2021-11-05T15:32:42.851369Z",
          "iopub.execute_input": "2021-11-05T15:32:42.851712Z",
          "iopub.status.idle": "2021-11-05T15:32:42.871558Z",
          "shell.execute_reply.started": "2021-11-05T15:32:42.851675Z",
          "shell.execute_reply": "2021-11-05T15:32:42.870634Z"
        },
        "trusted": true,
        "colab": {
          "base_uri": "https://localhost:8080/"
        },
        "id": "KSF3xsE441_G",
        "outputId": "fcfeba32-ab53-4d12-e308-0e85cce5e0f5"
      },
      "source": [
        "for count,value in enumerate(train['belongs_to_collection'][:2]):\n",
        "    print(count,value)\n",
        "\n",
        "for count,value in enumerate(test['genres'][:2]):\n",
        "    print(count,value)\n",
        "    \n",
        "for count,value in enumerate(train['genres'][:2]):\n",
        "    print(count,value)\n",
        "    \n",
        "for count,value in enumerate(train['spoken_languages'][:2]):\n",
        "    print(count,value)\n",
        "    \n",
        "for count,value in enumerate(train['Keywords'][:2]):\n",
        "    print(count,value)\n",
        "    \n",
        "for count,value in enumerate(train['production_countries'][:2]):\n",
        "    print(count,value)\n",
        "    \n",
        "for count,value in enumerate(train['production_companies'][:2]):\n",
        "    print(count,value)\n",
        "    \n",
        "for count,value in enumerate(train['cast'][:2]):\n",
        "    print(count,value)\n",
        "    \n",
        "for count,value in enumerate(train['crew'][:2]):\n",
        "    print(count,value)"
      ],
      "execution_count": null,
      "outputs": [
        {
          "output_type": "stream",
          "name": "stdout",
          "text": [
            "0 [{'id': 313576, 'name': 'Hot Tub Time Machine Collection', 'poster_path': '/iEhb00TGPucF0b4joM1ieyY026U.jpg', 'backdrop_path': '/noeTVcgpBiD48fDjFVic1Vz7ope.jpg'}]\n",
            "1 [{'id': 107674, 'name': 'The Princess Diaries Collection', 'poster_path': '/wt5AMbxPTS4Kfjx7Fgm149qPfZl.jpg', 'backdrop_path': '/zSEtYD77pKRJlUPx34BJgUG9v1c.jpg'}]\n",
            "0 [{'id': 12, 'name': 'Adventure'}, {'id': 16, 'name': 'Animation'}, {'id': 10751, 'name': 'Family'}, {'id': 14, 'name': 'Fantasy'}]\n",
            "1 [{'id': 27, 'name': 'Horror'}, {'id': 878, 'name': 'Science Fiction'}]\n",
            "0 [{'id': 35, 'name': 'Comedy'}]\n",
            "1 [{'id': 35, 'name': 'Comedy'}, {'id': 18, 'name': 'Drama'}, {'id': 10751, 'name': 'Family'}, {'id': 10749, 'name': 'Romance'}]\n",
            "0 [{'iso_639_1': 'en', 'name': 'English'}]\n",
            "1 [{'iso_639_1': 'en', 'name': 'English'}]\n",
            "0 [{'id': 4379, 'name': 'time travel'}, {'id': 9663, 'name': 'sequel'}, {'id': 11830, 'name': 'hot tub'}, {'id': 179431, 'name': 'duringcreditsstinger'}]\n",
            "1 [{'id': 2505, 'name': 'coronation'}, {'id': 4263, 'name': 'duty'}, {'id': 6038, 'name': 'marriage'}, {'id': 13072, 'name': 'falling in love'}]\n",
            "0 [{'iso_3166_1': 'US', 'name': 'United States of America'}]\n",
            "1 [{'iso_3166_1': 'US', 'name': 'United States of America'}]\n",
            "0 [{'name': 'Paramount Pictures', 'id': 4}, {'name': 'United Artists', 'id': 60}, {'name': 'Metro-Goldwyn-Mayer (MGM)', 'id': 8411}]\n",
            "1 [{'name': 'Walt Disney Pictures', 'id': 2}]\n",
            "0 [{'cast_id': 4, 'character': 'Lou', 'credit_id': '52fe4ee7c3a36847f82afae7', 'gender': 2, 'id': 52997, 'name': 'Rob Corddry', 'order': 0, 'profile_path': '/k2zJL0V1nEZuFT08xUdOd3ucfXz.jpg'}, {'cast_id': 5, 'character': 'Nick', 'credit_id': '52fe4ee7c3a36847f82afaeb', 'gender': 2, 'id': 64342, 'name': 'Craig Robinson', 'order': 1, 'profile_path': '/tVaRMkJXOEVhYxtnnFuhqW0Rjzz.jpg'}, {'cast_id': 6, 'character': 'Jacob', 'credit_id': '52fe4ee7c3a36847f82afaef', 'gender': 2, 'id': 54729, 'name': 'Clark Duke', 'order': 2, 'profile_path': '/oNzK0umwm5Wn0wyEbOy6TVJCSBn.jpg'}, {'cast_id': 7, 'character': 'Adam Jr.', 'credit_id': '52fe4ee7c3a36847f82afaf3', 'gender': 2, 'id': 36801, 'name': 'Adam Scott', 'order': 3, 'profile_path': '/5gb65xz8bzd42yjMAl4zwo4cvKw.jpg'}, {'cast_id': 8, 'character': 'Hot Tub Repairman', 'credit_id': '52fe4ee7c3a36847f82afaf7', 'gender': 2, 'id': 54812, 'name': 'Chevy Chase', 'order': 4, 'profile_path': '/svjpyYtPwtjvRxX9IZnOmOkhDOt.jpg'}, {'cast_id': 9, 'character': 'Jill', 'credit_id': '52fe4ee7c3a36847f82afafb', 'gender': 1, 'id': 94098, 'name': 'Gillian Jacobs', 'order': 5, 'profile_path': '/rBnhe5vhNPnhRUdtYahBWx90fJM.jpg'}, {'cast_id': 10, 'character': 'Sophie', 'credit_id': '52fe4ee7c3a36847f82afaff', 'gender': 1, 'id': 1159009, 'name': 'Bianca Haase', 'order': 6, 'profile_path': '/4x3nbtD8q8phAJPmoGWXPvz0iM.jpg'}, {'cast_id': 11, 'character': 'Kelly', 'credit_id': '5524ec51c3a3687df3000dbb', 'gender': 1, 'id': 86624, 'name': 'Collette Wolfe', 'order': 7, 'profile_path': '/aSD4h5379b2eEw3bLou9ByLimmq.jpg'}, {'cast_id': 13, 'character': 'Brad', 'credit_id': '5524ec8ec3a3687ded000d72', 'gender': 2, 'id': 466505, 'name': 'Kumail Nanjiani', 'order': 9, 'profile_path': '/x4nAztHY72SVciRfxEsbhIVTsIu.jpg'}, {'cast_id': 14, 'character': 'Courtney', 'credit_id': '5524ec9bc3a3687df8000d13', 'gender': 1, 'id': 70776, 'name': 'Kellee Stewart', 'order': 10, 'profile_path': '/w3xmsEPmJc1Cf0dQ4aIn8YmlHbk.jpg'}, {'cast_id': 15, 'character': 'Terry', 'credit_id': '5524eca892514171cb008237', 'gender': 2, 'id': 347335, 'name': 'Josh Heald', 'order': 11, 'profile_path': '/pwXJIenrDMrG7t3zNfLvr8w1RGU.jpg'}, {'cast_id': 16, 'character': 'Susan', 'credit_id': '5524ecb7925141720c001116', 'gender': 0, 'id': 1451392, 'name': 'Gretchen Koerner', 'order': 12, 'profile_path': '/muULPexCTJGyJba4yKzxronpD50.jpg'}, {'cast_id': 17, 'character': 'Herself', 'credit_id': '5524ecc3c3a3687ded000d74', 'gender': 1, 'id': 98879, 'name': 'Lisa Loeb', 'order': 13, 'profile_path': '/bGqg58ca0bZR38z9HliUMmeNGE.jpg'}, {'cast_id': 18, 'character': 'Herself', 'credit_id': '5524ecd3c3a3687e11000ed3', 'gender': 1, 'id': 1394648, 'name': 'Jessica Williams', 'order': 14, 'profile_path': '/A4syKjkcYB92wLEhH0c0hC3BCpz.jpg'}, {'cast_id': 19, 'character': 'Himself', 'credit_id': '5524ece6925141718d001009', 'gender': 0, 'id': 1451393, 'name': 'Bruce Buffer', 'order': 15, 'profile_path': None}, {'cast_id': 20, 'character': 'Shot Girl', 'credit_id': '5524ecf5c3a3687e08000dc2', 'gender': 0, 'id': 1451394, 'name': 'Mariana Paola Vicente', 'order': 16, 'profile_path': '/ckPllza8624UHWGHCbLShkLxCD1.jpg'}, {'cast_id': 33, 'character': 'Choozy Doozy Host', 'credit_id': '555844da9251412afe0013a9', 'gender': 2, 'id': 2224, 'name': 'Christian Slater', 'order': 17, 'profile_path': '/3ElLWjnvchMS6Q4cIQOK8QNAoMG.jpg'}, {'cast_id': 35, 'character': 'Gary Winkle', 'credit_id': '55872027c3a3683853005074', 'gender': 0, 'id': 185805, 'name': 'Jason Jones', 'order': 18, 'profile_path': '/aIoCw6vo8AGMdsQRAI5g2t0yJT3.jpg'}, {'cast_id': 36, 'character': 'Bridesmaid', 'credit_id': '55efe971c3a368090c00cd1b', 'gender': 0, 'id': 1507448, 'name': 'Olivia Jordan', 'order': 19, 'profile_path': '/szMukAEiIDeasel0lvyaeyKuych.jpg'}, {'cast_id': 37, 'character': 'Christine', 'credit_id': '55efe980c3a36871bf008176', 'gender': 1, 'id': 1334091, 'name': 'Christine Bently', 'order': 20, 'profile_path': '/oUZltnGa55OXE52hfyPTfCshuNy.jpg'}, {'cast_id': 38, 'character': 'Excited Girl', 'credit_id': '55efe98e9251413e3201d316', 'gender': 0, 'id': 557803, 'name': 'Stacey Asaro', 'order': 21, 'profile_path': '/qTPdlr1dXf3kNdyHuDsgtGC0HCC.jpg'}, {'cast_id': 64, 'character': 'Adam (uncredited)', 'credit_id': '58f2135ac3a3682e95008b91', 'gender': 2, 'id': 3036, 'name': 'John Cusack', 'order': 22, 'profile_path': '/uKydQYuZ9TnCzvbQLtj6j98vWAT.jpg'}, {'cast_id': 65, 'character': 'J-Bird', 'credit_id': '59ac0240c3a3682cc802c399', 'gender': 2, 'id': 59256, 'name': 'Adam Herschman', 'order': 23, 'profile_path': '/wZMwiuX1DslF6hDS50z9OTN6z1X.jpg'}, {'cast_id': 66, 'character': 'Bridesmaid', 'credit_id': '59ac02cd925141079d02b1b4', 'gender': 1, 'id': 129714, 'name': 'Kisha Sierra', 'order': 24, 'profile_path': None}]\n",
            "1 [{'cast_id': 1, 'character': 'Mia Thermopolis', 'credit_id': '52fe43fe9251416c7502561f', 'gender': 1, 'id': 1813, 'name': 'Anne Hathaway', 'order': 0, 'profile_path': '/jUMOKwSUBnTcMeN1HfhutiY49Ad.jpg'}, {'cast_id': 2, 'character': 'Queen Clarisse Renaldi', 'credit_id': '52fe43fe9251416c75025623', 'gender': 1, 'id': 5823, 'name': 'Julie Andrews', 'order': 1, 'profile_path': '/6t61jkmfSA6nbYRCKR9s97CgUN6.jpg'}, {'cast_id': 3, 'character': 'Joe', 'credit_id': '52fe43fe9251416c75025627', 'gender': 2, 'id': 1210, 'name': 'H√©ctor Elizondo', 'order': 2, 'profile_path': '/48UNfVFZVr0jyMIlLPhzm8IIM7f.jpg'}, {'cast_id': 4, 'character': 'Viscount Mabrey', 'credit_id': '52fe43fe9251416c7502562b', 'gender': 2, 'id': 655, 'name': 'John Rhys-Davies', 'order': 3, 'profile_path': '/zZ67PuoFfik9QlZyfaEsFBC1yVJ.jpg'}, {'cast_id': 5, 'character': 'Lilly Moscovitz', 'credit_id': '52fe43fe9251416c7502562f', 'gender': 1, 'id': 33656, 'name': 'Heather Matarazzo', 'order': 4, 'profile_path': '/xcwR8aPuSkUCDPIyKU049M1CXph.jpg'}, {'cast_id': 6, 'character': 'Nicholas Devereaux', 'credit_id': '52fe43fe9251416c75025633', 'gender': 2, 'id': 62064, 'name': 'Chris Pine', 'order': 5, 'profile_path': '/vSe6sIsdtcoqBhuWRXynahFg8Vf.jpg'}, {'cast_id': 7, 'character': 'Andrew Jacoby', 'credit_id': '52fe43fe9251416c75025637', 'gender': 2, 'id': 68287, 'name': 'Callum Blue', 'order': 6, 'profile_path': '/3qf8rLoWmXOcCA8Rs9RPIEQ9yLB.jpg'}, {'cast_id': 17, 'character': 'Paolo', 'credit_id': '52fe43fe9251416c75025671', 'gender': 2, 'id': 1211, 'name': 'Larry Miller', 'order': 7, 'profile_path': '/xA8zCxNrwtamLaLWNBkLyX5tGtU.jpg'}, {'cast_id': 18, 'character': 'Asana', 'credit_id': '52fe43fe9251416c75025675', 'gender': 1, 'id': 66896, 'name': 'Raven-Symon√©', 'order': 8, 'profile_path': '/nzklI9bgqsUKVWlnQcT5lSrCyaM.jpg'}, {'cast_id': 19, 'character': 'Charlotte Kutaway', 'credit_id': '52fe43fe9251416c75025679', 'gender': 1, 'id': 303542, 'name': 'Kathleen Marshall', 'order': 9, 'profile_path': '/4ANxOHPa81aqLyP8BQxkwmZrWgK.jpg'}, {'cast_id': 21, 'character': \"Mia's Mom Helen\", 'credit_id': '5687f876c3a3685f8900e2a1', 'gender': 1, 'id': 6692, 'name': 'Caroline Goodall', 'order': 10, 'profile_path': '/f3L5WmEtGjjONTe8qvBZOy2dWTJ.jpg'}, {'cast_id': 20, 'character': 'Princess Lorraine', 'credit_id': '5687f825c3a36860e9023861', 'gender': 1, 'id': 966053, 'name': 'Lorraine Nicholson', 'order': 11, 'profile_path': '/eCsoySifBALa6UecWWQ6XShkkeV.jpg'}, {'cast_id': 22, 'character': 'Lady Salsa', 'credit_id': '56b67fc4c3a3680700009953', 'gender': 1, 'id': 95469, 'name': 'Shannon Wilcox', 'order': 12, 'profile_path': '/dQTvcWdLyB5RIWNQxk4DWn6ko59.jpg'}, {'cast_id': 23, 'character': 'Baron Siegfried von Troken', 'credit_id': '56c0ad8cc3a36817f400cc2d', 'gender': 2, 'id': 33832, 'name': 'Greg Lewis', 'order': 13, 'profile_path': '/ys6erqERBQhfTsvCiarmwH8daUm.jpg'}, {'cast_id': 24, 'character': 'Carolina', 'credit_id': '575e0b469251415dd2004e97', 'gender': 1, 'id': 17140, 'name': 'Abigail Breslin', 'order': 14, 'profile_path': '/5zM4beIvrFKICiJXhQCqY3ORngR.jpg'}, {'cast_id': 25, 'character': 'Lord Crawley', 'credit_id': '575e0bc1c3a3683731002094', 'gender': 2, 'id': 155403, 'name': 'Paul Vogt', 'order': 15, 'profile_path': None}, {'cast_id': 26, 'character': 'Monsieur Dupont', 'credit_id': '57c8cc429251410d5000019d', 'gender': 2, 'id': 1665036, 'name': 'Joseph Leo Bwarie', 'order': 16, 'profile_path': '/9H8u70pOBdk0xZsRcKIleBEAyLK.jpg'}, {'cast_id': 27, 'character': 'Lady Caroline', 'credit_id': '57dd9a1092514178550018e1', 'gender': 1, 'id': 83053, 'name': 'Hope Alexander-Willis', 'order': 17, 'profile_path': '/uMA3E1OUniek80LNbqf8ejK2edW.jpg'}, {'cast_id': 28, 'character': 'Lord Peroit', 'credit_id': '57eecf689251416cd60095c1', 'gender': 2, 'id': 1451161, 'name': 'Rowan Joseph', 'order': 18, 'profile_path': '/6zUforjrDfcPoP8YMsdIaoygHmz.jpg'}, {'cast_id': 29, 'character': 'Genovian Cafe Owner', 'credit_id': '57eed0ff9251415ddb00752b', 'gender': 2, 'id': 156005, 'name': 'Jeffrey Scott Jensen', 'order': 19, 'profile_path': '/mW0EwKomK5u3WSmkL60V2HWLhCu.jpg'}]\n",
            "0 [{'credit_id': '59ac067c92514107af02c8c8', 'department': 'Directing', 'gender': 0, 'id': 1449071, 'job': 'First Assistant Director', 'name': 'Kelly Cantley', 'profile_path': None}, {'credit_id': '52fe4ee7c3a36847f82afad7', 'department': 'Directing', 'gender': 2, 'id': 3227, 'job': 'Director', 'name': 'Steve Pink', 'profile_path': '/myHOgo8mQSCiCAZNGMRdHVr03jr.jpg'}, {'credit_id': '5524ed25c3a3687ded000d88', 'department': 'Writing', 'gender': 2, 'id': 347335, 'job': 'Writer', 'name': 'Josh Heald', 'profile_path': '/pwXJIenrDMrG7t3zNfLvr8w1RGU.jpg'}, {'credit_id': '5524ed2d925141720c001128', 'department': 'Writing', 'gender': 2, 'id': 347335, 'job': 'Characters', 'name': 'Josh Heald', 'profile_path': '/pwXJIenrDMrG7t3zNfLvr8w1RGU.jpg'}, {'credit_id': '5524ed3d92514166c1004a5d', 'department': 'Production', 'gender': 2, 'id': 57822, 'job': 'Producer', 'name': 'Andrew Panay', 'profile_path': None}, {'credit_id': '5524ed4bc3a3687df3000dd2', 'department': 'Production', 'gender': 0, 'id': 1451395, 'job': 'Associate Producer', 'name': 'Adam Blum', 'profile_path': None}, {'credit_id': '5524ed5a925141720c00112c', 'department': 'Production', 'gender': 2, 'id': 52997, 'job': 'Executive Producer', 'name': 'Rob Corddry', 'profile_path': '/k2zJL0V1nEZuFT08xUdOd3ucfXz.jpg'}, {'credit_id': '5524ed85c3a3687e0e000f56', 'department': 'Production', 'gender': 0, 'id': 62807, 'job': 'Executive Producer', 'name': 'Ben Ormand', 'profile_path': None}, {'credit_id': '5524ed9fc3a3687e0e000f59', 'department': 'Sound', 'gender': 2, 'id': 23486, 'job': 'Original Music Composer', 'name': 'Christophe Beck', 'profile_path': '/2fnJUmCk6IEpVIptpYaUk31epHx.jpg'}, {'credit_id': '5524eda6c3a3687e03000d28', 'department': 'Camera', 'gender': 2, 'id': 6117, 'job': 'Director of Photography', 'name': 'Declan Quinn', 'profile_path': None}, {'credit_id': '5524edb4925141720c00113d', 'department': 'Editing', 'gender': 0, 'id': 1451396, 'job': 'Editor', 'name': 'Jamie Gross', 'profile_path': None}, {'credit_id': '5524edc1925141727600102e', 'department': 'Production', 'gender': 0, 'id': 22219, 'job': 'Casting', 'name': 'Susie Farris', 'profile_path': None}, {'credit_id': '5524edd192514171cb008257', 'department': 'Art', 'gender': 0, 'id': 1002643, 'job': 'Production Design', 'name': 'Ryan Berg', 'profile_path': None}, {'credit_id': '555ad9be9251411e5b00d485', 'department': 'Production', 'gender': 2, 'id': 57431, 'job': 'Executive Producer', 'name': 'Matt Moore', 'profile_path': None}, {'credit_id': '5677e93bc3a36816890087dc', 'department': 'Directing', 'gender': 0, 'id': 1551818, 'job': 'Script Supervisor', 'name': 'Nicole Garcea', 'profile_path': None}, {'credit_id': '5677e96a92514179e10093d0', 'department': 'Production', 'gender': 0, 'id': 1551819, 'job': 'Production Coordinator', 'name': 'Jason Salzman', 'profile_path': None}, {'credit_id': '5677e98492514179d2008cd9', 'department': 'Costume & Make-Up', 'gender': 0, 'id': 1422996, 'job': 'Costume Design', 'name': 'Carol Cutshall', 'profile_path': None}, {'credit_id': '5677e9d5c3a368168e009414', 'department': 'Art', 'gender': 2, 'id': 500199, 'job': 'Set Decoration', 'name': 'Tim Cohn', 'profile_path': None}, {'credit_id': '5677f89d9251417845001a61', 'department': 'Costume & Make-Up', 'gender': 0, 'id': 1527917, 'job': 'Hair Department Head', 'name': 'Voni Hinkle', 'profile_path': None}, {'credit_id': '5677f8b392514179dd0089fb', 'department': 'Costume & Make-Up', 'gender': 0, 'id': 1431554, 'job': 'Makeup Department Head', 'name': 'Remi Savva', 'profile_path': None}, {'credit_id': '5677f8d1c3a3681689008a4b', 'department': 'Art', 'gender': 0, 'id': 66495, 'job': 'Art Direction', 'name': 'Jason Baldwin Stewart', 'profile_path': None}, {'credit_id': '5677f8eec3a3681685008dd5', 'department': 'Production', 'gender': 0, 'id': 1412466, 'job': 'Production Supervisor', 'name': 'Korey Budd', 'profile_path': None}, {'credit_id': '5677f90a9251417845001a7d', 'department': 'Sound', 'gender': 0, 'id': 1401562, 'job': 'Sound Re-Recording Mixer', 'name': 'Gary C. Bourgeois', 'profile_path': None}, {'credit_id': '5677f91e9251417845001a84', 'department': 'Sound', 'gender': 0, 'id': 1396794, 'job': 'Sound Re-Recording Mixer', 'name': 'Gabriel J. Serrano', 'profile_path': None}, {'credit_id': '5677f938c3a3681680008dd4', 'department': 'Editing', 'gender': 0, 'id': 13168, 'job': 'Dialogue Editor', 'name': 'Victoria Rose Sampson', 'profile_path': None}, {'credit_id': '5677f94e92514179dd008a1f', 'department': 'Sound', 'gender': 0, 'id': 1551839, 'job': 'Production Sound Mixer', 'name': 'Michael B. Koff', 'profile_path': None}, {'credit_id': '5677f968c3a368168e009698', 'department': 'Sound', 'gender': 0, 'id': 113052, 'job': 'Sound Effects Editor', 'name': 'Randall Guth', 'profile_path': None}, {'credit_id': '5677f98dc3a3681685008e02', 'department': 'Crew', 'gender': 2, 'id': 1442535, 'job': 'Stunt Coordinator', 'name': 'Chuck Picerni Jr.', 'profile_path': '/yE5QtXUzcrnCzMRctZL8F5g842B.jpg'}, {'credit_id': '5677f9a692514179dd008a49', 'department': 'Camera', 'gender': 0, 'id': 1437305, 'job': 'Camera Operator', 'name': 'Michael Applebaum', 'profile_path': None}, {'credit_id': '5677f9bd9251417845001aae', 'department': 'Camera', 'gender': 0, 'id': 1401765, 'job': 'Still Photographer', 'name': 'Steve Dietl', 'profile_path': None}, {'credit_id': '5677f9e592514179e7008bf7', 'department': 'Lighting', 'gender': 0, 'id': 1402721, 'job': 'Rigging Gaffer', 'name': 'Tarik Naim Alherimi', 'profile_path': None}, {'credit_id': '5677f9f4c3a368167c0090ed', 'department': 'Lighting', 'gender': 0, 'id': 1402719, 'job': 'Gaffer', 'name': 'Paul Olinde', 'profile_path': None}, {'credit_id': '5677fa21c3a368168e0096ca', 'department': 'Sound', 'gender': 0, 'id': 1551840, 'job': 'Music Supervisor', 'name': 'Steve Griffen', 'profile_path': None}, {'credit_id': '5677fa31c3a3681680008e04', 'department': 'Sound', 'gender': 0, 'id': 1551841, 'job': 'Music Editor', 'name': 'Matt Fausak', 'profile_path': None}, {'credit_id': '5677fa4392514179dd008a76', 'department': 'Sound', 'gender': 0, 'id': 1551840, 'job': 'Music Editor', 'name': 'Steve Griffen', 'profile_path': None}, {'credit_id': '5677fa609251417845001acf', 'department': 'Costume & Make-Up', 'gender': 0, 'id': 1403416, 'job': 'Costume Supervisor', 'name': 'Shonta T. McCray', 'profile_path': None}, {'credit_id': '5677fa8492514179d2008fb3', 'department': 'Camera', 'gender': 0, 'id': 1425831, 'job': 'Steadicam Operator', 'name': 'Mark Karavite', 'profile_path': None}, {'credit_id': '5677fab2c3a3681689008ac3', 'department': 'Camera', 'gender': 0, 'id': 1551842, 'job': 'First Assistant Camera', 'name': 'Joe Waistell', 'profile_path': None}, {'credit_id': '5677faecc3a368168e0096fe', 'department': 'Sound', 'gender': 0, 'id': 58362, 'job': 'Supervising Sound Editor', 'name': 'Michael Hilkene', 'profile_path': None}, {'credit_id': '59ac0368c3a3682c0a02c484', 'department': 'Crew', 'gender': 0, 'id': 1881584, 'job': 'Additional Writing', 'name': 'John Karnay', 'profile_path': None}, {'credit_id': '59ac0411c3a3682bf0028966', 'department': 'Costume & Make-Up', 'gender': 0, 'id': 1431552, 'job': 'Hairstylist', 'name': 'Daina Daigle', 'profile_path': None}, {'credit_id': '59ac0504925141072302b8fb', 'department': 'Costume & Make-Up', 'gender': 0, 'id': 1712001, 'job': 'Makeup Artist', 'name': 'Allison Gordin', 'profile_path': None}, {'credit_id': '59ac0570c3a3682bf0028aac', 'department': 'Costume & Make-Up', 'gender': 0, 'id': 578725, 'job': 'Makeup Artist', 'name': 'Darryl Lucas', 'profile_path': None}, {'credit_id': '59ac05a4925141077e02c97e', 'department': 'Costume & Make-Up', 'gender': 0, 'id': 1463274, 'job': 'Makeup Artist', 'name': 'Annabelle MacNeal', 'profile_path': None}, {'credit_id': '59ac05c6925141076502d106', 'department': 'Costume & Make-Up', 'gender': 0, 'id': 1881586, 'job': 'Makeup Artist', 'name': 'Marina Savva', 'profile_path': None}, {'credit_id': '59ac0615c3a3682c480296aa', 'department': 'Costume & Make-Up', 'gender': 0, 'id': 1406267, 'job': 'Hairstylist', 'name': 'Carl G. Variste', 'profile_path': None}, {'credit_id': '59ac06ba925141076502d1fa', 'department': 'Directing', 'gender': 0, 'id': 1798593, 'job': 'First Assistant Director', 'name': 'Josh King', 'profile_path': None}, {'credit_id': '59ac06f1c3a3682c2202aca0', 'department': 'Art', 'gender': 0, 'id': 1415083, 'job': 'Greensman', 'name': 'Scott C. Bivona', 'profile_path': None}, {'credit_id': '59ac072c925141076502d260', 'department': 'Art', 'gender': 0, 'id': 1881587, 'job': 'Title Designer', 'name': 'Eunha Choi', 'profile_path': None}, {'credit_id': '59ac077c925141077e02cb62', 'department': 'Art', 'gender': 0, 'id': 1585302, 'job': 'Construction Coordinator', 'name': 'Daniel Coe', 'profile_path': None}, {'credit_id': '59ac07e0925141078a02d842', 'department': 'Art', 'gender': 0, 'id': 1495523, 'job': 'Set Designer', 'name': 'Spencer Davison', 'profile_path': None}, {'credit_id': '59ac0862925141072f02cf6f', 'department': 'Art', 'gender': 0, 'id': 1881589, 'job': 'Painter', 'name': 'Sonia L. Garcia', 'profile_path': None}, {'credit_id': '59ac08e0c3a3682bf0028e51', 'department': 'Art', 'gender': 0, 'id': 1424896, 'job': 'Art Department Coordinator', 'name': 'Caleb Guillotte', 'profile_path': None}, {'credit_id': '59ac0920c3a3682c2202af36', 'department': 'Art', 'gender': 0, 'id': 1393375, 'job': 'Leadman', 'name': \"Pat A. O'Connor\", 'profile_path': None}, {'credit_id': '59ac095592514107af02cc39', 'department': 'Art', 'gender': 0, 'id': 1881592, 'job': 'Set Designer', 'name': 'Brendan Turrill', 'profile_path': None}, {'credit_id': '59ac0989925141072302bdfa', 'department': 'Art', 'gender': 2, 'id': 76497, 'job': 'Property Master', 'name': 'Brook Yeaton', 'profile_path': None}, {'credit_id': '59ac0a2cc3a3682c9c02add1', 'department': 'Sound', 'gender': 0, 'id': 1881596, 'job': 'Boom Operator', 'name': 'Matthew Armstrong', 'profile_path': None}, {'credit_id': '59ac0aa8925141072f02d282', 'department': 'Visual Effects', 'gender': 2, 'id': 1558086, 'job': 'Special Effects Supervisor', 'name': 'Matt Kutcher', 'profile_path': None}, {'credit_id': '59ac0b2ac3a3682c2202b192', 'department': 'Crew', 'gender': 2, 'id': 1558087, 'job': 'Special Effects Coordinator', 'name': 'Eric Roberts', 'profile_path': None}, {'credit_id': '59ac0b7ac3a3682c2202b1fb', 'department': 'Visual Effects', 'gender': 0, 'id': 1392098, 'job': 'Visual Effects Supervisor', 'name': 'Rocco Passionino', 'profile_path': None}, {'credit_id': '59ac0bbe925141077e02d0c4', 'department': 'Visual Effects', 'gender': 0, 'id': 1558716, 'job': 'Visual Effects Coordinator', 'name': 'Joseph Payo', 'profile_path': None}, {'credit_id': '59ac0bf2c3a3682cc802cefa', 'department': 'Visual Effects', 'gender': 0, 'id': 1408784, 'job': 'Visual Effects Producer', 'name': 'Chris Roff', 'profile_path': None}, {'credit_id': '59ac0c51c3a3682c48029d99', 'department': 'Lighting', 'gender': 0, 'id': 1881600, 'job': 'Best Boy Electric', 'name': 'Ulyan Atamanyuk', 'profile_path': None}, {'credit_id': '59ac0cbac3a3682c0a02cff6', 'department': 'Camera', 'gender': 0, 'id': 1881602, 'job': 'Key Grip', 'name': 'Chris Ekstrom', 'profile_path': None}, {'credit_id': '59ac0d54925141072f02d5e6', 'department': 'Lighting', 'gender': 0, 'id': 1484984, 'job': 'Best Boy Electric', 'name': 'Brad Garris', 'profile_path': None}, {'credit_id': '59ac0db0925141078a02df86', 'department': 'Camera', 'gender': 0, 'id': 1881603, 'job': 'Dolly Grip', 'name': 'Kendell Joseph', 'profile_path': None}, {'credit_id': '59ac0e5a925141077e02d39f', 'department': 'Camera', 'gender': 0, 'id': 1549179, 'job': 'Dolly Grip', 'name': 'Spencer Wilcox', 'profile_path': None}, {'credit_id': '59ac0e9f925141079d02bee6', 'department': 'Costume & Make-Up', 'gender': 0, 'id': 1552626, 'job': 'Key Costumer', 'name': 'Sarah P. Koeppe', 'profile_path': None}, {'credit_id': '59ac0ec1c3a3682bf0029524', 'department': 'Costume & Make-Up', 'gender': 0, 'id': 1881605, 'job': 'Seamstress', 'name': 'Catherine Rodi', 'profile_path': None}, {'credit_id': '59ac0eef925141070702c7ff', 'department': 'Costume & Make-Up', 'gender': 0, 'id': 1463801, 'job': 'Seamstress', 'name': 'Giselle Spence', 'profile_path': None}, {'credit_id': '59ac0f5dc3a3682c4802a0f5', 'department': 'Production', 'gender': 0, 'id': 1400837, 'job': 'Location Manager', 'name': 'John A. Johnston', 'profile_path': None}, {'credit_id': '59ac0ff2c3a3682c4802a196', 'department': 'Crew', 'gender': 0, 'id': 1844322, 'job': 'Production Controller', 'name': 'Gail Marks', 'profile_path': None}]\n",
            "1 [{'credit_id': '52fe43fe9251416c7502563d', 'department': 'Directing', 'gender': 2, 'id': 1201, 'job': 'Director', 'name': 'Garry Marshall', 'profile_path': '/kx77E8p5rnEmKxIhFT0qWCEMEik.jpg'}, {'credit_id': '52fe43fe9251416c75025667', 'department': 'Camera', 'gender': 2, 'id': 1214, 'job': 'Director of Photography', 'name': 'Charles Minsky', 'profile_path': None}, {'credit_id': '52fe43fe9251416c75025661', 'department': 'Sound', 'gender': 2, 'id': 4500, 'job': 'Original Music Composer', 'name': 'John Debney', 'profile_path': '/hTrlvZlDXQk49nfc2BM9sjKfJv.jpg'}, {'credit_id': '52fe43fe9251416c7502564f', 'department': 'Production', 'gender': 1, 'id': 8851, 'job': 'Producer', 'name': 'Whitney Houston', 'profile_path': '/69ouDnXnmklYPr4sMJXWKYz81AL.jpg'}, {'credit_id': '52fe43fe9251416c7502566d', 'department': 'Editing', 'gender': 0, 'id': 12970, 'job': 'Editor', 'name': 'Bruce Green', 'profile_path': '/yplxWPVgwK1b33AjvbhM9mWX2Aw.jpg'}, {'credit_id': '52fe43fe9251416c75025655', 'department': 'Production', 'gender': 2, 'id': 38415, 'job': 'Producer', 'name': 'Mario Iscovich', 'profile_path': None}, {'credit_id': '52fe43fe9251416c7502565b', 'department': 'Production', 'gender': 1, 'id': 38416, 'job': 'Executive Producer', 'name': 'Ellen H. Schwartz', 'profile_path': '/6WInjABr1sAYGXaa5qOvSrsHIqP.jpg'}, {'credit_id': '52fe43fe9251416c75025649', 'department': 'Production', 'gender': 1, 'id': 59973, 'job': 'Producer', 'name': 'Debra Martin Chase', 'profile_path': None}, {'credit_id': '52fe43fe9251416c75025643', 'department': 'Writing', 'gender': 1, 'id': 25539, 'job': 'Screenplay', 'name': 'Shonda Rhimes', 'profile_path': '/4c77e347InbTAlw9lGvORpZBHV6.jpg'}]\n"
          ]
        }
      ]
    },
    {
      "cell_type": "markdown",
      "metadata": {
        "id": "9a6R-OR48X3B"
      },
      "source": [
        "**Displaying different values in the columns which are in JSON format to have a detailed view about each column and values**\n"
      ]
    },
    {
      "cell_type": "markdown",
      "metadata": {
        "id": "zr02ImMo8yvM"
      },
      "source": [
        "### **Feature Engineering**"
      ]
    },
    {
      "cell_type": "code",
      "metadata": {
        "execution": {
          "iopub.status.busy": "2021-11-05T15:32:42.874572Z",
          "iopub.execute_input": "2021-11-05T15:32:42.874828Z",
          "iopub.status.idle": "2021-11-05T15:32:44.232654Z",
          "shell.execute_reply.started": "2021-11-05T15:32:42.874804Z",
          "shell.execute_reply": "2021-11-05T15:32:44.231826Z"
        },
        "trusted": true,
        "id": "yvd3zVGG41_G"
      },
      "source": [
        "train['release_year']=pd.to_datetime(train['release_date']).dt.year\n",
        "train['release_month']=pd.to_datetime(train['release_date']).dt.month\n",
        "train['release_day']=pd.to_datetime(train['release_date']).dt.dayofweek\n",
        "\n",
        "\n",
        "test['release_year']=pd.to_datetime(test['release_date']).dt.year\n",
        "test['release_month']=pd.to_datetime(test['release_date']).dt.month\n",
        "test['release_day']=pd.to_datetime(test['release_date']).dt.dayofweek\n"
      ],
      "execution_count": null,
      "outputs": []
    },
    {
      "cell_type": "markdown",
      "metadata": {
        "id": "tzB4rxdH86KX"
      },
      "source": [
        "**The release date column was in unstructured format to have any relation and analyse the data.Here we have dissolved the column in three seperate columns giving the year,month and day respectively.**"
      ]
    },
    {
      "cell_type": "code",
      "metadata": {
        "execution": {
          "iopub.status.busy": "2021-11-05T15:32:44.233936Z",
          "iopub.execute_input": "2021-11-05T15:32:44.234268Z",
          "iopub.status.idle": "2021-11-05T15:32:44.24716Z",
          "shell.execute_reply.started": "2021-11-05T15:32:44.234234Z",
          "shell.execute_reply": "2021-11-05T15:32:44.246342Z"
        },
        "trusted": true,
        "id": "pKA6FGNo41_G"
      },
      "source": [
        "train['rating']=train['rating'].fillna(train['rating'].mean())\n",
        "test['rating']=test['rating'].fillna(test['rating'].mean())\n",
        "\n",
        "train['totalVotes']=train['totalVotes'].fillna(train['totalVotes'].mean())\n",
        "train['totalVotes']=train['totalVotes'].round()\n",
        "test['totalVotes']=test['totalVotes'].fillna(test['totalVotes'].mean())\n",
        "test['totalVotes']=test['totalVotes'].round()\n",
        "\n",
        "train['runtime']=train['runtime'].fillna(train['runtime'].mean())\n",
        "test['runtime']=test['runtime'].fillna(test['runtime'].mean())"
      ],
      "execution_count": null,
      "outputs": []
    },
    {
      "cell_type": "markdown",
      "metadata": {
        "id": "TVIkxqvA9ts_"
      },
      "source": [
        "**Imputing the missing values for Rating, TotalVotes, and Runtime by the average values in the dataset**\n",
        "\n",
        "**NOTE: The votes can't be in decimal hence I have rounded it upto the nearest integer.**"
      ]
    },
    {
      "cell_type": "code",
      "metadata": {
        "execution": {
          "iopub.status.busy": "2021-11-05T15:32:44.248577Z",
          "iopub.execute_input": "2021-11-05T15:32:44.249313Z",
          "iopub.status.idle": "2021-11-05T15:32:44.406959Z",
          "shell.execute_reply.started": "2021-11-05T15:32:44.249257Z",
          "shell.execute_reply": "2021-11-05T15:32:44.406196Z"
        },
        "trusted": true,
        "colab": {
          "base_uri": "https://localhost:8080/",
          "height": 638
        },
        "id": "SKqhKc5A41_H",
        "outputId": "9b62b245-8410-4283-8b30-4bb68db4ccee"
      },
      "source": [
        "train.head()"
      ],
      "execution_count": null,
      "outputs": [
        {
          "output_type": "execute_result",
          "data": {
            "text/html": [
              "<div>\n",
              "<style scoped>\n",
              "    .dataframe tbody tr th:only-of-type {\n",
              "        vertical-align: middle;\n",
              "    }\n",
              "\n",
              "    .dataframe tbody tr th {\n",
              "        vertical-align: top;\n",
              "    }\n",
              "\n",
              "    .dataframe thead th {\n",
              "        text-align: right;\n",
              "    }\n",
              "</style>\n",
              "<table border=\"1\" class=\"dataframe\">\n",
              "  <thead>\n",
              "    <tr style=\"text-align: right;\">\n",
              "      <th></th>\n",
              "      <th>id</th>\n",
              "      <th>belongs_to_collection</th>\n",
              "      <th>budget</th>\n",
              "      <th>genres</th>\n",
              "      <th>homepage</th>\n",
              "      <th>imdb_id</th>\n",
              "      <th>original_language</th>\n",
              "      <th>original_title</th>\n",
              "      <th>overview</th>\n",
              "      <th>popularity</th>\n",
              "      <th>poster_path</th>\n",
              "      <th>production_companies</th>\n",
              "      <th>production_countries</th>\n",
              "      <th>release_date</th>\n",
              "      <th>runtime</th>\n",
              "      <th>spoken_languages</th>\n",
              "      <th>status</th>\n",
              "      <th>tagline</th>\n",
              "      <th>title</th>\n",
              "      <th>Keywords</th>\n",
              "      <th>cast</th>\n",
              "      <th>crew</th>\n",
              "      <th>revenue</th>\n",
              "      <th>popularity2</th>\n",
              "      <th>rating</th>\n",
              "      <th>totalVotes</th>\n",
              "      <th>release_year</th>\n",
              "      <th>release_month</th>\n",
              "      <th>release_day</th>\n",
              "    </tr>\n",
              "  </thead>\n",
              "  <tbody>\n",
              "    <tr>\n",
              "      <th>0</th>\n",
              "      <td>1</td>\n",
              "      <td>[{'id': 313576, 'name': 'Hot Tub Time Machine ...</td>\n",
              "      <td>14000000</td>\n",
              "      <td>[{'id': 35, 'name': 'Comedy'}]</td>\n",
              "      <td>NaN</td>\n",
              "      <td>tt2637294</td>\n",
              "      <td>en</td>\n",
              "      <td>Hot Tub Time Machine 2</td>\n",
              "      <td>When Lou, who has become the \"father of the In...</td>\n",
              "      <td>6.575393</td>\n",
              "      <td>/tQtWuwvMf0hCc2QR2tkolwl7c3c.jpg</td>\n",
              "      <td>[{'name': 'Paramount Pictures', 'id': 4}, {'na...</td>\n",
              "      <td>[{'iso_3166_1': 'US', 'name': 'United States o...</td>\n",
              "      <td>2/20/15</td>\n",
              "      <td>93.0</td>\n",
              "      <td>[{'iso_639_1': 'en', 'name': 'English'}]</td>\n",
              "      <td>Released</td>\n",
              "      <td>The Laws of Space and Time are About to be Vio...</td>\n",
              "      <td>Hot Tub Time Machine 2</td>\n",
              "      <td>[{'id': 4379, 'name': 'time travel'}, {'id': 9...</td>\n",
              "      <td>[{'cast_id': 4, 'character': 'Lou', 'credit_id...</td>\n",
              "      <td>[{'credit_id': '59ac067c92514107af02c8c8', 'de...</td>\n",
              "      <td>12314651</td>\n",
              "      <td>10.400</td>\n",
              "      <td>5.000000</td>\n",
              "      <td>482.0</td>\n",
              "      <td>2015</td>\n",
              "      <td>2</td>\n",
              "      <td>4</td>\n",
              "    </tr>\n",
              "    <tr>\n",
              "      <th>1</th>\n",
              "      <td>2</td>\n",
              "      <td>[{'id': 107674, 'name': 'The Princess Diaries ...</td>\n",
              "      <td>40000000</td>\n",
              "      <td>[{'id': 35, 'name': 'Comedy'}, {'id': 18, 'nam...</td>\n",
              "      <td>NaN</td>\n",
              "      <td>tt0368933</td>\n",
              "      <td>en</td>\n",
              "      <td>The Princess Diaries 2: Royal Engagement</td>\n",
              "      <td>Mia Thermopolis is now a college graduate and ...</td>\n",
              "      <td>8.248895</td>\n",
              "      <td>/w9Z7A0GHEhIp7etpj0vyKOeU1Wx.jpg</td>\n",
              "      <td>[{'name': 'Walt Disney Pictures', 'id': 2}]</td>\n",
              "      <td>[{'iso_3166_1': 'US', 'name': 'United States o...</td>\n",
              "      <td>8/6/04</td>\n",
              "      <td>113.0</td>\n",
              "      <td>[{'iso_639_1': 'en', 'name': 'English'}]</td>\n",
              "      <td>Released</td>\n",
              "      <td>It can take a lifetime to find true love; she'...</td>\n",
              "      <td>The Princess Diaries 2: Royal Engagement</td>\n",
              "      <td>[{'id': 2505, 'name': 'coronation'}, {'id': 42...</td>\n",
              "      <td>[{'cast_id': 1, 'character': 'Mia Thermopolis'...</td>\n",
              "      <td>[{'credit_id': '52fe43fe9251416c7502563d', 'de...</td>\n",
              "      <td>95149435</td>\n",
              "      <td>15.229</td>\n",
              "      <td>6.400000</td>\n",
              "      <td>1528.0</td>\n",
              "      <td>2004</td>\n",
              "      <td>8</td>\n",
              "      <td>4</td>\n",
              "    </tr>\n",
              "    <tr>\n",
              "      <th>2</th>\n",
              "      <td>3</td>\n",
              "      <td>{}</td>\n",
              "      <td>3300000</td>\n",
              "      <td>[{'id': 18, 'name': 'Drama'}]</td>\n",
              "      <td>http://sonyclassics.com/whiplash/</td>\n",
              "      <td>tt2582802</td>\n",
              "      <td>en</td>\n",
              "      <td>Whiplash</td>\n",
              "      <td>Under the direction of a ruthless instructor, ...</td>\n",
              "      <td>64.299990</td>\n",
              "      <td>/lIv1QinFqz4dlp5U4lQ6HaiskOZ.jpg</td>\n",
              "      <td>[{'name': 'Bold Films', 'id': 2266}, {'name': ...</td>\n",
              "      <td>[{'iso_3166_1': 'US', 'name': 'United States o...</td>\n",
              "      <td>10/10/14</td>\n",
              "      <td>105.0</td>\n",
              "      <td>[{'iso_639_1': 'en', 'name': 'English'}]</td>\n",
              "      <td>Released</td>\n",
              "      <td>The road to greatness can take you to the edge.</td>\n",
              "      <td>Whiplash</td>\n",
              "      <td>[{'id': 1416, 'name': 'jazz'}, {'id': 1523, 'n...</td>\n",
              "      <td>[{'cast_id': 5, 'character': 'Andrew Neimann',...</td>\n",
              "      <td>[{'credit_id': '54d5356ec3a3683ba0000039', 'de...</td>\n",
              "      <td>13092000</td>\n",
              "      <td>26.082</td>\n",
              "      <td>8.400000</td>\n",
              "      <td>7314.0</td>\n",
              "      <td>2014</td>\n",
              "      <td>10</td>\n",
              "      <td>4</td>\n",
              "    </tr>\n",
              "    <tr>\n",
              "      <th>3</th>\n",
              "      <td>4</td>\n",
              "      <td>{}</td>\n",
              "      <td>1200000</td>\n",
              "      <td>[{'id': 53, 'name': 'Thriller'}, {'id': 18, 'n...</td>\n",
              "      <td>http://kahaanithefilm.com/</td>\n",
              "      <td>tt1821480</td>\n",
              "      <td>hi</td>\n",
              "      <td>Kahaani</td>\n",
              "      <td>Vidya Bagchi (Vidya Balan) arrives in Kolkata ...</td>\n",
              "      <td>3.174936</td>\n",
              "      <td>/aTXRaPrWSinhcmCrcfJK17urp3F.jpg</td>\n",
              "      <td>{}</td>\n",
              "      <td>[{'iso_3166_1': 'IN', 'name': 'India'}]</td>\n",
              "      <td>3/9/12</td>\n",
              "      <td>122.0</td>\n",
              "      <td>[{'iso_639_1': 'en', 'name': 'English'}, {'iso...</td>\n",
              "      <td>Released</td>\n",
              "      <td>NaN</td>\n",
              "      <td>Kahaani</td>\n",
              "      <td>[{'id': 10092, 'name': 'mystery'}, {'id': 1054...</td>\n",
              "      <td>[{'cast_id': 1, 'character': 'Vidya Bagchi', '...</td>\n",
              "      <td>[{'credit_id': '52fe48779251416c9108d6eb', 'de...</td>\n",
              "      <td>16000000</td>\n",
              "      <td>5.531</td>\n",
              "      <td>7.500000</td>\n",
              "      <td>115.0</td>\n",
              "      <td>2012</td>\n",
              "      <td>3</td>\n",
              "      <td>4</td>\n",
              "    </tr>\n",
              "    <tr>\n",
              "      <th>4</th>\n",
              "      <td>5</td>\n",
              "      <td>{}</td>\n",
              "      <td>0</td>\n",
              "      <td>[{'id': 28, 'name': 'Action'}, {'id': 53, 'nam...</td>\n",
              "      <td>NaN</td>\n",
              "      <td>tt1380152</td>\n",
              "      <td>ko</td>\n",
              "      <td>마린보이</td>\n",
              "      <td>Marine Boy is the story of a former national s...</td>\n",
              "      <td>1.148070</td>\n",
              "      <td>/m22s7zvkVFDU9ir56PiiqIEWFdT.jpg</td>\n",
              "      <td>{}</td>\n",
              "      <td>[{'iso_3166_1': 'KR', 'name': 'South Korea'}]</td>\n",
              "      <td>2/5/09</td>\n",
              "      <td>118.0</td>\n",
              "      <td>[{'iso_639_1': 'ko', 'name': '한국어/조선말'}]</td>\n",
              "      <td>Released</td>\n",
              "      <td>NaN</td>\n",
              "      <td>Marine Boy</td>\n",
              "      <td>{}</td>\n",
              "      <td>[{'cast_id': 3, 'character': 'Chun-soo', 'cred...</td>\n",
              "      <td>[{'credit_id': '52fe464b9251416c75073b43', 'de...</td>\n",
              "      <td>3923970</td>\n",
              "      <td>NaN</td>\n",
              "      <td>6.366308</td>\n",
              "      <td>934.0</td>\n",
              "      <td>2009</td>\n",
              "      <td>2</td>\n",
              "      <td>3</td>\n",
              "    </tr>\n",
              "  </tbody>\n",
              "</table>\n",
              "</div>"
            ],
            "text/plain": [
              "   id  ... release_day\n",
              "0   1  ...           4\n",
              "1   2  ...           4\n",
              "2   3  ...           4\n",
              "3   4  ...           4\n",
              "4   5  ...           3\n",
              "\n",
              "[5 rows x 29 columns]"
            ]
          },
          "metadata": {},
          "execution_count": 20
        }
      ]
    },
    {
      "cell_type": "code",
      "metadata": {
        "execution": {
          "iopub.status.busy": "2021-11-05T15:32:44.409123Z",
          "iopub.execute_input": "2021-11-05T15:32:44.409703Z",
          "iopub.status.idle": "2021-11-05T15:32:44.431315Z",
          "shell.execute_reply.started": "2021-11-05T15:32:44.409664Z",
          "shell.execute_reply": "2021-11-05T15:32:44.430416Z"
        },
        "trusted": true,
        "id": "jF7KSJVJ41_H"
      },
      "source": [
        "train['numberofgenres']=train['genres'].apply(lambda x: len(x) if x != {} else 0)\n",
        "train['nameofcollection'] = train['belongs_to_collection'].apply(lambda x: x[0]['name'] if x != {} else 0)\n",
        "train['genres_info'] = train['genres'].apply(lambda x: x[0]['name'] if x != {} else 0)\n",
        "train['language'] = train['spoken_languages'].apply(lambda x: x[0]['name'] if x != {} else 0)\n",
        "train['production_country'] = train['production_countries'].apply(lambda x: x[0]['name'] if x != {} else 0)\n",
        "train['production_company'] = train['production_companies'].apply(lambda x: x[0]['name'] if x != {} else 0)"
      ],
      "execution_count": null,
      "outputs": []
    },
    {
      "cell_type": "code",
      "metadata": {
        "execution": {
          "iopub.status.busy": "2021-11-05T15:32:44.432615Z",
          "iopub.execute_input": "2021-11-05T15:32:44.43303Z",
          "iopub.status.idle": "2021-11-05T15:32:44.465222Z",
          "shell.execute_reply.started": "2021-11-05T15:32:44.43299Z",
          "shell.execute_reply": "2021-11-05T15:32:44.464404Z"
        },
        "trusted": true,
        "id": "NnEO_4TV41_H"
      },
      "source": [
        "test['numberofgenres']=train['genres'].apply(lambda x: len(x) if x != {} else 0)\n",
        "test['numberofgenres']=test['numberofgenres'].replace(np.nan,0)\n",
        "test['nameofcollection'] = test['belongs_to_collection'].apply(lambda x: x[0]['name'] if x != {} else 0)\n",
        "test['genres_info'] = test['genres'].apply(lambda x: x[0]['name'] if x != {} else 0)\n",
        "test['language'] = test['spoken_languages'].apply(lambda x: x[0]['name'] if x != {} else 0)\n",
        "test['production_country'] = test['production_countries'].apply(lambda x: x[0]['name'] if x != {} else 0)\n",
        "test['production_company'] = test['production_companies'].apply(lambda x: x[0]['name'] if x != {} else 0)"
      ],
      "execution_count": null,
      "outputs": []
    },
    {
      "cell_type": "markdown",
      "metadata": {
        "id": "BNsZRdKA-pYq"
      },
      "source": [
        "**Extracting the required data from the converted dictionary columns**\n",
        "\n",
        "**Feature Engineering of some columns have been added to get the total number of genres in a movie, name of the collection and other feature engineering columns**"
      ]
    },
    {
      "cell_type": "code",
      "metadata": {
        "colab": {
          "base_uri": "https://localhost:8080/",
          "height": 505
        },
        "id": "dPWqLPFwAAq0",
        "outputId": "080dec4d-8bee-4235-d581-5e40d1ee005b"
      },
      "source": [
        "corr = train.corr()\n",
        "ax , fig  = plt.subplots(figsize =(20,7))\n",
        "sns.heatmap(corr ,vmin = -1 , cmap='coolwarm', annot = True)\n",
        "plt.show()"
      ],
      "execution_count": null,
      "outputs": [
        {
          "output_type": "display_data",
          "data": {
            "image/png": "[encoded data removed]",
            "text/plain": [
              "<Figure size 1440x504 with 2 Axes>"
            ]
          },
          "metadata": {
            "needs_background": "light"
          }
        }
      ]
    },
    {
      "cell_type": "markdown",
      "metadata": {
        "id": "sU78yg6ZANdQ"
      },
      "source": [
        "**We can see that the highest correlated variable is budget to the target variable**"
      ]
    },
    {
      "cell_type": "code",
      "metadata": {
        "execution": {
          "iopub.status.busy": "2021-11-05T15:32:44.466351Z",
          "iopub.execute_input": "2021-11-05T15:32:44.466605Z",
          "iopub.status.idle": "2021-11-05T15:32:44.858496Z",
          "shell.execute_reply.started": "2021-11-05T15:32:44.466581Z",
          "shell.execute_reply": "2021-11-05T15:32:44.85736Z"
        },
        "trusted": true,
        "colab": {
          "base_uri": "https://localhost:8080/",
          "height": 363
        },
        "id": "Eg0md3Lt41_H",
        "outputId": "57963652-f3c0-485c-8337-eb3192223988"
      },
      "source": [
        "train = train.astype({\"budget\":'Int32',})\n",
        "fig, ax = plt.subplots(1,2,figsize=(12,5))\n",
        "sns.distplot(train['budget'],ax=ax[0],color='black')\n",
        "sns.distplot(np.log1p(train['budget']),ax=ax[1],color='black')\n"
      ],
      "execution_count": null,
      "outputs": [
        {
          "output_type": "execute_result",
          "data": {
            "text/plain": [
              "<matplotlib.axes._subplots.AxesSubplot at 0x7fbb16eb3050>"
            ]
          },
          "metadata": {},
          "execution_count": 23
        },
        {
          "output_type": "display_data",
          "data": {
            "image/png": "[encoded data removed]",
            "text/plain": [
              "<Figure size 864x360 with 2 Axes>"
            ]
          },
          "metadata": {
            "needs_background": "light"
          }
        }
      ]
    },
    {
      "cell_type": "markdown",
      "metadata": {
        "id": "iWRy_hdx_qOC"
      },
      "source": [
        "**Checking the skewness of the Budget column which seems to be highly correlated to the target variable**"
      ]
    },
    {
      "cell_type": "code",
      "metadata": {
        "execution": {
          "iopub.status.busy": "2021-11-05T15:32:44.860206Z",
          "iopub.execute_input": "2021-11-05T15:32:44.86084Z",
          "iopub.status.idle": "2021-11-05T15:32:45.450189Z",
          "shell.execute_reply.started": "2021-11-05T15:32:44.860797Z",
          "shell.execute_reply": "2021-11-05T15:32:45.449397Z"
        },
        "trusted": true,
        "colab": {
          "base_uri": "https://localhost:8080/",
          "height": 363
        },
        "id": "8-IfFh7641_I",
        "outputId": "9205b757-a873-4e1f-9f9e-222afaa26ebd"
      },
      "source": [
        "fig, ax = plt.subplots(1,2,figsize=(12,5))\n",
        "sns.distplot(train['revenue'],ax=ax[0],color='black')\n",
        "sns.distplot(np.log(train['revenue']),ax=ax[1],color='black')\n"
      ],
      "execution_count": null,
      "outputs": [
        {
          "output_type": "execute_result",
          "data": {
            "text/plain": [
              "<matplotlib.axes._subplots.AxesSubplot at 0x7fbb16c7bb10>"
            ]
          },
          "metadata": {},
          "execution_count": 24
        },
        {
          "output_type": "display_data",
          "data": {
            "image/png": "[encoded data removed]",
            "text/plain": [
              "<Figure size 864x360 with 2 Axes>"
            ]
          },
          "metadata": {
            "needs_background": "light"
          }
        }
      ]
    },
    {
      "cell_type": "markdown",
      "metadata": {
        "id": "QHER-qRH_45-"
      },
      "source": [
        "**Checking the skewness of the target variable \"Revenue\"**"
      ]
    },
    {
      "cell_type": "code",
      "metadata": {
        "execution": {
          "iopub.status.busy": "2021-11-05T15:32:45.454137Z",
          "iopub.execute_input": "2021-11-05T15:32:45.456233Z",
          "iopub.status.idle": "2021-11-05T15:32:45.479264Z",
          "shell.execute_reply.started": "2021-11-05T15:32:45.456189Z",
          "shell.execute_reply": "2021-11-05T15:32:45.478504Z"
        },
        "trusted": true,
        "id": "36CJLZel41_I"
      },
      "source": [
        "train['lang_english']=0\n",
        "train.loc[train['original_language'].astype(str)==\"en\",\"lang_english\"]=1\n",
        "\n",
        "train['bud_runtime']=(train['budget']+1)/(train['runtime']+1)\n",
        "\n",
        "train['bud_year']=(train['budget']+1)/(train['release_year']+1)\n",
        "\n",
        "train['bud_popularity']=(train['budget']+1)/(train['popularity']+1)\n",
        "\n",
        "train['runtime_year']=(train['runtime']+1)/(train['release_year']+1)\n",
        "\n",
        "train['popularity_year']=(train['popularity']+1)/(train['release_year']+1)"
      ],
      "execution_count": null,
      "outputs": []
    },
    {
      "cell_type": "code",
      "metadata": {
        "execution": {
          "iopub.status.busy": "2021-11-05T15:32:45.482971Z",
          "iopub.execute_input": "2021-11-05T15:32:45.484943Z",
          "iopub.status.idle": "2021-11-05T15:32:45.510716Z",
          "shell.execute_reply.started": "2021-11-05T15:32:45.484903Z",
          "shell.execute_reply": "2021-11-05T15:32:45.509931Z"
        },
        "trusted": true,
        "id": "pcg9atJm41_I"
      },
      "source": [
        "test['lang_english']=0\n",
        "test.loc[test['original_language'].astype(str)==\"en\",\"lang_english\"]=1\n",
        "\n",
        "test['bud_runtime']=(test['budget']+1)/(test['runtime']+1)\n",
        "\n",
        "test['bud_year']=(test['budget']+1)/(test['release_year']+1)\n",
        "\n",
        "test['bud_popularity']=(test['budget']+1)/(test['popularity']+1)\n",
        "\n",
        "test['runtime_year']=(test['runtime']+1)/(test['release_year']+1)\n",
        "\n",
        "test['popularity_year']=(test['popularity']+1)/(test['release_year']+1)"
      ],
      "execution_count": null,
      "outputs": []
    },
    {
      "cell_type": "markdown",
      "metadata": {
        "id": "q-26VlmVAgiG"
      },
      "source": [
        "**Feature Engineering some other numerical columns w.r.t the highest correlated variable i.e. budget and runtime and popularity(Test and Train)**"
      ]
    },
    {
      "cell_type": "code",
      "metadata": {
        "execution": {
          "iopub.status.busy": "2021-11-05T15:32:45.514624Z",
          "iopub.execute_input": "2021-11-05T15:32:45.516699Z",
          "iopub.status.idle": "2021-11-05T15:32:45.550435Z",
          "shell.execute_reply.started": "2021-11-05T15:32:45.516659Z",
          "shell.execute_reply": "2021-11-05T15:32:45.549604Z"
        },
        "trusted": true,
        "id": "IdmOdj5b41_I"
      },
      "source": [
        "train['homepage'] = train['homepage'].fillna(0)\n",
        "train['homepage'] = train['homepage'].apply(lambda x: 0 if x==0 else 1)\n",
        "\n",
        "train['overview'] = train['overview'].fillna(0)\n",
        "train['overview'] = train['overview'].apply(lambda x: 0 if x==0 else 1)\n",
        "\n",
        "train['poster_path'] = train['poster_path'].fillna(0)\n",
        "train['poster_path'] = train['poster_path'].apply(lambda x: 0 if x==0 else 1)\n",
        "\n",
        "train['tagline'] = train['tagline'].fillna(0)\n",
        "train['tagline'] = train['tagline'].apply(lambda x: 0 if x==0 else 1)\n"
      ],
      "execution_count": null,
      "outputs": []
    },
    {
      "cell_type": "code",
      "metadata": {
        "execution": {
          "iopub.status.busy": "2021-11-05T15:32:45.554591Z",
          "iopub.execute_input": "2021-11-05T15:32:45.556796Z",
          "iopub.status.idle": "2021-11-05T15:32:45.597652Z",
          "shell.execute_reply.started": "2021-11-05T15:32:45.556756Z",
          "shell.execute_reply": "2021-11-05T15:32:45.596752Z"
        },
        "trusted": true,
        "id": "qxqM4-xp41_J"
      },
      "source": [
        "test['homepage'] = test['homepage'].fillna(0)\n",
        "test['homepage'] = test['homepage'].apply(lambda x: 0 if x==0 else 1)\n",
        "\n",
        "test['overview'] = test['overview'].fillna(0)\n",
        "test['overview'] = test['overview'].apply(lambda x: 0 if x==0 else 1)\n",
        "\n",
        "test['poster_path'] = test['overview'].fillna(0)\n",
        "test['poster_path'] = test['poster_path'].apply(lambda x: 0 if x==0 else 1)\n",
        "\n",
        "test['tagline'] = test['tagline'].fillna(0)\n",
        "test['tagline'] = test['tagline'].apply(lambda x: 0 if x==0 else 1)"
      ],
      "execution_count": null,
      "outputs": []
    },
    {
      "cell_type": "markdown",
      "metadata": {
        "id": "mSyJlildAz96"
      },
      "source": [
        "**Encoding of some dictionary columns into 0 and 1 such that if there is any null values it should be filled as 0 else it should be set as 1 (Train and Test)**"
      ]
    },
    {
      "cell_type": "code",
      "metadata": {
        "execution": {
          "iopub.status.busy": "2021-11-05T15:32:45.605978Z",
          "iopub.execute_input": "2021-11-05T15:32:45.608179Z",
          "iopub.status.idle": "2021-11-05T15:32:45.631758Z",
          "shell.execute_reply.started": "2021-11-05T15:32:45.60814Z",
          "shell.execute_reply": "2021-11-05T15:32:45.631015Z"
        },
        "trusted": true,
        "colab": {
          "base_uri": "https://localhost:8080/"
        },
        "id": "uU9Mm2gd41_J",
        "outputId": "06cddc74-5729-4e38-f62d-53d46da6951f"
      },
      "source": [
        "train.isna().sum()"
      ],
      "execution_count": null,
      "outputs": [
        {
          "output_type": "execute_result",
          "data": {
            "text/plain": [
              "id                         0\n",
              "belongs_to_collection      0\n",
              "budget                     0\n",
              "genres                     0\n",
              "homepage                   0\n",
              "imdb_id                    0\n",
              "original_language          0\n",
              "original_title             0\n",
              "overview                   0\n",
              "popularity                 0\n",
              "poster_path                0\n",
              "production_companies       0\n",
              "production_countries       0\n",
              "release_date               0\n",
              "runtime                    0\n",
              "spoken_languages           0\n",
              "status                     0\n",
              "tagline                    0\n",
              "title                      0\n",
              "Keywords                   0\n",
              "cast                       0\n",
              "crew                       0\n",
              "revenue                    0\n",
              "popularity2              118\n",
              "rating                     0\n",
              "totalVotes                 0\n",
              "release_year               0\n",
              "release_month              0\n",
              "release_day                0\n",
              "numberofgenres             0\n",
              "nameofcollection           0\n",
              "genres_info                0\n",
              "language                   0\n",
              "production_country         0\n",
              "production_company         0\n",
              "lang_english               0\n",
              "bud_runtime                0\n",
              "bud_year                   0\n",
              "bud_popularity             0\n",
              "runtime_year               0\n",
              "popularity_year            0\n",
              "dtype: int64"
            ]
          },
          "metadata": {},
          "execution_count": 29
        }
      ]
    },
    {
      "cell_type": "code",
      "metadata": {
        "execution": {
          "iopub.status.busy": "2021-11-05T15:32:45.636664Z",
          "iopub.execute_input": "2021-11-05T15:32:45.639021Z",
          "iopub.status.idle": "2021-11-05T15:32:45.664972Z",
          "shell.execute_reply.started": "2021-11-05T15:32:45.63898Z",
          "shell.execute_reply": "2021-11-05T15:32:45.664232Z"
        },
        "trusted": true,
        "colab": {
          "base_uri": "https://localhost:8080/"
        },
        "id": "ROmVhfEC41_J",
        "outputId": "d5de3627-836f-47a1-bf7f-8ce5040d2db2"
      },
      "source": [
        "test.isna().sum()"
      ],
      "execution_count": null,
      "outputs": [
        {
          "output_type": "execute_result",
          "data": {
            "text/plain": [
              "id                         0\n",
              "belongs_to_collection      0\n",
              "budget                     0\n",
              "genres                     0\n",
              "homepage                   0\n",
              "imdb_id                    0\n",
              "original_language          0\n",
              "original_title             0\n",
              "overview                   0\n",
              "popularity                 0\n",
              "poster_path                0\n",
              "production_companies       0\n",
              "production_countries       0\n",
              "release_date               1\n",
              "runtime                    0\n",
              "spoken_languages           0\n",
              "status                     2\n",
              "tagline                    0\n",
              "title                      3\n",
              "Keywords                   0\n",
              "cast                       0\n",
              "crew                       0\n",
              "popularity2              179\n",
              "rating                     0\n",
              "totalVotes                 0\n",
              "release_year               1\n",
              "release_month              1\n",
              "release_day                1\n",
              "numberofgenres             0\n",
              "nameofcollection           0\n",
              "genres_info                0\n",
              "language                   0\n",
              "production_country         0\n",
              "production_company         0\n",
              "lang_english               0\n",
              "bud_runtime                0\n",
              "bud_year                   1\n",
              "bud_popularity             0\n",
              "runtime_year               1\n",
              "popularity_year            1\n",
              "dtype: int64"
            ]
          },
          "metadata": {},
          "execution_count": 30
        }
      ]
    },
    {
      "cell_type": "markdown",
      "metadata": {
        "id": "YiP9E1u241_J"
      },
      "source": [
        "**There were few missing values in the test as seen above in the dates section**"
      ]
    },
    {
      "cell_type": "code",
      "metadata": {
        "execution": {
          "iopub.status.busy": "2021-11-05T15:32:45.668613Z",
          "iopub.execute_input": "2021-11-05T15:32:45.670621Z",
          "iopub.status.idle": "2021-11-05T15:32:45.684605Z",
          "shell.execute_reply.started": "2021-11-05T15:32:45.670581Z",
          "shell.execute_reply": "2021-11-05T15:32:45.683744Z"
        },
        "trusted": true,
        "id": "36X0nvDs41_J"
      },
      "source": [
        "test['release_year']=test['release_year'].fillna(test['release_year'].mode()[0])\n",
        "test['release_month']=test['release_month'].fillna(test['release_month'].mode()[0])\n",
        "test['release_day']=test['release_day'].fillna(test['release_day'].mode()[0])\n",
        "\n",
        "test['bud_year']=test['bud_year'].fillna(test['bud_year'].mean())\n",
        "\n",
        "test['popularity_year']=test['popularity_year'].fillna(test['popularity_year'].mean())\n",
        "\n",
        "test['runtime_year']=test['runtime_year'].fillna(test['runtime_year'].mean())"
      ],
      "execution_count": null,
      "outputs": []
    },
    {
      "cell_type": "markdown",
      "metadata": {
        "id": "BH6gXkz_D50L"
      },
      "source": [
        "**Imputing year,month and day by the Mode and the continuous variables by the Mean**"
      ]
    },
    {
      "cell_type": "code",
      "metadata": {
        "execution": {
          "iopub.status.busy": "2021-11-05T15:32:45.688716Z",
          "iopub.execute_input": "2021-11-05T15:32:45.689592Z",
          "iopub.status.idle": "2021-11-05T15:32:45.845861Z",
          "shell.execute_reply.started": "2021-11-05T15:32:45.689554Z",
          "shell.execute_reply": "2021-11-05T15:32:45.845069Z"
        },
        "trusted": true,
        "colab": {
          "base_uri": "https://localhost:8080/",
          "height": 313
        },
        "id": "NXKGIpWo41_J",
        "outputId": "132ea201-e3c7-4049-89c5-e37827ec80c8"
      },
      "source": [
        "train.groupby('release_year')['revenue'].mean().plot(color='black')\n",
        "plt.xlabel('Release_year',fontsize = 10)\n",
        "plt.ylabel('Revenue',fontsize = 10);\n",
        "plt.title(\"Release Year vs Revenue\")"
      ],
      "execution_count": null,
      "outputs": [
        {
          "output_type": "execute_result",
          "data": {
            "text/plain": [
              "Text(0.5, 1.0, 'Release Year vs Revenue')"
            ]
          },
          "metadata": {},
          "execution_count": 32
        },
        {
          "output_type": "display_data",
          "data": {
            "image/png": "[encoded data removed]",
            "text/plain": [
              "<Figure size 432x288 with 1 Axes>"
            ]
          },
          "metadata": {
            "needs_background": "light"
          }
        }
      ]
    },
    {
      "cell_type": "markdown",
      "metadata": {
        "id": "N7LGJcBhEG2W"
      },
      "source": [
        "**Release Year VS Revenue**\n",
        "\n",
        "**Just to check does the revenue got increased as per the time period**\n",
        "\n",
        "**We have revenue for the movies upto 2060!!**"
      ]
    },
    {
      "cell_type": "code",
      "metadata": {
        "execution": {
          "iopub.status.busy": "2021-11-05T15:32:45.847156Z",
          "iopub.execute_input": "2021-11-05T15:32:45.847516Z",
          "iopub.status.idle": "2021-11-05T15:32:45.859002Z",
          "shell.execute_reply.started": "2021-11-05T15:32:45.84748Z",
          "shell.execute_reply": "2021-11-05T15:32:45.858172Z"
        },
        "trusted": true,
        "id": "UPhLsliI41_K"
      },
      "source": [
        "train =train.loc[(train['release_year']<=2020)]"
      ],
      "execution_count": null,
      "outputs": []
    },
    {
      "cell_type": "code",
      "metadata": {
        "execution": {
          "iopub.status.busy": "2021-11-05T15:32:45.860365Z",
          "iopub.execute_input": "2021-11-05T15:32:45.860725Z",
          "iopub.status.idle": "2021-11-05T15:32:46.039779Z",
          "shell.execute_reply.started": "2021-11-05T15:32:45.860688Z",
          "shell.execute_reply": "2021-11-05T15:32:46.038923Z"
        },
        "trusted": true,
        "colab": {
          "base_uri": "https://localhost:8080/",
          "height": 329
        },
        "id": "UYPInTi941_K",
        "outputId": "7ab97e3f-9483-4913-e696-3e20947e28da"
      },
      "source": [
        "train.groupby('release_year')['revenue'].mean().plot(color='black')\n",
        "plt.xticks(np.arange(1970,2020,4),rotation=45)\n",
        "plt.xlabel('Release_year',fontsize = 10)\n",
        "plt.ylabel('Revenue',fontsize = 10);\n",
        "plt.title(\"Release Year vs Revenue\")"
      ],
      "execution_count": null,
      "outputs": [
        {
          "output_type": "execute_result",
          "data": {
            "text/plain": [
              "Text(0.5, 1.0, 'Release Year vs Revenue')"
            ]
          },
          "metadata": {},
          "execution_count": 34
        },
        {
          "output_type": "display_data",
          "data": {
            "image/png": "[encoded data removed]",
            "text/plain": [
              "<Figure size 432x288 with 1 Axes>"
            ]
          },
          "metadata": {
            "needs_background": "light"
          }
        }
      ]
    },
    {
      "cell_type": "markdown",
      "metadata": {
        "id": "QtnEATtPE02o"
      },
      "source": [
        "**Checking how the release year affects the revenue for the movies before 2020**"
      ]
    },
    {
      "cell_type": "code",
      "metadata": {
        "execution": {
          "iopub.status.busy": "2021-11-05T15:32:46.041079Z",
          "iopub.execute_input": "2021-11-05T15:32:46.041585Z",
          "iopub.status.idle": "2021-11-05T15:32:46.176702Z",
          "shell.execute_reply.started": "2021-11-05T15:32:46.041543Z",
          "shell.execute_reply": "2021-11-05T15:32:46.175862Z"
        },
        "trusted": true,
        "colab": {
          "base_uri": "https://localhost:8080/",
          "height": 313
        },
        "id": "ojqWqub-41_K",
        "outputId": "125b0885-97db-4b78-bf0d-19cb5466a2e0"
      },
      "source": [
        "train.groupby('release_month')['revenue'].mean().plot(color='black')\n",
        "plt.xlabel('Release_month',fontsize = 10)\n",
        "plt.ylabel('Revenue',fontsize = 10)\n",
        "plt.title(\"Release Month vs Revenue\")"
      ],
      "execution_count": null,
      "outputs": [
        {
          "output_type": "execute_result",
          "data": {
            "text/plain": [
              "Text(0.5, 1.0, 'Release Month vs Revenue')"
            ]
          },
          "metadata": {},
          "execution_count": 35
        },
        {
          "output_type": "display_data",
          "data": {
            "image/png": "[encoded data removed]",
            "text/plain": [
              "<Figure size 432x288 with 1 Axes>"
            ]
          },
          "metadata": {
            "needs_background": "light"
          }
        }
      ]
    },
    {
      "cell_type": "markdown",
      "metadata": {
        "id": "mOmJtE2EFoIC"
      },
      "source": [
        "**Release Month VS Revenue**\n",
        "\n",
        "**Checking how the release month affects the revenue**"
      ]
    },
    {
      "cell_type": "code",
      "metadata": {
        "execution": {
          "iopub.status.busy": "2021-11-05T15:32:46.178003Z",
          "iopub.execute_input": "2021-11-05T15:32:46.178487Z",
          "iopub.status.idle": "2021-11-05T15:32:46.321434Z",
          "shell.execute_reply.started": "2021-11-05T15:32:46.178449Z",
          "shell.execute_reply": "2021-11-05T15:32:46.320611Z"
        },
        "trusted": true,
        "colab": {
          "base_uri": "https://localhost:8080/",
          "height": 313
        },
        "id": "kJAbd85S41_K",
        "outputId": "5ce98a37-7f1c-49d9-8e0f-e545350d697a"
      },
      "source": [
        "train.groupby('release_day')['revenue'].mean().plot(color='black')\n",
        "plt.xlabel('Release_day',fontsize = 10)\n",
        "plt.ylabel('Revenue',fontsize = 10)\n",
        "plt.title(\"Release Day vs Revenue\")"
      ],
      "execution_count": null,
      "outputs": [
        {
          "output_type": "execute_result",
          "data": {
            "text/plain": [
              "Text(0.5, 1.0, 'Release Day vs Revenue')"
            ]
          },
          "metadata": {},
          "execution_count": 36
        },
        {
          "output_type": "display_data",
          "data": {
            "image/png": "[encoded data removed]",
            "text/plain": [
              "<Figure size 432x288 with 1 Axes>"
            ]
          },
          "metadata": {
            "needs_background": "light"
          }
        }
      ]
    },
    {
      "cell_type": "markdown",
      "metadata": {
        "id": "4AdLh1x5F2qM"
      },
      "source": [
        "**Release Day VS Revenue**"
      ]
    },
    {
      "cell_type": "code",
      "metadata": {
        "execution": {
          "iopub.status.busy": "2021-11-05T15:32:46.322741Z",
          "iopub.execute_input": "2021-11-05T15:32:46.323227Z",
          "iopub.status.idle": "2021-11-05T15:32:46.830087Z",
          "shell.execute_reply.started": "2021-11-05T15:32:46.323188Z",
          "shell.execute_reply": "2021-11-05T15:32:46.829195Z"
        },
        "trusted": true,
        "colab": {
          "base_uri": "https://localhost:8080/",
          "height": 621
        },
        "id": "IJb17qIh41_K",
        "outputId": "739c12db-8c93-4648-9284-e8d57e8c5008"
      },
      "source": [
        "plt.figure(figsize=(20,10))\n",
        "sns.countplot(x='release_year',data=train,palette=\"rocket\")\n",
        "plt.title(\"Movie Released VS Year\",fontsize=15)\n",
        "loc, labels = plt.xticks()\n",
        "plt.xlabel('Year',fontsize = 10)\n",
        "plt.ylabel('Number of Movies',fontsize = 10)\n",
        "plt.xticks(fontsize=15,rotation='vertical')\n",
        "plt.show()"
      ],
      "execution_count": null,
      "outputs": [
        {
          "output_type": "display_data",
          "data": {
            "image/png": "[encoded data removed]",
            "text/plain": [
              "<Figure size 1440x720 with 1 Axes>"
            ]
          },
          "metadata": {
            "needs_background": "light"
          }
        }
      ]
    },
    {
      "cell_type": "markdown",
      "metadata": {
        "id": "_-KShIiEF_Eg"
      },
      "source": [
        "**Movie Released VS Year**\n",
        "\n",
        "**We can get the number of movie released according to the respective years**"
      ]
    },
    {
      "cell_type": "code",
      "metadata": {
        "execution": {
          "iopub.status.busy": "2021-11-05T15:32:46.831545Z",
          "iopub.execute_input": "2021-11-05T15:32:46.831916Z",
          "iopub.status.idle": "2021-11-05T15:32:46.9875Z",
          "shell.execute_reply.started": "2021-11-05T15:32:46.831867Z",
          "shell.execute_reply": "2021-11-05T15:32:46.98664Z"
        },
        "trusted": true,
        "colab": {
          "base_uri": "https://localhost:8080/",
          "height": 629
        },
        "id": "lv-39eEs41_L",
        "outputId": "cac8a885-40b6-4aa5-bdcf-b425bfd4b769"
      },
      "source": [
        "plt.figure(figsize=(10,10))\n",
        "sns.countplot(x='release_day',data=train,palette=\"rocket\")\n",
        "loc, labels = plt.xticks()\n",
        "loc, labels = loc, ['Monday','Tuesday','Wednesday','Thursday',\"Friday\",\"Saturday\",\"Sunday\"]\n",
        "plt.xticks(loc, labels,fontsize=15)\n",
        "plt.xlabel('Release_day',fontsize = 10)\n",
        "plt.ylabel('Number of Movies',fontsize = 10)\n",
        "plt.title(\"Movies released VS Day of week\",fontsize=15)\n",
        "plt.show()"
      ],
      "execution_count": null,
      "outputs": [
        {
          "output_type": "display_data",
          "data": {
            "image/png": "[encoded data removed]",
            "text/plain": [
              "<Figure size 720x720 with 1 Axes>"
            ]
          },
          "metadata": {
            "needs_background": "light"
          }
        }
      ]
    },
    {
      "cell_type": "markdown",
      "metadata": {
        "id": "wg-78CWsGlR8"
      },
      "source": [
        "**Movie Released VS Day of week**\n",
        "\n",
        "**We can see that the amount of movies released on Friday are more, since people are more tend to come due to weekends**"
      ]
    },
    {
      "cell_type": "code",
      "metadata": {
        "execution": {
          "iopub.status.busy": "2021-11-05T15:32:46.988739Z",
          "iopub.execute_input": "2021-11-05T15:32:46.989278Z",
          "iopub.status.idle": "2021-11-05T15:32:47.317933Z",
          "shell.execute_reply.started": "2021-11-05T15:32:46.989194Z",
          "shell.execute_reply": "2021-11-05T15:32:47.31711Z"
        },
        "trusted": true,
        "colab": {
          "base_uri": "https://localhost:8080/",
          "height": 515
        },
        "id": "DWOx94Nz41_L",
        "outputId": "1a18a2f8-0eab-44e4-b241-55ff365b744f"
      },
      "source": [
        "train[['budget','revenue']].plot(kind='scatter',x='budget',y='revenue',figsize=(12,8))\n",
        "plt.title(\"Revenue VS Budget\",fontsize=15)\n",
        "plt.xlabel('Budget',fontsize = 10)\n",
        "plt.ylabel('Revenue',fontsize = 10)\n",
        "plt.show()"
      ],
      "execution_count": null,
      "outputs": [
        {
          "output_type": "display_data",
          "data": {
            "image/png": "[encoded data removed]",
            "text/plain": [
              "<Figure size 864x576 with 1 Axes>"
            ]
          },
          "metadata": {
            "needs_background": "light"
          }
        }
      ]
    },
    {
      "cell_type": "markdown",
      "metadata": {
        "id": "w06PN6ddG9p2"
      },
      "source": [
        "**Revenue VS Budget**\n",
        "\n",
        "**Here we can see as the budget of the movie increases the revenue of the movie also increases**"
      ]
    },
    {
      "cell_type": "code",
      "metadata": {
        "execution": {
          "iopub.status.busy": "2021-11-05T15:32:47.319222Z",
          "iopub.execute_input": "2021-11-05T15:32:47.319575Z",
          "iopub.status.idle": "2021-11-05T15:32:47.56305Z",
          "shell.execute_reply.started": "2021-11-05T15:32:47.319537Z",
          "shell.execute_reply": "2021-11-05T15:32:47.562189Z"
        },
        "trusted": true,
        "colab": {
          "base_uri": "https://localhost:8080/",
          "height": 391
        },
        "id": "V9g_1yfG41_L",
        "outputId": "f9275a78-b081-4d6f-cae8-d79ac075e89d"
      },
      "source": [
        "plt.figure(figsize=(10,5))\n",
        "sns.catplot(x='status', y='revenue', data=train,palette='rocket')\n",
        "plt.title('Revenue of movies VS Status',fontsize=13);\n",
        "plt.show()"
      ],
      "execution_count": null,
      "outputs": [
        {
          "output_type": "display_data",
          "data": {
            "text/plain": [
              "<Figure size 720x360 with 0 Axes>"
            ]
          },
          "metadata": {}
        },
        {
          "output_type": "display_data",
          "data": {
            "image/png": "[encoded data removed]",
            "text/plain": [
              "<Figure size 360x360 with 1 Axes>"
            ]
          },
          "metadata": {
            "needs_background": "light"
          }
        }
      ]
    },
    {
      "cell_type": "markdown",
      "metadata": {
        "id": "MVZ4BFEqHkjy"
      },
      "source": [
        "**Revenue of movies VS Status**\n",
        "\n",
        "**There are some movies which are not released yet**"
      ]
    },
    {
      "cell_type": "code",
      "metadata": {
        "execution": {
          "iopub.status.busy": "2021-11-05T15:32:47.643484Z",
          "iopub.execute_input": "2021-11-05T15:32:47.643856Z",
          "iopub.status.idle": "2021-11-05T15:32:47.759957Z",
          "shell.execute_reply.started": "2021-11-05T15:32:47.643816Z",
          "shell.execute_reply": "2021-11-05T15:32:47.759062Z"
        },
        "trusted": true,
        "id": "ivt1qvUA41_L"
      },
      "source": [
        "train = train.drop(['belongs_to_collection','genres','production_companies','nameofcollection','imdb_id','overview','poster_path','tagline','original_title','original_language','release_date','language','production_countries','cast','spoken_languages',\n",
        "                    'Keywords', 'status','genres_info','production_company','production_country','title','crew','popularity2'], axis=1)\n",
        "\n",
        "test = test.drop(['belongs_to_collection','genres','production_companies','nameofcollection','imdb_id','overview','poster_path','tagline','original_title','original_language','release_date','language','production_countries','cast','spoken_languages',\n",
        "                    'Keywords', 'status','genres_info','production_company','production_country','title','crew','popularity2'], axis=1)\n"
      ],
      "execution_count": null,
      "outputs": []
    },
    {
      "cell_type": "markdown",
      "metadata": {
        "id": "rlJOY9ccIHR-"
      },
      "source": [
        "**Dropping down the columns which have been feature engineered above**"
      ]
    },
    {
      "cell_type": "code",
      "metadata": {
        "execution": {
          "iopub.status.busy": "2021-11-05T15:32:56.997333Z",
          "iopub.execute_input": "2021-11-05T15:32:56.99785Z",
          "iopub.status.idle": "2021-11-05T15:32:57.005557Z",
          "shell.execute_reply.started": "2021-11-05T15:32:56.997808Z",
          "shell.execute_reply": "2021-11-05T15:32:57.004737Z"
        },
        "trusted": true,
        "id": "8SpDMXb041_M"
      },
      "source": [
        "test['budget']=np.log1p(test['budget'])\n",
        "train['budget']=np.log1p(train['budget'])\n",
        "\n",
        "train['revenue']=np.log1p(train['revenue'])"
      ],
      "execution_count": null,
      "outputs": []
    },
    {
      "cell_type": "code",
      "metadata": {
        "execution": {
          "iopub.status.busy": "2021-11-05T15:32:57.006682Z",
          "iopub.execute_input": "2021-11-05T15:32:57.007059Z",
          "iopub.status.idle": "2021-11-05T15:32:57.031856Z",
          "shell.execute_reply.started": "2021-11-05T15:32:57.00702Z",
          "shell.execute_reply": "2021-11-05T15:32:57.030949Z"
        },
        "trusted": true,
        "colab": {
          "base_uri": "https://localhost:8080/",
          "height": 225
        },
        "id": "sLbw7KQp41_M",
        "outputId": "353134eb-cef0-4bcc-d1e0-d8f112048b76"
      },
      "source": [
        "train.head()"
      ],
      "execution_count": null,
      "outputs": [
        {
          "output_type": "execute_result",
          "data": {
            "text/html": [
              "<div>\n",
              "<style scoped>\n",
              "    .dataframe tbody tr th:only-of-type {\n",
              "        vertical-align: middle;\n",
              "    }\n",
              "\n",
              "    .dataframe tbody tr th {\n",
              "        vertical-align: top;\n",
              "    }\n",
              "\n",
              "    .dataframe thead th {\n",
              "        text-align: right;\n",
              "    }\n",
              "</style>\n",
              "<table border=\"1\" class=\"dataframe\">\n",
              "  <thead>\n",
              "    <tr style=\"text-align: right;\">\n",
              "      <th></th>\n",
              "      <th>id</th>\n",
              "      <th>budget</th>\n",
              "      <th>homepage</th>\n",
              "      <th>popularity</th>\n",
              "      <th>runtime</th>\n",
              "      <th>revenue</th>\n",
              "      <th>rating</th>\n",
              "      <th>totalVotes</th>\n",
              "      <th>release_year</th>\n",
              "      <th>release_month</th>\n",
              "      <th>release_day</th>\n",
              "      <th>numberofgenres</th>\n",
              "      <th>lang_english</th>\n",
              "      <th>bud_runtime</th>\n",
              "      <th>bud_year</th>\n",
              "      <th>bud_popularity</th>\n",
              "      <th>runtime_year</th>\n",
              "      <th>popularity_year</th>\n",
              "    </tr>\n",
              "  </thead>\n",
              "  <tbody>\n",
              "    <tr>\n",
              "      <th>0</th>\n",
              "      <td>1</td>\n",
              "      <td>16.454568</td>\n",
              "      <td>0</td>\n",
              "      <td>6.575393</td>\n",
              "      <td>93.0</td>\n",
              "      <td>16.326300</td>\n",
              "      <td>5.000000</td>\n",
              "      <td>482.0</td>\n",
              "      <td>2015</td>\n",
              "      <td>2</td>\n",
              "      <td>4</td>\n",
              "      <td>1</td>\n",
              "      <td>1</td>\n",
              "      <td>148936.180851</td>\n",
              "      <td>6944.444940</td>\n",
              "      <td>1.848089e+06</td>\n",
              "      <td>0.046627</td>\n",
              "      <td>0.003758</td>\n",
              "    </tr>\n",
              "    <tr>\n",
              "      <th>1</th>\n",
              "      <td>2</td>\n",
              "      <td>17.504390</td>\n",
              "      <td>0</td>\n",
              "      <td>8.248895</td>\n",
              "      <td>113.0</td>\n",
              "      <td>18.370959</td>\n",
              "      <td>6.400000</td>\n",
              "      <td>1528.0</td>\n",
              "      <td>2004</td>\n",
              "      <td>8</td>\n",
              "      <td>4</td>\n",
              "      <td>4</td>\n",
              "      <td>1</td>\n",
              "      <td>350877.201754</td>\n",
              "      <td>19950.125187</td>\n",
              "      <td>4.324841e+06</td>\n",
              "      <td>0.056858</td>\n",
              "      <td>0.004613</td>\n",
              "    </tr>\n",
              "    <tr>\n",
              "      <th>2</th>\n",
              "      <td>3</td>\n",
              "      <td>15.009433</td>\n",
              "      <td>1</td>\n",
              "      <td>64.299990</td>\n",
              "      <td>105.0</td>\n",
              "      <td>16.387512</td>\n",
              "      <td>8.400000</td>\n",
              "      <td>7314.0</td>\n",
              "      <td>2014</td>\n",
              "      <td>10</td>\n",
              "      <td>4</td>\n",
              "      <td>1</td>\n",
              "      <td>1</td>\n",
              "      <td>31132.084906</td>\n",
              "      <td>1637.717618</td>\n",
              "      <td>5.053601e+04</td>\n",
              "      <td>0.052605</td>\n",
              "      <td>0.032407</td>\n",
              "    </tr>\n",
              "    <tr>\n",
              "      <th>3</th>\n",
              "      <td>4</td>\n",
              "      <td>13.997833</td>\n",
              "      <td>1</td>\n",
              "      <td>3.174936</td>\n",
              "      <td>122.0</td>\n",
              "      <td>16.588099</td>\n",
              "      <td>7.500000</td>\n",
              "      <td>115.0</td>\n",
              "      <td>2012</td>\n",
              "      <td>3</td>\n",
              "      <td>4</td>\n",
              "      <td>2</td>\n",
              "      <td>0</td>\n",
              "      <td>9756.105691</td>\n",
              "      <td>596.125683</td>\n",
              "      <td>2.874298e+05</td>\n",
              "      <td>0.061103</td>\n",
              "      <td>0.002074</td>\n",
              "    </tr>\n",
              "    <tr>\n",
              "      <th>4</th>\n",
              "      <td>5</td>\n",
              "      <td>0.000000</td>\n",
              "      <td>0</td>\n",
              "      <td>1.148070</td>\n",
              "      <td>118.0</td>\n",
              "      <td>15.182615</td>\n",
              "      <td>6.366308</td>\n",
              "      <td>934.0</td>\n",
              "      <td>2009</td>\n",
              "      <td>2</td>\n",
              "      <td>3</td>\n",
              "      <td>2</td>\n",
              "      <td>0</td>\n",
              "      <td>0.008403</td>\n",
              "      <td>0.000498</td>\n",
              "      <td>4.655342e-01</td>\n",
              "      <td>0.059204</td>\n",
              "      <td>0.001069</td>\n",
              "    </tr>\n",
              "  </tbody>\n",
              "</table>\n",
              "</div>"
            ],
            "text/plain": [
              "   id     budget  homepage  ...  bud_popularity  runtime_year  popularity_year\n",
              "0   1  16.454568         0  ...    1.848089e+06      0.046627         0.003758\n",
              "1   2  17.504390         0  ...    4.324841e+06      0.056858         0.004613\n",
              "2   3  15.009433         1  ...    5.053601e+04      0.052605         0.032407\n",
              "3   4  13.997833         1  ...    2.874298e+05      0.061103         0.002074\n",
              "4   5   0.000000         0  ...    4.655342e-01      0.059204         0.001069\n",
              "\n",
              "[5 rows x 18 columns]"
            ]
          },
          "metadata": {},
          "execution_count": 45
        }
      ]
    },
    {
      "cell_type": "code",
      "metadata": {
        "execution": {
          "iopub.status.busy": "2021-11-05T15:32:57.034754Z",
          "iopub.execute_input": "2021-11-05T15:32:57.035025Z",
          "iopub.status.idle": "2021-11-05T15:32:57.056116Z",
          "shell.execute_reply.started": "2021-11-05T15:32:57.035001Z",
          "shell.execute_reply": "2021-11-05T15:32:57.055171Z"
        },
        "trusted": true,
        "colab": {
          "base_uri": "https://localhost:8080/",
          "height": 225
        },
        "id": "gVZZmL_h41_M",
        "outputId": "b4f0d712-b05f-47be-935d-4c6cc2d7432c"
      },
      "source": [
        "test.head()"
      ],
      "execution_count": null,
      "outputs": [
        {
          "output_type": "execute_result",
          "data": {
            "text/html": [
              "<div>\n",
              "<style scoped>\n",
              "    .dataframe tbody tr th:only-of-type {\n",
              "        vertical-align: middle;\n",
              "    }\n",
              "\n",
              "    .dataframe tbody tr th {\n",
              "        vertical-align: top;\n",
              "    }\n",
              "\n",
              "    .dataframe thead th {\n",
              "        text-align: right;\n",
              "    }\n",
              "</style>\n",
              "<table border=\"1\" class=\"dataframe\">\n",
              "  <thead>\n",
              "    <tr style=\"text-align: right;\">\n",
              "      <th></th>\n",
              "      <th>id</th>\n",
              "      <th>budget</th>\n",
              "      <th>homepage</th>\n",
              "      <th>popularity</th>\n",
              "      <th>runtime</th>\n",
              "      <th>rating</th>\n",
              "      <th>totalVotes</th>\n",
              "      <th>release_year</th>\n",
              "      <th>release_month</th>\n",
              "      <th>release_day</th>\n",
              "      <th>numberofgenres</th>\n",
              "      <th>lang_english</th>\n",
              "      <th>bud_runtime</th>\n",
              "      <th>bud_year</th>\n",
              "      <th>bud_popularity</th>\n",
              "      <th>runtime_year</th>\n",
              "      <th>popularity_year</th>\n",
              "    </tr>\n",
              "  </thead>\n",
              "  <tbody>\n",
              "    <tr>\n",
              "      <th>0</th>\n",
              "      <td>3001</td>\n",
              "      <td>0.000000</td>\n",
              "      <td>1</td>\n",
              "      <td>3.851534</td>\n",
              "      <td>90.0</td>\n",
              "      <td>6.6</td>\n",
              "      <td>91.0</td>\n",
              "      <td>2007.0</td>\n",
              "      <td>7.0</td>\n",
              "      <td>5.0</td>\n",
              "      <td>1.0</td>\n",
              "      <td>0</td>\n",
              "      <td>0.010989</td>\n",
              "      <td>0.000498</td>\n",
              "      <td>0.206120</td>\n",
              "      <td>0.045319</td>\n",
              "      <td>0.002416</td>\n",
              "    </tr>\n",
              "    <tr>\n",
              "      <th>1</th>\n",
              "      <td>3002</td>\n",
              "      <td>11.385103</td>\n",
              "      <td>0</td>\n",
              "      <td>3.559789</td>\n",
              "      <td>65.0</td>\n",
              "      <td>4.5</td>\n",
              "      <td>51.0</td>\n",
              "      <td>2058.0</td>\n",
              "      <td>5.0</td>\n",
              "      <td>6.0</td>\n",
              "      <td>4.0</td>\n",
              "      <td>1</td>\n",
              "      <td>1333.348485</td>\n",
              "      <td>42.739679</td>\n",
              "      <td>19299.357931</td>\n",
              "      <td>0.032054</td>\n",
              "      <td>0.002215</td>\n",
              "    </tr>\n",
              "    <tr>\n",
              "      <th>2</th>\n",
              "      <td>3003</td>\n",
              "      <td>0.000000</td>\n",
              "      <td>0</td>\n",
              "      <td>8.085194</td>\n",
              "      <td>100.0</td>\n",
              "      <td>6.1</td>\n",
              "      <td>176.0</td>\n",
              "      <td>1997.0</td>\n",
              "      <td>5.0</td>\n",
              "      <td>4.0</td>\n",
              "      <td>1.0</td>\n",
              "      <td>1</td>\n",
              "      <td>0.009901</td>\n",
              "      <td>0.000501</td>\n",
              "      <td>0.110069</td>\n",
              "      <td>0.050551</td>\n",
              "      <td>0.004547</td>\n",
              "    </tr>\n",
              "    <tr>\n",
              "      <th>3</th>\n",
              "      <td>3004</td>\n",
              "      <td>15.732433</td>\n",
              "      <td>1</td>\n",
              "      <td>8.596012</td>\n",
              "      <td>130.0</td>\n",
              "      <td>8.0</td>\n",
              "      <td>937.0</td>\n",
              "      <td>2010.0</td>\n",
              "      <td>9.0</td>\n",
              "      <td>5.0</td>\n",
              "      <td>2.0</td>\n",
              "      <td>0</td>\n",
              "      <td>51908.404580</td>\n",
              "      <td>3381.402785</td>\n",
              "      <td>708627.813304</td>\n",
              "      <td>0.065142</td>\n",
              "      <td>0.004772</td>\n",
              "    </tr>\n",
              "    <tr>\n",
              "      <th>4</th>\n",
              "      <td>3005</td>\n",
              "      <td>14.508658</td>\n",
              "      <td>0</td>\n",
              "      <td>3.217680</td>\n",
              "      <td>92.0</td>\n",
              "      <td>6.8</td>\n",
              "      <td>50.0</td>\n",
              "      <td>2005.0</td>\n",
              "      <td>2.0</td>\n",
              "      <td>4.0</td>\n",
              "      <td>2.0</td>\n",
              "      <td>1</td>\n",
              "      <td>21505.387097</td>\n",
              "      <td>997.009472</td>\n",
              "      <td>474194.580907</td>\n",
              "      <td>0.046361</td>\n",
              "      <td>0.002103</td>\n",
              "    </tr>\n",
              "  </tbody>\n",
              "</table>\n",
              "</div>"
            ],
            "text/plain": [
              "     id     budget  homepage  ...  bud_popularity  runtime_year  popularity_year\n",
              "0  3001   0.000000         1  ...        0.206120      0.045319         0.002416\n",
              "1  3002  11.385103         0  ...    19299.357931      0.032054         0.002215\n",
              "2  3003   0.000000         0  ...        0.110069      0.050551         0.004547\n",
              "3  3004  15.732433         1  ...   708627.813304      0.065142         0.004772\n",
              "4  3005  14.508658         0  ...   474194.580907      0.046361         0.002103\n",
              "\n",
              "[5 rows x 17 columns]"
            ]
          },
          "metadata": {},
          "execution_count": 46
        }
      ]
    },
    {
      "cell_type": "code",
      "metadata": {
        "execution": {
          "iopub.status.busy": "2021-11-05T15:32:57.05753Z",
          "iopub.execute_input": "2021-11-05T15:32:57.058143Z",
          "iopub.status.idle": "2021-11-05T15:32:57.071509Z",
          "shell.execute_reply.started": "2021-11-05T15:32:57.058102Z",
          "shell.execute_reply": "2021-11-05T15:32:57.070331Z"
        },
        "trusted": true,
        "colab": {
          "base_uri": "https://localhost:8080/"
        },
        "id": "dS98sGr141_M",
        "outputId": "6058a8c5-d4ed-45ba-a565-e5a7d1416257"
      },
      "source": [
        "train.corr().revenue"
      ],
      "execution_count": null,
      "outputs": [
        {
          "output_type": "execute_result",
          "data": {
            "text/plain": [
              "id                 0.012539\n",
              "budget             0.537718\n",
              "homepage           0.135583\n",
              "popularity         0.290395\n",
              "runtime            0.212543\n",
              "revenue            1.000000\n",
              "rating             0.134218\n",
              "totalVotes         0.410851\n",
              "release_year      -0.056826\n",
              "release_month      0.033193\n",
              "release_day       -0.074551\n",
              "numberofgenres     0.195010\n",
              "lang_english       0.192291\n",
              "bud_runtime        0.381996\n",
              "bud_year           0.502566\n",
              "bud_popularity     0.351475\n",
              "runtime_year       0.214051\n",
              "popularity_year    0.291721\n",
              "Name: revenue, dtype: float64"
            ]
          },
          "metadata": {},
          "execution_count": 47
        }
      ]
    },
    {
      "cell_type": "code",
      "metadata": {
        "colab": {
          "base_uri": "https://localhost:8080/",
          "height": 631
        },
        "id": "b9LjDu-5I32Y",
        "outputId": "c7a0438b-584d-4981-95d4-9d6b97bc0d73"
      },
      "source": [
        "corr = train.corr()\n",
        "corr.style.background_gradient(cmap='coolwarm')"
      ],
      "execution_count": null,
      "outputs": [
        {
          "output_type": "execute_result",
          "data": {
            "text/html": [
              "<style  type=\"text/css\" >\n",
              "#T_ae814850_3eab_11ec_bf3b_0242ac1c0002row0_col0,#T_ae814850_3eab_11ec_bf3b_0242ac1c0002row1_col1,#T_ae814850_3eab_11ec_bf3b_0242ac1c0002row2_col2,#T_ae814850_3eab_11ec_bf3b_0242ac1c0002row3_col3,#T_ae814850_3eab_11ec_bf3b_0242ac1c0002row3_col17,#T_ae814850_3eab_11ec_bf3b_0242ac1c0002row4_col4,#T_ae814850_3eab_11ec_bf3b_0242ac1c0002row4_col16,#T_ae814850_3eab_11ec_bf3b_0242ac1c0002row5_col5,#T_ae814850_3eab_11ec_bf3b_0242ac1c0002row6_col6,#T_ae814850_3eab_11ec_bf3b_0242ac1c0002row7_col7,#T_ae814850_3eab_11ec_bf3b_0242ac1c0002row8_col8,#T_ae814850_3eab_11ec_bf3b_0242ac1c0002row9_col9,#T_ae814850_3eab_11ec_bf3b_0242ac1c0002row10_col10,#T_ae814850_3eab_11ec_bf3b_0242ac1c0002row11_col11,#T_ae814850_3eab_11ec_bf3b_0242ac1c0002row12_col12,#T_ae814850_3eab_11ec_bf3b_0242ac1c0002row13_col13,#T_ae814850_3eab_11ec_bf3b_0242ac1c0002row14_col14,#T_ae814850_3eab_11ec_bf3b_0242ac1c0002row15_col15,#T_ae814850_3eab_11ec_bf3b_0242ac1c0002row16_col4,#T_ae814850_3eab_11ec_bf3b_0242ac1c0002row16_col16,#T_ae814850_3eab_11ec_bf3b_0242ac1c0002row17_col3,#T_ae814850_3eab_11ec_bf3b_0242ac1c0002row17_col17{\n",
              "            background-color:  #b40426;\n",
              "            color:  #f1f1f1;\n",
              "        }#T_ae814850_3eab_11ec_bf3b_0242ac1c0002row0_col1,#T_ae814850_3eab_11ec_bf3b_0242ac1c0002row0_col3,#T_ae814850_3eab_11ec_bf3b_0242ac1c0002row0_col17,#T_ae814850_3eab_11ec_bf3b_0242ac1c0002row5_col9,#T_ae814850_3eab_11ec_bf3b_0242ac1c0002row6_col1,#T_ae814850_3eab_11ec_bf3b_0242ac1c0002row6_col10,#T_ae814850_3eab_11ec_bf3b_0242ac1c0002row9_col3,#T_ae814850_3eab_11ec_bf3b_0242ac1c0002row9_col17,#T_ae814850_3eab_11ec_bf3b_0242ac1c0002row11_col2,#T_ae814850_3eab_11ec_bf3b_0242ac1c0002row13_col6{\n",
              "            background-color:  #5572df;\n",
              "            color:  #000000;\n",
              "        }#T_ae814850_3eab_11ec_bf3b_0242ac1c0002row0_col2,#T_ae814850_3eab_11ec_bf3b_0242ac1c0002row4_col13,#T_ae814850_3eab_11ec_bf3b_0242ac1c0002row11_col8{\n",
              "            background-color:  #516ddb;\n",
              "            color:  #000000;\n",
              "        }#T_ae814850_3eab_11ec_bf3b_0242ac1c0002row0_col4,#T_ae814850_3eab_11ec_bf3b_0242ac1c0002row9_col1{\n",
              "            background-color:  #5e7de7;\n",
              "            color:  #000000;\n",
              "        }#T_ae814850_3eab_11ec_bf3b_0242ac1c0002row0_col5,#T_ae814850_3eab_11ec_bf3b_0242ac1c0002row2_col11,#T_ae814850_3eab_11ec_bf3b_0242ac1c0002row4_col10{\n",
              "            background-color:  #536edd;\n",
              "            color:  #000000;\n",
              "        }#T_ae814850_3eab_11ec_bf3b_0242ac1c0002row0_col6,#T_ae814850_3eab_11ec_bf3b_0242ac1c0002row8_col6,#T_ae814850_3eab_11ec_bf3b_0242ac1c0002row11_col10{\n",
              "            background-color:  #5b7ae5;\n",
              "            color:  #000000;\n",
              "        }#T_ae814850_3eab_11ec_bf3b_0242ac1c0002row0_col7,#T_ae814850_3eab_11ec_bf3b_0242ac1c0002row4_col11,#T_ae814850_3eab_11ec_bf3b_0242ac1c0002row9_col10,#T_ae814850_3eab_11ec_bf3b_0242ac1c0002row9_col13{\n",
              "            background-color:  #6180e9;\n",
              "            color:  #000000;\n",
              "        }#T_ae814850_3eab_11ec_bf3b_0242ac1c0002row0_col8,#T_ae814850_3eab_11ec_bf3b_0242ac1c0002row6_col8{\n",
              "            background-color:  #6384eb;\n",
              "            color:  #000000;\n",
              "        }#T_ae814850_3eab_11ec_bf3b_0242ac1c0002row0_col9,#T_ae814850_3eab_11ec_bf3b_0242ac1c0002row15_col10{\n",
              "            background-color:  #4f69d9;\n",
              "            color:  #000000;\n",
              "        }#T_ae814850_3eab_11ec_bf3b_0242ac1c0002row0_col10,#T_ae814850_3eab_11ec_bf3b_0242ac1c0002row1_col6,#T_ae814850_3eab_11ec_bf3b_0242ac1c0002row8_col4,#T_ae814850_3eab_11ec_bf3b_0242ac1c0002row16_col2,#T_ae814850_3eab_11ec_bf3b_0242ac1c0002row16_col11{\n",
              "            background-color:  #6282ea;\n",
              "            color:  #000000;\n",
              "        }#T_ae814850_3eab_11ec_bf3b_0242ac1c0002row0_col11,#T_ae814850_3eab_11ec_bf3b_0242ac1c0002row7_col9,#T_ae814850_3eab_11ec_bf3b_0242ac1c0002row11_col6,#T_ae814850_3eab_11ec_bf3b_0242ac1c0002row13_col16,#T_ae814850_3eab_11ec_bf3b_0242ac1c0002row16_col10{\n",
              "            background-color:  #5470de;\n",
              "            color:  #000000;\n",
              "        }#T_ae814850_3eab_11ec_bf3b_0242ac1c0002row0_col12,#T_ae814850_3eab_11ec_bf3b_0242ac1c0002row0_col14,#T_ae814850_3eab_11ec_bf3b_0242ac1c0002row2_col16,#T_ae814850_3eab_11ec_bf3b_0242ac1c0002row6_col14,#T_ae814850_3eab_11ec_bf3b_0242ac1c0002row16_col8{\n",
              "            background-color:  #6788ee;\n",
              "            color:  #000000;\n",
              "        }#T_ae814850_3eab_11ec_bf3b_0242ac1c0002row0_col13,#T_ae814850_3eab_11ec_bf3b_0242ac1c0002row8_col16,#T_ae814850_3eab_11ec_bf3b_0242ac1c0002row9_col5{\n",
              "            background-color:  #5977e3;\n",
              "            color:  #000000;\n",
              "        }#T_ae814850_3eab_11ec_bf3b_0242ac1c0002row0_col15{\n",
              "            background-color:  #5a78e4;\n",
              "            color:  #000000;\n",
              "        }#T_ae814850_3eab_11ec_bf3b_0242ac1c0002row0_col16,#T_ae814850_3eab_11ec_bf3b_0242ac1c0002row12_col2,#T_ae814850_3eab_11ec_bf3b_0242ac1c0002row15_col3,#T_ae814850_3eab_11ec_bf3b_0242ac1c0002row15_col17{\n",
              "            background-color:  #5d7ce6;\n",
              "            color:  #000000;\n",
              "        }#T_ae814850_3eab_11ec_bf3b_0242ac1c0002row1_col0,#T_ae814850_3eab_11ec_bf3b_0242ac1c0002row5_col0,#T_ae814850_3eab_11ec_bf3b_0242ac1c0002row6_col12,#T_ae814850_3eab_11ec_bf3b_0242ac1c0002row9_col0,#T_ae814850_3eab_11ec_bf3b_0242ac1c0002row13_col0{\n",
              "            background-color:  #4358cb;\n",
              "            color:  #f1f1f1;\n",
              "        }#T_ae814850_3eab_11ec_bf3b_0242ac1c0002row1_col2,#T_ae814850_3eab_11ec_bf3b_0242ac1c0002row5_col6{\n",
              "            background-color:  #88abfd;\n",
              "            color:  #000000;\n",
              "        }#T_ae814850_3eab_11ec_bf3b_0242ac1c0002row1_col3,#T_ae814850_3eab_11ec_bf3b_0242ac1c0002row1_col17,#T_ae814850_3eab_11ec_bf3b_0242ac1c0002row3_col13,#T_ae814850_3eab_11ec_bf3b_0242ac1c0002row5_col16,#T_ae814850_3eab_11ec_bf3b_0242ac1c0002row7_col16,#T_ae814850_3eab_11ec_bf3b_0242ac1c0002row17_col13{\n",
              "            background-color:  #9bbcff;\n",
              "            color:  #000000;\n",
              "        }#T_ae814850_3eab_11ec_bf3b_0242ac1c0002row1_col4{\n",
              "            background-color:  #98b9ff;\n",
              "            color:  #000000;\n",
              "        }#T_ae814850_3eab_11ec_bf3b_0242ac1c0002row1_col5{\n",
              "            background-color:  #edd2c3;\n",
              "            color:  #000000;\n",
              "        }#T_ae814850_3eab_11ec_bf3b_0242ac1c0002row1_col7{\n",
              "            background-color:  #bcd2f7;\n",
              "            color:  #000000;\n",
              "        }#T_ae814850_3eab_11ec_bf3b_0242ac1c0002row1_col8,#T_ae814850_3eab_11ec_bf3b_0242ac1c0002row8_col13,#T_ae814850_3eab_11ec_bf3b_0242ac1c0002row12_col1,#T_ae814850_3eab_11ec_bf3b_0242ac1c0002row13_col11,#T_ae814850_3eab_11ec_bf3b_0242ac1c0002row15_col8{\n",
              "            background-color:  #86a9fc;\n",
              "            color:  #000000;\n",
              "        }#T_ae814850_3eab_11ec_bf3b_0242ac1c0002row1_col9,#T_ae814850_3eab_11ec_bf3b_0242ac1c0002row3_col15,#T_ae814850_3eab_11ec_bf3b_0242ac1c0002row5_col8,#T_ae814850_3eab_11ec_bf3b_0242ac1c0002row9_col15,#T_ae814850_3eab_11ec_bf3b_0242ac1c0002row13_col9,#T_ae814850_3eab_11ec_bf3b_0242ac1c0002row17_col15{\n",
              "            background-color:  #5875e1;\n",
              "            color:  #000000;\n",
              "        }#T_ae814850_3eab_11ec_bf3b_0242ac1c0002row1_col10,#T_ae814850_3eab_11ec_bf3b_0242ac1c0002row8_col10{\n",
              "            background-color:  #4e68d8;\n",
              "            color:  #000000;\n",
              "        }#T_ae814850_3eab_11ec_bf3b_0242ac1c0002row1_col11,#T_ae814850_3eab_11ec_bf3b_0242ac1c0002row3_col12,#T_ae814850_3eab_11ec_bf3b_0242ac1c0002row5_col11,#T_ae814850_3eab_11ec_bf3b_0242ac1c0002row11_col5,#T_ae814850_3eab_11ec_bf3b_0242ac1c0002row15_col11,#T_ae814850_3eab_11ec_bf3b_0242ac1c0002row17_col12{\n",
              "            background-color:  #8db0fe;\n",
              "            color:  #000000;\n",
              "        }#T_ae814850_3eab_11ec_bf3b_0242ac1c0002row1_col12,#T_ae814850_3eab_11ec_bf3b_0242ac1c0002row8_col14{\n",
              "            background-color:  #9abbff;\n",
              "            color:  #000000;\n",
              "        }#T_ae814850_3eab_11ec_bf3b_0242ac1c0002row1_col13,#T_ae814850_3eab_11ec_bf3b_0242ac1c0002row7_col5{\n",
              "            background-color:  #cfdaea;\n",
              "            color:  #000000;\n",
              "        }#T_ae814850_3eab_11ec_bf3b_0242ac1c0002row1_col14{\n",
              "            background-color:  #ebd3c6;\n",
              "            color:  #000000;\n",
              "        }#T_ae814850_3eab_11ec_bf3b_0242ac1c0002row1_col15{\n",
              "            background-color:  #d5dbe5;\n",
              "            color:  #000000;\n",
              "        }#T_ae814850_3eab_11ec_bf3b_0242ac1c0002row1_col16,#T_ae814850_3eab_11ec_bf3b_0242ac1c0002row3_col1,#T_ae814850_3eab_11ec_bf3b_0242ac1c0002row17_col1{\n",
              "            background-color:  #96b7ff;\n",
              "            color:  #000000;\n",
              "        }#T_ae814850_3eab_11ec_bf3b_0242ac1c0002row2_col0,#T_ae814850_3eab_11ec_bf3b_0242ac1c0002row3_col0,#T_ae814850_3eab_11ec_bf3b_0242ac1c0002row14_col10,#T_ae814850_3eab_11ec_bf3b_0242ac1c0002row17_col0{\n",
              "            background-color:  #3d50c3;\n",
              "            color:  #f1f1f1;\n",
              "        }#T_ae814850_3eab_11ec_bf3b_0242ac1c0002row2_col1,#T_ae814850_3eab_11ec_bf3b_0242ac1c0002row3_col2,#T_ae814850_3eab_11ec_bf3b_0242ac1c0002row3_col4,#T_ae814850_3eab_11ec_bf3b_0242ac1c0002row17_col2,#T_ae814850_3eab_11ec_bf3b_0242ac1c0002row17_col4{\n",
              "            background-color:  #85a8fc;\n",
              "            color:  #000000;\n",
              "        }#T_ae814850_3eab_11ec_bf3b_0242ac1c0002row2_col3,#T_ae814850_3eab_11ec_bf3b_0242ac1c0002row2_col17,#T_ae814850_3eab_11ec_bf3b_0242ac1c0002row11_col7,#T_ae814850_3eab_11ec_bf3b_0242ac1c0002row11_col13,#T_ae814850_3eab_11ec_bf3b_0242ac1c0002row15_col16,#T_ae814850_3eab_11ec_bf3b_0242ac1c0002row17_col8{\n",
              "            background-color:  #89acfd;\n",
              "            color:  #000000;\n",
              "        }#T_ae814850_3eab_11ec_bf3b_0242ac1c0002row2_col4,#T_ae814850_3eab_11ec_bf3b_0242ac1c0002row6_col9,#T_ae814850_3eab_11ec_bf3b_0242ac1c0002row9_col14{\n",
              "            background-color:  #6c8ff1;\n",
              "            color:  #000000;\n",
              "        }#T_ae814850_3eab_11ec_bf3b_0242ac1c0002row2_col5,#T_ae814850_3eab_11ec_bf3b_0242ac1c0002row8_col17{\n",
              "            background-color:  #7a9df8;\n",
              "            color:  #000000;\n",
              "        }#T_ae814850_3eab_11ec_bf3b_0242ac1c0002row2_col6,#T_ae814850_3eab_11ec_bf3b_0242ac1c0002row9_col6{\n",
              "            background-color:  #80a3fa;\n",
              "            color:  #000000;\n",
              "        }#T_ae814850_3eab_11ec_bf3b_0242ac1c0002row2_col7,#T_ae814850_3eab_11ec_bf3b_0242ac1c0002row15_col5{\n",
              "            background-color:  #bfd3f6;\n",
              "            color:  #000000;\n",
              "        }#T_ae814850_3eab_11ec_bf3b_0242ac1c0002row2_col8,#T_ae814850_3eab_11ec_bf3b_0242ac1c0002row5_col7{\n",
              "            background-color:  #dadce0;\n",
              "            color:  #000000;\n",
              "        }#T_ae814850_3eab_11ec_bf3b_0242ac1c0002row2_col9,#T_ae814850_3eab_11ec_bf3b_0242ac1c0002row3_col10,#T_ae814850_3eab_11ec_bf3b_0242ac1c0002row4_col12,#T_ae814850_3eab_11ec_bf3b_0242ac1c0002row10_col4,#T_ae814850_3eab_11ec_bf3b_0242ac1c0002row10_col11,#T_ae814850_3eab_11ec_bf3b_0242ac1c0002row10_col16,#T_ae814850_3eab_11ec_bf3b_0242ac1c0002row11_col9,#T_ae814850_3eab_11ec_bf3b_0242ac1c0002row17_col10{\n",
              "            background-color:  #485fd1;\n",
              "            color:  #f1f1f1;\n",
              "        }#T_ae814850_3eab_11ec_bf3b_0242ac1c0002row2_col10,#T_ae814850_3eab_11ec_bf3b_0242ac1c0002row9_col11,#T_ae814850_3eab_11ec_bf3b_0242ac1c0002row12_col9{\n",
              "            background-color:  #4c66d6;\n",
              "            color:  #000000;\n",
              "        }#T_ae814850_3eab_11ec_bf3b_0242ac1c0002row2_col12,#T_ae814850_3eab_11ec_bf3b_0242ac1c0002row8_col1,#T_ae814850_3eab_11ec_bf3b_0242ac1c0002row12_col13{\n",
              "            background-color:  #7093f3;\n",
              "            color:  #000000;\n",
              "        }#T_ae814850_3eab_11ec_bf3b_0242ac1c0002row2_col13,#T_ae814850_3eab_11ec_bf3b_0242ac1c0002row4_col3,#T_ae814850_3eab_11ec_bf3b_0242ac1c0002row4_col15,#T_ae814850_3eab_11ec_bf3b_0242ac1c0002row4_col17,#T_ae814850_3eab_11ec_bf3b_0242ac1c0002row13_col2,#T_ae814850_3eab_11ec_bf3b_0242ac1c0002row16_col15,#T_ae814850_3eab_11ec_bf3b_0242ac1c0002row17_col16{\n",
              "            background-color:  #84a7fc;\n",
              "            color:  #000000;\n",
              "        }#T_ae814850_3eab_11ec_bf3b_0242ac1c0002row2_col14,#T_ae814850_3eab_11ec_bf3b_0242ac1c0002row14_col16{\n",
              "            background-color:  #a9c6fd;\n",
              "            color:  #000000;\n",
              "        }#T_ae814850_3eab_11ec_bf3b_0242ac1c0002row2_col15,#T_ae814850_3eab_11ec_bf3b_0242ac1c0002row15_col2{\n",
              "            background-color:  #7699f6;\n",
              "            color:  #000000;\n",
              "        }#T_ae814850_3eab_11ec_bf3b_0242ac1c0002row3_col5,#T_ae814850_3eab_11ec_bf3b_0242ac1c0002row11_col14,#T_ae814850_3eab_11ec_bf3b_0242ac1c0002row14_col4{\n",
              "            background-color:  #abc8fd;\n",
              "            color:  #000000;\n",
              "        }#T_ae814850_3eab_11ec_bf3b_0242ac1c0002row3_col6,#T_ae814850_3eab_11ec_bf3b_0242ac1c0002row4_col5,#T_ae814850_3eab_11ec_bf3b_0242ac1c0002row7_col12,#T_ae814850_3eab_11ec_bf3b_0242ac1c0002row16_col5,#T_ae814850_3eab_11ec_bf3b_0242ac1c0002row17_col6{\n",
              "            background-color:  #93b5fe;\n",
              "            color:  #000000;\n",
              "        }#T_ae814850_3eab_11ec_bf3b_0242ac1c0002row3_col7,#T_ae814850_3eab_11ec_bf3b_0242ac1c0002row17_col7{\n",
              "            background-color:  #f4c6af;\n",
              "            color:  #000000;\n",
              "        }#T_ae814850_3eab_11ec_bf3b_0242ac1c0002row3_col8,#T_ae814850_3eab_11ec_bf3b_0242ac1c0002row15_col4{\n",
              "            background-color:  #8badfd;\n",
              "            color:  #000000;\n",
              "        }#T_ae814850_3eab_11ec_bf3b_0242ac1c0002row3_col9,#T_ae814850_3eab_11ec_bf3b_0242ac1c0002row16_col12,#T_ae814850_3eab_11ec_bf3b_0242ac1c0002row17_col9{\n",
              "            background-color:  #4961d2;\n",
              "            color:  #f1f1f1;\n",
              "        }#T_ae814850_3eab_11ec_bf3b_0242ac1c0002row3_col11,#T_ae814850_3eab_11ec_bf3b_0242ac1c0002row12_col10,#T_ae814850_3eab_11ec_bf3b_0242ac1c0002row17_col11{\n",
              "            background-color:  #6b8df0;\n",
              "            color:  #000000;\n",
              "        }#T_ae814850_3eab_11ec_bf3b_0242ac1c0002row3_col14,#T_ae814850_3eab_11ec_bf3b_0242ac1c0002row13_col5,#T_ae814850_3eab_11ec_bf3b_0242ac1c0002row17_col14{\n",
              "            background-color:  #c7d7f0;\n",
              "            color:  #000000;\n",
              "        }#T_ae814850_3eab_11ec_bf3b_0242ac1c0002row3_col16,#T_ae814850_3eab_11ec_bf3b_0242ac1c0002row13_col12,#T_ae814850_3eab_11ec_bf3b_0242ac1c0002row16_col3,#T_ae814850_3eab_11ec_bf3b_0242ac1c0002row16_col17{\n",
              "            background-color:  #82a6fb;\n",
              "            color:  #000000;\n",
              "        }#T_ae814850_3eab_11ec_bf3b_0242ac1c0002row4_col0,#T_ae814850_3eab_11ec_bf3b_0242ac1c0002row14_col0,#T_ae814850_3eab_11ec_bf3b_0242ac1c0002row16_col0{\n",
              "            background-color:  #445acc;\n",
              "            color:  #f1f1f1;\n",
              "        }#T_ae814850_3eab_11ec_bf3b_0242ac1c0002row4_col1,#T_ae814850_3eab_11ec_bf3b_0242ac1c0002row15_col12{\n",
              "            background-color:  #90b2fe;\n",
              "            color:  #000000;\n",
              "        }#T_ae814850_3eab_11ec_bf3b_0242ac1c0002row4_col2{\n",
              "            background-color:  #6687ed;\n",
              "            color:  #000000;\n",
              "        }#T_ae814850_3eab_11ec_bf3b_0242ac1c0002row4_col6,#T_ae814850_3eab_11ec_bf3b_0242ac1c0002row16_col6{\n",
              "            background-color:  #bed2f6;\n",
              "            color:  #000000;\n",
              "        }#T_ae814850_3eab_11ec_bf3b_0242ac1c0002row4_col7{\n",
              "            background-color:  #a7c5fe;\n",
              "            color:  #000000;\n",
              "        }#T_ae814850_3eab_11ec_bf3b_0242ac1c0002row4_col8{\n",
              "            background-color:  #6f92f3;\n",
              "            color:  #000000;\n",
              "        }#T_ae814850_3eab_11ec_bf3b_0242ac1c0002row4_col9,#T_ae814850_3eab_11ec_bf3b_0242ac1c0002row8_col15{\n",
              "            background-color:  #7396f5;\n",
              "            color:  #000000;\n",
              "        }#T_ae814850_3eab_11ec_bf3b_0242ac1c0002row4_col14,#T_ae814850_3eab_11ec_bf3b_0242ac1c0002row5_col3,#T_ae814850_3eab_11ec_bf3b_0242ac1c0002row7_col2{\n",
              "            background-color:  #b2ccfb;\n",
              "            color:  #000000;\n",
              "        }#T_ae814850_3eab_11ec_bf3b_0242ac1c0002row5_col1{\n",
              "            background-color:  #edd1c2;\n",
              "            color:  #000000;\n",
              "        }#T_ae814850_3eab_11ec_bf3b_0242ac1c0002row5_col2,#T_ae814850_3eab_11ec_bf3b_0242ac1c0002row12_col15{\n",
              "            background-color:  #7da0f9;\n",
              "            color:  #000000;\n",
              "        }#T_ae814850_3eab_11ec_bf3b_0242ac1c0002row5_col4,#T_ae814850_3eab_11ec_bf3b_0242ac1c0002row13_col17,#T_ae814850_3eab_11ec_bf3b_0242ac1c0002row14_col2{\n",
              "            background-color:  #9dbdff;\n",
              "            color:  #000000;\n",
              "        }#T_ae814850_3eab_11ec_bf3b_0242ac1c0002row5_col10,#T_ae814850_3eab_11ec_bf3b_0242ac1c0002row9_col2,#T_ae814850_3eab_11ec_bf3b_0242ac1c0002row10_col6,#T_ae814850_3eab_11ec_bf3b_0242ac1c0002row10_col8,#T_ae814850_3eab_11ec_bf3b_0242ac1c0002row15_col9,#T_ae814850_3eab_11ec_bf3b_0242ac1c0002row16_col13{\n",
              "            background-color:  #506bda;\n",
              "            color:  #000000;\n",
              "        }#T_ae814850_3eab_11ec_bf3b_0242ac1c0002row5_col12{\n",
              "            background-color:  #a1c0ff;\n",
              "            color:  #000000;\n",
              "        }#T_ae814850_3eab_11ec_bf3b_0242ac1c0002row5_col13{\n",
              "            background-color:  #cbd8ee;\n",
              "            color:  #000000;\n",
              "        }#T_ae814850_3eab_11ec_bf3b_0242ac1c0002row5_col14{\n",
              "            background-color:  #ecd3c5;\n",
              "            color:  #000000;\n",
              "        }#T_ae814850_3eab_11ec_bf3b_0242ac1c0002row5_col15,#T_ae814850_3eab_11ec_bf3b_0242ac1c0002row14_col3,#T_ae814850_3eab_11ec_bf3b_0242ac1c0002row14_col17{\n",
              "            background-color:  #c1d4f4;\n",
              "            color:  #000000;\n",
              "        }#T_ae814850_3eab_11ec_bf3b_0242ac1c0002row5_col17{\n",
              "            background-color:  #b3cdfb;\n",
              "            color:  #000000;\n",
              "        }#T_ae814850_3eab_11ec_bf3b_0242ac1c0002row6_col0,#T_ae814850_3eab_11ec_bf3b_0242ac1c0002row10_col0,#T_ae814850_3eab_11ec_bf3b_0242ac1c0002row10_col15{\n",
              "            background-color:  #3c4ec2;\n",
              "            color:  #f1f1f1;\n",
              "        }#T_ae814850_3eab_11ec_bf3b_0242ac1c0002row6_col2,#T_ae814850_3eab_11ec_bf3b_0242ac1c0002row7_col11,#T_ae814850_3eab_11ec_bf3b_0242ac1c0002row16_col9{\n",
              "            background-color:  #7597f6;\n",
              "            color:  #000000;\n",
              "        }#T_ae814850_3eab_11ec_bf3b_0242ac1c0002row6_col3,#T_ae814850_3eab_11ec_bf3b_0242ac1c0002row6_col17,#T_ae814850_3eab_11ec_bf3b_0242ac1c0002row12_col5{\n",
              "            background-color:  #8caffe;\n",
              "            color:  #000000;\n",
              "        }#T_ae814850_3eab_11ec_bf3b_0242ac1c0002row6_col4{\n",
              "            background-color:  #bad0f8;\n",
              "            color:  #000000;\n",
              "        }#T_ae814850_3eab_11ec_bf3b_0242ac1c0002row6_col5{\n",
              "            background-color:  #799cf8;\n",
              "            color:  #000000;\n",
              "        }#T_ae814850_3eab_11ec_bf3b_0242ac1c0002row6_col7{\n",
              "            background-color:  #c6d6f1;\n",
              "            color:  #000000;\n",
              "        }#T_ae814850_3eab_11ec_bf3b_0242ac1c0002row6_col11,#T_ae814850_3eab_11ec_bf3b_0242ac1c0002row15_col0{\n",
              "            background-color:  #455cce;\n",
              "            color:  #f1f1f1;\n",
              "        }#T_ae814850_3eab_11ec_bf3b_0242ac1c0002row6_col13{\n",
              "            background-color:  #4a63d3;\n",
              "            color:  #f1f1f1;\n",
              "        }#T_ae814850_3eab_11ec_bf3b_0242ac1c0002row6_col15,#T_ae814850_3eab_11ec_bf3b_0242ac1c0002row7_col0,#T_ae814850_3eab_11ec_bf3b_0242ac1c0002row7_col10,#T_ae814850_3eab_11ec_bf3b_0242ac1c0002row8_col0,#T_ae814850_3eab_11ec_bf3b_0242ac1c0002row8_col9,#T_ae814850_3eab_11ec_bf3b_0242ac1c0002row8_col11,#T_ae814850_3eab_11ec_bf3b_0242ac1c0002row8_col12,#T_ae814850_3eab_11ec_bf3b_0242ac1c0002row10_col1,#T_ae814850_3eab_11ec_bf3b_0242ac1c0002row10_col2,#T_ae814850_3eab_11ec_bf3b_0242ac1c0002row10_col3,#T_ae814850_3eab_11ec_bf3b_0242ac1c0002row10_col5,#T_ae814850_3eab_11ec_bf3b_0242ac1c0002row10_col7,#T_ae814850_3eab_11ec_bf3b_0242ac1c0002row10_col13,#T_ae814850_3eab_11ec_bf3b_0242ac1c0002row10_col14,#T_ae814850_3eab_11ec_bf3b_0242ac1c0002row10_col17,#T_ae814850_3eab_11ec_bf3b_0242ac1c0002row12_col4,#T_ae814850_3eab_11ec_bf3b_0242ac1c0002row12_col6,#T_ae814850_3eab_11ec_bf3b_0242ac1c0002row12_col8,#T_ae814850_3eab_11ec_bf3b_0242ac1c0002row12_col16{\n",
              "            background-color:  #3b4cc0;\n",
              "            color:  #f1f1f1;\n",
              "        }#T_ae814850_3eab_11ec_bf3b_0242ac1c0002row6_col16{\n",
              "            background-color:  #b9d0f9;\n",
              "            color:  #000000;\n",
              "        }#T_ae814850_3eab_11ec_bf3b_0242ac1c0002row7_col1{\n",
              "            background-color:  #aec9fc;\n",
              "            color:  #000000;\n",
              "        }#T_ae814850_3eab_11ec_bf3b_0242ac1c0002row7_col3{\n",
              "            background-color:  #f2cbb7;\n",
              "            color:  #000000;\n",
              "        }#T_ae814850_3eab_11ec_bf3b_0242ac1c0002row7_col4,#T_ae814850_3eab_11ec_bf3b_0242ac1c0002row12_col14,#T_ae814850_3eab_11ec_bf3b_0242ac1c0002row13_col3,#T_ae814850_3eab_11ec_bf3b_0242ac1c0002row14_col8,#T_ae814850_3eab_11ec_bf3b_0242ac1c0002row14_col11{\n",
              "            background-color:  #9ebeff;\n",
              "            color:  #000000;\n",
              "        }#T_ae814850_3eab_11ec_bf3b_0242ac1c0002row7_col6{\n",
              "            background-color:  #c3d5f4;\n",
              "            color:  #000000;\n",
              "        }#T_ae814850_3eab_11ec_bf3b_0242ac1c0002row7_col8,#T_ae814850_3eab_11ec_bf3b_0242ac1c0002row13_col8{\n",
              "            background-color:  #97b8ff;\n",
              "            color:  #000000;\n",
              "        }#T_ae814850_3eab_11ec_bf3b_0242ac1c0002row7_col13{\n",
              "            background-color:  #cdd9ec;\n",
              "            color:  #000000;\n",
              "        }#T_ae814850_3eab_11ec_bf3b_0242ac1c0002row7_col14{\n",
              "            background-color:  #f5c2aa;\n",
              "            color:  #000000;\n",
              "        }#T_ae814850_3eab_11ec_bf3b_0242ac1c0002row7_col15,#T_ae814850_3eab_11ec_bf3b_0242ac1c0002row14_col12{\n",
              "            background-color:  #a2c1ff;\n",
              "            color:  #000000;\n",
              "        }#T_ae814850_3eab_11ec_bf3b_0242ac1c0002row7_col17{\n",
              "            background-color:  #f2cab5;\n",
              "            color:  #000000;\n",
              "        }#T_ae814850_3eab_11ec_bf3b_0242ac1c0002row8_col2{\n",
              "            background-color:  #d1dae9;\n",
              "            color:  #000000;\n",
              "        }#T_ae814850_3eab_11ec_bf3b_0242ac1c0002row8_col3,#T_ae814850_3eab_11ec_bf3b_0242ac1c0002row11_col12{\n",
              "            background-color:  #7b9ff9;\n",
              "            color:  #000000;\n",
              "        }#T_ae814850_3eab_11ec_bf3b_0242ac1c0002row8_col5,#T_ae814850_3eab_11ec_bf3b_0242ac1c0002row12_col0{\n",
              "            background-color:  #3f53c6;\n",
              "            color:  #f1f1f1;\n",
              "        }#T_ae814850_3eab_11ec_bf3b_0242ac1c0002row8_col7{\n",
              "            background-color:  #94b6ff;\n",
              "            color:  #000000;\n",
              "        }#T_ae814850_3eab_11ec_bf3b_0242ac1c0002row9_col4,#T_ae814850_3eab_11ec_bf3b_0242ac1c0002row9_col16{\n",
              "            background-color:  #81a4fb;\n",
              "            color:  #000000;\n",
              "        }#T_ae814850_3eab_11ec_bf3b_0242ac1c0002row9_col7,#T_ae814850_3eab_11ec_bf3b_0242ac1c0002row10_col12{\n",
              "            background-color:  #6e90f2;\n",
              "            color:  #000000;\n",
              "        }#T_ae814850_3eab_11ec_bf3b_0242ac1c0002row9_col8,#T_ae814850_3eab_11ec_bf3b_0242ac1c0002row13_col4,#T_ae814850_3eab_11ec_bf3b_0242ac1c0002row14_col9{\n",
              "            background-color:  #5673e0;\n",
              "            color:  #000000;\n",
              "        }#T_ae814850_3eab_11ec_bf3b_0242ac1c0002row9_col12{\n",
              "            background-color:  #688aef;\n",
              "            color:  #000000;\n",
              "        }#T_ae814850_3eab_11ec_bf3b_0242ac1c0002row10_col9,#T_ae814850_3eab_11ec_bf3b_0242ac1c0002row15_col6{\n",
              "            background-color:  #465ecf;\n",
              "            color:  #f1f1f1;\n",
              "        }#T_ae814850_3eab_11ec_bf3b_0242ac1c0002row11_col0{\n",
              "            background-color:  #4257c9;\n",
              "            color:  #f1f1f1;\n",
              "        }#T_ae814850_3eab_11ec_bf3b_0242ac1c0002row11_col1,#T_ae814850_3eab_11ec_bf3b_0242ac1c0002row11_col15,#T_ae814850_3eab_11ec_bf3b_0242ac1c0002row16_col1{\n",
              "            background-color:  #8fb1fe;\n",
              "            color:  #000000;\n",
              "        }#T_ae814850_3eab_11ec_bf3b_0242ac1c0002row11_col3,#T_ae814850_3eab_11ec_bf3b_0242ac1c0002row11_col17{\n",
              "            background-color:  #7295f4;\n",
              "            color:  #000000;\n",
              "        }#T_ae814850_3eab_11ec_bf3b_0242ac1c0002row11_col4,#T_ae814850_3eab_11ec_bf3b_0242ac1c0002row11_col16{\n",
              "            background-color:  #6a8bef;\n",
              "            color:  #000000;\n",
              "        }#T_ae814850_3eab_11ec_bf3b_0242ac1c0002row12_col3,#T_ae814850_3eab_11ec_bf3b_0242ac1c0002row12_col17{\n",
              "            background-color:  #7ea1fa;\n",
              "            color:  #000000;\n",
              "        }#T_ae814850_3eab_11ec_bf3b_0242ac1c0002row12_col7{\n",
              "            background-color:  #92b4fe;\n",
              "            color:  #000000;\n",
              "        }#T_ae814850_3eab_11ec_bf3b_0242ac1c0002row12_col11,#T_ae814850_3eab_11ec_bf3b_0242ac1c0002row14_col6{\n",
              "            background-color:  #6485ec;\n",
              "            color:  #000000;\n",
              "        }#T_ae814850_3eab_11ec_bf3b_0242ac1c0002row13_col1{\n",
              "            background-color:  #cedaeb;\n",
              "            color:  #000000;\n",
              "        }#T_ae814850_3eab_11ec_bf3b_0242ac1c0002row13_col7{\n",
              "            background-color:  #d6dce4;\n",
              "            color:  #000000;\n",
              "        }#T_ae814850_3eab_11ec_bf3b_0242ac1c0002row13_col10{\n",
              "            background-color:  #4b64d5;\n",
              "            color:  #f1f1f1;\n",
              "        }#T_ae814850_3eab_11ec_bf3b_0242ac1c0002row13_col14{\n",
              "            background-color:  #f39778;\n",
              "            color:  #000000;\n",
              "        }#T_ae814850_3eab_11ec_bf3b_0242ac1c0002row13_col15{\n",
              "            background-color:  #e8d6cc;\n",
              "            color:  #000000;\n",
              "        }#T_ae814850_3eab_11ec_bf3b_0242ac1c0002row14_col1{\n",
              "            background-color:  #e5d8d1;\n",
              "            color:  #000000;\n",
              "        }#T_ae814850_3eab_11ec_bf3b_0242ac1c0002row14_col5{\n",
              "            background-color:  #e6d7cf;\n",
              "            color:  #000000;\n",
              "        }#T_ae814850_3eab_11ec_bf3b_0242ac1c0002row14_col7{\n",
              "            background-color:  #f5c1a9;\n",
              "            color:  #000000;\n",
              "        }#T_ae814850_3eab_11ec_bf3b_0242ac1c0002row14_col13{\n",
              "            background-color:  #f59c7d;\n",
              "            color:  #000000;\n",
              "        }#T_ae814850_3eab_11ec_bf3b_0242ac1c0002row14_col15{\n",
              "            background-color:  #f7af91;\n",
              "            color:  #000000;\n",
              "        }#T_ae814850_3eab_11ec_bf3b_0242ac1c0002row15_col1{\n",
              "            background-color:  #d4dbe6;\n",
              "            color:  #000000;\n",
              "        }#T_ae814850_3eab_11ec_bf3b_0242ac1c0002row15_col7,#T_ae814850_3eab_11ec_bf3b_0242ac1c0002row16_col14{\n",
              "            background-color:  #b1cbfc;\n",
              "            color:  #000000;\n",
              "        }#T_ae814850_3eab_11ec_bf3b_0242ac1c0002row15_col13{\n",
              "            background-color:  #e9d5cb;\n",
              "            color:  #000000;\n",
              "        }#T_ae814850_3eab_11ec_bf3b_0242ac1c0002row15_col14{\n",
              "            background-color:  #f7a98b;\n",
              "            color:  #000000;\n",
              "        }#T_ae814850_3eab_11ec_bf3b_0242ac1c0002row16_col7{\n",
              "            background-color:  #a6c4fe;\n",
              "            color:  #000000;\n",
              "        }#T_ae814850_3eab_11ec_bf3b_0242ac1c0002row17_col5{\n",
              "            background-color:  #adc9fd;\n",
              "            color:  #000000;\n",
              "        }</style><table id=\"T_ae814850_3eab_11ec_bf3b_0242ac1c0002\" class=\"dataframe\"><thead>    <tr>        <th class=\"blank level0\" ></th>        <th class=\"col_heading level0 col0\" >id</th>        <th class=\"col_heading level0 col1\" >budget</th>        <th class=\"col_heading level0 col2\" >homepage</th>        <th class=\"col_heading level0 col3\" >popularity</th>        <th class=\"col_heading level0 col4\" >runtime</th>        <th class=\"col_heading level0 col5\" >revenue</th>        <th class=\"col_heading level0 col6\" >rating</th>        <th class=\"col_heading level0 col7\" >totalVotes</th>        <th class=\"col_heading level0 col8\" >release_year</th>        <th class=\"col_heading level0 col9\" >release_month</th>        <th class=\"col_heading level0 col10\" >release_day</th>        <th class=\"col_heading level0 col11\" >numberofgenres</th>        <th class=\"col_heading level0 col12\" >lang_english</th>        <th class=\"col_heading level0 col13\" >bud_runtime</th>        <th class=\"col_heading level0 col14\" >bud_year</th>        <th class=\"col_heading level0 col15\" >bud_popularity</th>        <th class=\"col_heading level0 col16\" >runtime_year</th>        <th class=\"col_heading level0 col17\" >popularity_year</th>    </tr></thead><tbody>\n",
              "                <tr>\n",
              "                        <th id=\"T_ae814850_3eab_11ec_bf3b_0242ac1c0002level0_row0\" class=\"row_heading level0 row0\" >id</th>\n",
              "                        <td id=\"T_ae814850_3eab_11ec_bf3b_0242ac1c0002row0_col0\" class=\"data row0 col0\" >1.000000</td>\n",
              "                        <td id=\"T_ae814850_3eab_11ec_bf3b_0242ac1c0002row0_col1\" class=\"data row0 col1\" >0.012868</td>\n",
              "                        <td id=\"T_ae814850_3eab_11ec_bf3b_0242ac1c0002row0_col2\" class=\"data row0 col2\" >-0.008170</td>\n",
              "                        <td id=\"T_ae814850_3eab_11ec_bf3b_0242ac1c0002row0_col3\" class=\"data row0 col3\" >-0.006635</td>\n",
              "                        <td id=\"T_ae814850_3eab_11ec_bf3b_0242ac1c0002row0_col4\" class=\"data row0 col4\" >0.015811</td>\n",
              "                        <td id=\"T_ae814850_3eab_11ec_bf3b_0242ac1c0002row0_col5\" class=\"data row0 col5\" >0.012539</td>\n",
              "                        <td id=\"T_ae814850_3eab_11ec_bf3b_0242ac1c0002row0_col6\" class=\"data row0 col6\" >-0.011004</td>\n",
              "                        <td id=\"T_ae814850_3eab_11ec_bf3b_0242ac1c0002row0_col7\" class=\"data row0 col7\" >-0.013265</td>\n",
              "                        <td id=\"T_ae814850_3eab_11ec_bf3b_0242ac1c0002row0_col8\" class=\"data row0 col8\" >-0.016391</td>\n",
              "                        <td id=\"T_ae814850_3eab_11ec_bf3b_0242ac1c0002row0_col9\" class=\"data row0 col9\" >0.012241</td>\n",
              "                        <td id=\"T_ae814850_3eab_11ec_bf3b_0242ac1c0002row0_col10\" class=\"data row0 col10\" >-0.009644</td>\n",
              "                        <td id=\"T_ae814850_3eab_11ec_bf3b_0242ac1c0002row0_col11\" class=\"data row0 col11\" >0.010604</td>\n",
              "                        <td id=\"T_ae814850_3eab_11ec_bf3b_0242ac1c0002row0_col12\" class=\"data row0 col12\" >0.001205</td>\n",
              "                        <td id=\"T_ae814850_3eab_11ec_bf3b_0242ac1c0002row0_col13\" class=\"data row0 col13\" >0.013554</td>\n",
              "                        <td id=\"T_ae814850_3eab_11ec_bf3b_0242ac1c0002row0_col14\" class=\"data row0 col14\" >0.019269</td>\n",
              "                        <td id=\"T_ae814850_3eab_11ec_bf3b_0242ac1c0002row0_col15\" class=\"data row0 col15\" >0.023232</td>\n",
              "                        <td id=\"T_ae814850_3eab_11ec_bf3b_0242ac1c0002row0_col16\" class=\"data row0 col16\" >0.016368</td>\n",
              "                        <td id=\"T_ae814850_3eab_11ec_bf3b_0242ac1c0002row0_col17\" class=\"data row0 col17\" >-0.006610</td>\n",
              "            </tr>\n",
              "            <tr>\n",
              "                        <th id=\"T_ae814850_3eab_11ec_bf3b_0242ac1c0002level0_row1\" class=\"row_heading level0 row1\" >budget</th>\n",
              "                        <td id=\"T_ae814850_3eab_11ec_bf3b_0242ac1c0002row1_col0\" class=\"data row1 col0\" >0.012868</td>\n",
              "                        <td id=\"T_ae814850_3eab_11ec_bf3b_0242ac1c0002row1_col1\" class=\"data row1 col1\" >1.000000</td>\n",
              "                        <td id=\"T_ae814850_3eab_11ec_bf3b_0242ac1c0002row1_col2\" class=\"data row1 col2\" >0.166281</td>\n",
              "                        <td id=\"T_ae814850_3eab_11ec_bf3b_0242ac1c0002row1_col3\" class=\"data row1 col3\" >0.216239</td>\n",
              "                        <td id=\"T_ae814850_3eab_11ec_bf3b_0242ac1c0002row1_col4\" class=\"data row1 col4\" >0.199702</td>\n",
              "                        <td id=\"T_ae814850_3eab_11ec_bf3b_0242ac1c0002row1_col5\" class=\"data row1 col5\" >0.537718</td>\n",
              "                        <td id=\"T_ae814850_3eab_11ec_bf3b_0242ac1c0002row1_col6\" class=\"data row1 col6\" >0.011784</td>\n",
              "                        <td id=\"T_ae814850_3eab_11ec_bf3b_0242ac1c0002row1_col7\" class=\"data row1 col7\" >0.293954</td>\n",
              "                        <td id=\"T_ae814850_3eab_11ec_bf3b_0242ac1c0002row1_col8\" class=\"data row1 col8\" >0.103845</td>\n",
              "                        <td id=\"T_ae814850_3eab_11ec_bf3b_0242ac1c0002row1_col9\" class=\"data row1 col9\" >0.043785</td>\n",
              "                        <td id=\"T_ae814850_3eab_11ec_bf3b_0242ac1c0002row1_col10\" class=\"data row1 col10\" >-0.081413</td>\n",
              "                        <td id=\"T_ae814850_3eab_11ec_bf3b_0242ac1c0002row1_col11\" class=\"data row1 col11\" >0.193528</td>\n",
              "                        <td id=\"T_ae814850_3eab_11ec_bf3b_0242ac1c0002row1_col12\" class=\"data row1 col12\" >0.168814</td>\n",
              "                        <td id=\"T_ae814850_3eab_11ec_bf3b_0242ac1c0002row1_col13\" class=\"data row1 col13\" >0.400926</td>\n",
              "                        <td id=\"T_ae814850_3eab_11ec_bf3b_0242ac1c0002row1_col14\" class=\"data row1 col14\" >0.496779</td>\n",
              "                        <td id=\"T_ae814850_3eab_11ec_bf3b_0242ac1c0002row1_col15\" class=\"data row1 col15\" >0.423807</td>\n",
              "                        <td id=\"T_ae814850_3eab_11ec_bf3b_0242ac1c0002row1_col16\" class=\"data row1 col16\" >0.196968</td>\n",
              "                        <td id=\"T_ae814850_3eab_11ec_bf3b_0242ac1c0002row1_col17\" class=\"data row1 col17\" >0.216844</td>\n",
              "            </tr>\n",
              "            <tr>\n",
              "                        <th id=\"T_ae814850_3eab_11ec_bf3b_0242ac1c0002level0_row2\" class=\"row_heading level0 row2\" >homepage</th>\n",
              "                        <td id=\"T_ae814850_3eab_11ec_bf3b_0242ac1c0002row2_col0\" class=\"data row2 col0\" >-0.008170</td>\n",
              "                        <td id=\"T_ae814850_3eab_11ec_bf3b_0242ac1c0002row2_col1\" class=\"data row2 col1\" >0.166281</td>\n",
              "                        <td id=\"T_ae814850_3eab_11ec_bf3b_0242ac1c0002row2_col2\" class=\"data row2 col2\" >1.000000</td>\n",
              "                        <td id=\"T_ae814850_3eab_11ec_bf3b_0242ac1c0002row2_col3\" class=\"data row2 col3\" >0.161585</td>\n",
              "                        <td id=\"T_ae814850_3eab_11ec_bf3b_0242ac1c0002row2_col4\" class=\"data row2 col4\" >0.061290</td>\n",
              "                        <td id=\"T_ae814850_3eab_11ec_bf3b_0242ac1c0002row2_col5\" class=\"data row2 col5\" >0.135583</td>\n",
              "                        <td id=\"T_ae814850_3eab_11ec_bf3b_0242ac1c0002row2_col6\" class=\"data row2 col6\" >0.108453</td>\n",
              "                        <td id=\"T_ae814850_3eab_11ec_bf3b_0242ac1c0002row2_col7\" class=\"data row2 col7\" >0.299594</td>\n",
              "                        <td id=\"T_ae814850_3eab_11ec_bf3b_0242ac1c0002row2_col8\" class=\"data row2 col8\" >0.406306</td>\n",
              "                        <td id=\"T_ae814850_3eab_11ec_bf3b_0242ac1c0002row2_col9\" class=\"data row2 col9\" >-0.011791</td>\n",
              "                        <td id=\"T_ae814850_3eab_11ec_bf3b_0242ac1c0002row2_col10\" class=\"data row2 col10\" >-0.089202</td>\n",
              "                        <td id=\"T_ae814850_3eab_11ec_bf3b_0242ac1c0002row2_col11\" class=\"data row2 col11\" >0.007031</td>\n",
              "                        <td id=\"T_ae814850_3eab_11ec_bf3b_0242ac1c0002row2_col12\" class=\"data row2 col12\" >0.032202</td>\n",
              "                        <td id=\"T_ae814850_3eab_11ec_bf3b_0242ac1c0002row2_col13\" class=\"data row2 col13\" >0.153826</td>\n",
              "                        <td id=\"T_ae814850_3eab_11ec_bf3b_0242ac1c0002row2_col14\" class=\"data row2 col14\" >0.233786</td>\n",
              "                        <td id=\"T_ae814850_3eab_11ec_bf3b_0242ac1c0002row2_col15\" class=\"data row2 col15\" >0.114101</td>\n",
              "                        <td id=\"T_ae814850_3eab_11ec_bf3b_0242ac1c0002row2_col16\" class=\"data row2 col16\" >0.050202</td>\n",
              "                        <td id=\"T_ae814850_3eab_11ec_bf3b_0242ac1c0002row2_col17\" class=\"data row2 col17\" >0.160491</td>\n",
              "            </tr>\n",
              "            <tr>\n",
              "                        <th id=\"T_ae814850_3eab_11ec_bf3b_0242ac1c0002level0_row3\" class=\"row_heading level0 row3\" >popularity</th>\n",
              "                        <td id=\"T_ae814850_3eab_11ec_bf3b_0242ac1c0002row3_col0\" class=\"data row3 col0\" >-0.006635</td>\n",
              "                        <td id=\"T_ae814850_3eab_11ec_bf3b_0242ac1c0002row3_col1\" class=\"data row3 col1\" >0.216239</td>\n",
              "                        <td id=\"T_ae814850_3eab_11ec_bf3b_0242ac1c0002row3_col2\" class=\"data row3 col2\" >0.161585</td>\n",
              "                        <td id=\"T_ae814850_3eab_11ec_bf3b_0242ac1c0002row3_col3\" class=\"data row3 col3\" >1.000000</td>\n",
              "                        <td id=\"T_ae814850_3eab_11ec_bf3b_0242ac1c0002row3_col4\" class=\"data row3 col4\" >0.141048</td>\n",
              "                        <td id=\"T_ae814850_3eab_11ec_bf3b_0242ac1c0002row3_col5\" class=\"data row3 col5\" >0.290395</td>\n",
              "                        <td id=\"T_ae814850_3eab_11ec_bf3b_0242ac1c0002row3_col6\" class=\"data row3 col6\" >0.167659</td>\n",
              "                        <td id=\"T_ae814850_3eab_11ec_bf3b_0242ac1c0002row3_col7\" class=\"data row3 col7\" >0.559314</td>\n",
              "                        <td id=\"T_ae814850_3eab_11ec_bf3b_0242ac1c0002row3_col8\" class=\"data row3 col8\" >0.116738</td>\n",
              "                        <td id=\"T_ae814850_3eab_11ec_bf3b_0242ac1c0002row3_col9\" class=\"data row3 col9\" >-0.008248</td>\n",
              "                        <td id=\"T_ae814850_3eab_11ec_bf3b_0242ac1c0002row3_col10\" class=\"data row3 col10\" >-0.105783</td>\n",
              "                        <td id=\"T_ae814850_3eab_11ec_bf3b_0242ac1c0002row3_col11\" class=\"data row3 col11\" >0.087595</td>\n",
              "                        <td id=\"T_ae814850_3eab_11ec_bf3b_0242ac1c0002row3_col12\" class=\"data row3 col12\" >0.126520</td>\n",
              "                        <td id=\"T_ae814850_3eab_11ec_bf3b_0242ac1c0002row3_col13\" class=\"data row3 col13\" >0.222532</td>\n",
              "                        <td id=\"T_ae814850_3eab_11ec_bf3b_0242ac1c0002row3_col14\" class=\"data row3 col14\" >0.341384</td>\n",
              "                        <td id=\"T_ae814850_3eab_11ec_bf3b_0242ac1c0002row3_col15\" class=\"data row3 col15\" >0.016220</td>\n",
              "                        <td id=\"T_ae814850_3eab_11ec_bf3b_0242ac1c0002row3_col16\" class=\"data row3 col16\" >0.137656</td>\n",
              "                        <td id=\"T_ae814850_3eab_11ec_bf3b_0242ac1c0002row3_col17\" class=\"data row3 col17\" >0.999987</td>\n",
              "            </tr>\n",
              "            <tr>\n",
              "                        <th id=\"T_ae814850_3eab_11ec_bf3b_0242ac1c0002level0_row4\" class=\"row_heading level0 row4\" >runtime</th>\n",
              "                        <td id=\"T_ae814850_3eab_11ec_bf3b_0242ac1c0002row4_col0\" class=\"data row4 col0\" >0.015811</td>\n",
              "                        <td id=\"T_ae814850_3eab_11ec_bf3b_0242ac1c0002row4_col1\" class=\"data row4 col1\" >0.199702</td>\n",
              "                        <td id=\"T_ae814850_3eab_11ec_bf3b_0242ac1c0002row4_col2\" class=\"data row4 col2\" >0.061290</td>\n",
              "                        <td id=\"T_ae814850_3eab_11ec_bf3b_0242ac1c0002row4_col3\" class=\"data row4 col3\" >0.141048</td>\n",
              "                        <td id=\"T_ae814850_3eab_11ec_bf3b_0242ac1c0002row4_col4\" class=\"data row4 col4\" >1.000000</td>\n",
              "                        <td id=\"T_ae814850_3eab_11ec_bf3b_0242ac1c0002row4_col5\" class=\"data row4 col5\" >0.212543</td>\n",
              "                        <td id=\"T_ae814850_3eab_11ec_bf3b_0242ac1c0002row4_col6\" class=\"data row4 col6\" >0.309434</td>\n",
              "                        <td id=\"T_ae814850_3eab_11ec_bf3b_0242ac1c0002row4_col7\" class=\"data row4 col7\" >0.218966</td>\n",
              "                        <td id=\"T_ae814850_3eab_11ec_bf3b_0242ac1c0002row4_col8\" class=\"data row4 col8\" >0.028232</td>\n",
              "                        <td id=\"T_ae814850_3eab_11ec_bf3b_0242ac1c0002row4_col9\" class=\"data row4 col9\" >0.129322</td>\n",
              "                        <td id=\"T_ae814850_3eab_11ec_bf3b_0242ac1c0002row4_col10\" class=\"data row4 col10\" >-0.062833</td>\n",
              "                        <td id=\"T_ae814850_3eab_11ec_bf3b_0242ac1c0002row4_col11\" class=\"data row4 col11\" >0.054458</td>\n",
              "                        <td id=\"T_ae814850_3eab_11ec_bf3b_0242ac1c0002row4_col12\" class=\"data row4 col12\" >-0.113789</td>\n",
              "                        <td id=\"T_ae814850_3eab_11ec_bf3b_0242ac1c0002row4_col13\" class=\"data row4 col13\" >-0.010522</td>\n",
              "                        <td id=\"T_ae814850_3eab_11ec_bf3b_0242ac1c0002row4_col14\" class=\"data row4 col14\" >0.263282</td>\n",
              "                        <td id=\"T_ae814850_3eab_11ec_bf3b_0242ac1c0002row4_col15\" class=\"data row4 col15\" >0.158730</td>\n",
              "                        <td id=\"T_ae814850_3eab_11ec_bf3b_0242ac1c0002row4_col16\" class=\"data row4 col16\" >0.999603</td>\n",
              "                        <td id=\"T_ae814850_3eab_11ec_bf3b_0242ac1c0002row4_col17\" class=\"data row4 col17\" >0.141486</td>\n",
              "            </tr>\n",
              "            <tr>\n",
              "                        <th id=\"T_ae814850_3eab_11ec_bf3b_0242ac1c0002level0_row5\" class=\"row_heading level0 row5\" >revenue</th>\n",
              "                        <td id=\"T_ae814850_3eab_11ec_bf3b_0242ac1c0002row5_col0\" class=\"data row5 col0\" >0.012539</td>\n",
              "                        <td id=\"T_ae814850_3eab_11ec_bf3b_0242ac1c0002row5_col1\" class=\"data row5 col1\" >0.537718</td>\n",
              "                        <td id=\"T_ae814850_3eab_11ec_bf3b_0242ac1c0002row5_col2\" class=\"data row5 col2\" >0.135583</td>\n",
              "                        <td id=\"T_ae814850_3eab_11ec_bf3b_0242ac1c0002row5_col3\" class=\"data row5 col3\" >0.290395</td>\n",
              "                        <td id=\"T_ae814850_3eab_11ec_bf3b_0242ac1c0002row5_col4\" class=\"data row5 col4\" >0.212543</td>\n",
              "                        <td id=\"T_ae814850_3eab_11ec_bf3b_0242ac1c0002row5_col5\" class=\"data row5 col5\" >1.000000</td>\n",
              "                        <td id=\"T_ae814850_3eab_11ec_bf3b_0242ac1c0002row5_col6\" class=\"data row5 col6\" >0.134218</td>\n",
              "                        <td id=\"T_ae814850_3eab_11ec_bf3b_0242ac1c0002row5_col7\" class=\"data row5 col7\" >0.410851</td>\n",
              "                        <td id=\"T_ae814850_3eab_11ec_bf3b_0242ac1c0002row5_col8\" class=\"data row5 col8\" >-0.056826</td>\n",
              "                        <td id=\"T_ae814850_3eab_11ec_bf3b_0242ac1c0002row5_col9\" class=\"data row5 col9\" >0.033193</td>\n",
              "                        <td id=\"T_ae814850_3eab_11ec_bf3b_0242ac1c0002row5_col10\" class=\"data row5 col10\" >-0.074551</td>\n",
              "                        <td id=\"T_ae814850_3eab_11ec_bf3b_0242ac1c0002row5_col11\" class=\"data row5 col11\" >0.195010</td>\n",
              "                        <td id=\"T_ae814850_3eab_11ec_bf3b_0242ac1c0002row5_col12\" class=\"data row5 col12\" >0.192291</td>\n",
              "                        <td id=\"T_ae814850_3eab_11ec_bf3b_0242ac1c0002row5_col13\" class=\"data row5 col13\" >0.381996</td>\n",
              "                        <td id=\"T_ae814850_3eab_11ec_bf3b_0242ac1c0002row5_col14\" class=\"data row5 col14\" >0.502566</td>\n",
              "                        <td id=\"T_ae814850_3eab_11ec_bf3b_0242ac1c0002row5_col15\" class=\"data row5 col15\" >0.351475</td>\n",
              "                        <td id=\"T_ae814850_3eab_11ec_bf3b_0242ac1c0002row5_col16\" class=\"data row5 col16\" >0.214051</td>\n",
              "                        <td id=\"T_ae814850_3eab_11ec_bf3b_0242ac1c0002row5_col17\" class=\"data row5 col17\" >0.291721</td>\n",
              "            </tr>\n",
              "            <tr>\n",
              "                        <th id=\"T_ae814850_3eab_11ec_bf3b_0242ac1c0002level0_row6\" class=\"row_heading level0 row6\" >rating</th>\n",
              "                        <td id=\"T_ae814850_3eab_11ec_bf3b_0242ac1c0002row6_col0\" class=\"data row6 col0\" >-0.011004</td>\n",
              "                        <td id=\"T_ae814850_3eab_11ec_bf3b_0242ac1c0002row6_col1\" class=\"data row6 col1\" >0.011784</td>\n",
              "                        <td id=\"T_ae814850_3eab_11ec_bf3b_0242ac1c0002row6_col2\" class=\"data row6 col2\" >0.108453</td>\n",
              "                        <td id=\"T_ae814850_3eab_11ec_bf3b_0242ac1c0002row6_col3\" class=\"data row6 col3\" >0.167659</td>\n",
              "                        <td id=\"T_ae814850_3eab_11ec_bf3b_0242ac1c0002row6_col4\" class=\"data row6 col4\" >0.309434</td>\n",
              "                        <td id=\"T_ae814850_3eab_11ec_bf3b_0242ac1c0002row6_col5\" class=\"data row6 col5\" >0.134218</td>\n",
              "                        <td id=\"T_ae814850_3eab_11ec_bf3b_0242ac1c0002row6_col6\" class=\"data row6 col6\" >1.000000</td>\n",
              "                        <td id=\"T_ae814850_3eab_11ec_bf3b_0242ac1c0002row6_col7\" class=\"data row6 col7\" >0.327992</td>\n",
              "                        <td id=\"T_ae814850_3eab_11ec_bf3b_0242ac1c0002row6_col8\" class=\"data row6 col8\" >-0.012350</td>\n",
              "                        <td id=\"T_ae814850_3eab_11ec_bf3b_0242ac1c0002row6_col9\" class=\"data row6 col9\" >0.108070</td>\n",
              "                        <td id=\"T_ae814850_3eab_11ec_bf3b_0242ac1c0002row6_col10\" class=\"data row6 col10\" >-0.053557</td>\n",
              "                        <td id=\"T_ae814850_3eab_11ec_bf3b_0242ac1c0002row6_col11\" class=\"data row6 col11\" >-0.040847</td>\n",
              "                        <td id=\"T_ae814850_3eab_11ec_bf3b_0242ac1c0002row6_col12\" class=\"data row6 col12\" >-0.134275</td>\n",
              "                        <td id=\"T_ae814850_3eab_11ec_bf3b_0242ac1c0002row6_col13\" class=\"data row6 col13\" >-0.036025</td>\n",
              "                        <td id=\"T_ae814850_3eab_11ec_bf3b_0242ac1c0002row6_col14\" class=\"data row6 col14\" >0.019006</td>\n",
              "                        <td id=\"T_ae814850_3eab_11ec_bf3b_0242ac1c0002row6_col15\" class=\"data row6 col15\" >-0.087499</td>\n",
              "                        <td id=\"T_ae814850_3eab_11ec_bf3b_0242ac1c0002row6_col16\" class=\"data row6 col16\" >0.310113</td>\n",
              "                        <td id=\"T_ae814850_3eab_11ec_bf3b_0242ac1c0002row6_col17\" class=\"data row6 col17\" >0.168544</td>\n",
              "            </tr>\n",
              "            <tr>\n",
              "                        <th id=\"T_ae814850_3eab_11ec_bf3b_0242ac1c0002level0_row7\" class=\"row_heading level0 row7\" >totalVotes</th>\n",
              "                        <td id=\"T_ae814850_3eab_11ec_bf3b_0242ac1c0002row7_col0\" class=\"data row7 col0\" >-0.013265</td>\n",
              "                        <td id=\"T_ae814850_3eab_11ec_bf3b_0242ac1c0002row7_col1\" class=\"data row7 col1\" >0.293954</td>\n",
              "                        <td id=\"T_ae814850_3eab_11ec_bf3b_0242ac1c0002row7_col2\" class=\"data row7 col2\" >0.299594</td>\n",
              "                        <td id=\"T_ae814850_3eab_11ec_bf3b_0242ac1c0002row7_col3\" class=\"data row7 col3\" >0.559314</td>\n",
              "                        <td id=\"T_ae814850_3eab_11ec_bf3b_0242ac1c0002row7_col4\" class=\"data row7 col4\" >0.218966</td>\n",
              "                        <td id=\"T_ae814850_3eab_11ec_bf3b_0242ac1c0002row7_col5\" class=\"data row7 col5\" >0.410851</td>\n",
              "                        <td id=\"T_ae814850_3eab_11ec_bf3b_0242ac1c0002row7_col6\" class=\"data row7 col6\" >0.327992</td>\n",
              "                        <td id=\"T_ae814850_3eab_11ec_bf3b_0242ac1c0002row7_col7\" class=\"data row7 col7\" >1.000000</td>\n",
              "                        <td id=\"T_ae814850_3eab_11ec_bf3b_0242ac1c0002row7_col8\" class=\"data row7 col8\" >0.157692</td>\n",
              "                        <td id=\"T_ae814850_3eab_11ec_bf3b_0242ac1c0002row7_col9\" class=\"data row7 col9\" >0.030602</td>\n",
              "                        <td id=\"T_ae814850_3eab_11ec_bf3b_0242ac1c0002row7_col10\" class=\"data row7 col10\" >-0.157498</td>\n",
              "                        <td id=\"T_ae814850_3eab_11ec_bf3b_0242ac1c0002row7_col11\" class=\"data row7 col11\" >0.118601</td>\n",
              "                        <td id=\"T_ae814850_3eab_11ec_bf3b_0242ac1c0002row7_col12\" class=\"data row7 col12\" >0.146706</td>\n",
              "                        <td id=\"T_ae814850_3eab_11ec_bf3b_0242ac1c0002row7_col13\" class=\"data row7 col13\" >0.390613</td>\n",
              "                        <td id=\"T_ae814850_3eab_11ec_bf3b_0242ac1c0002row7_col14\" class=\"data row7 col14\" >0.579022</td>\n",
              "                        <td id=\"T_ae814850_3eab_11ec_bf3b_0242ac1c0002row7_col15\" class=\"data row7 col15\" >0.251877</td>\n",
              "                        <td id=\"T_ae814850_3eab_11ec_bf3b_0242ac1c0002row7_col16\" class=\"data row7 col16\" >0.214422</td>\n",
              "                        <td id=\"T_ae814850_3eab_11ec_bf3b_0242ac1c0002row7_col17\" class=\"data row7 col17\" >0.559883</td>\n",
              "            </tr>\n",
              "            <tr>\n",
              "                        <th id=\"T_ae814850_3eab_11ec_bf3b_0242ac1c0002level0_row8\" class=\"row_heading level0 row8\" >release_year</th>\n",
              "                        <td id=\"T_ae814850_3eab_11ec_bf3b_0242ac1c0002row8_col0\" class=\"data row8 col0\" >-0.016391</td>\n",
              "                        <td id=\"T_ae814850_3eab_11ec_bf3b_0242ac1c0002row8_col1\" class=\"data row8 col1\" >0.103845</td>\n",
              "                        <td id=\"T_ae814850_3eab_11ec_bf3b_0242ac1c0002row8_col2\" class=\"data row8 col2\" >0.406306</td>\n",
              "                        <td id=\"T_ae814850_3eab_11ec_bf3b_0242ac1c0002row8_col3\" class=\"data row8 col3\" >0.116738</td>\n",
              "                        <td id=\"T_ae814850_3eab_11ec_bf3b_0242ac1c0002row8_col4\" class=\"data row8 col4\" >0.028232</td>\n",
              "                        <td id=\"T_ae814850_3eab_11ec_bf3b_0242ac1c0002row8_col5\" class=\"data row8 col5\" >-0.056826</td>\n",
              "                        <td id=\"T_ae814850_3eab_11ec_bf3b_0242ac1c0002row8_col6\" class=\"data row8 col6\" >-0.012350</td>\n",
              "                        <td id=\"T_ae814850_3eab_11ec_bf3b_0242ac1c0002row8_col7\" class=\"data row8 col7\" >0.157692</td>\n",
              "                        <td id=\"T_ae814850_3eab_11ec_bf3b_0242ac1c0002row8_col8\" class=\"data row8 col8\" >1.000000</td>\n",
              "                        <td id=\"T_ae814850_3eab_11ec_bf3b_0242ac1c0002row8_col9\" class=\"data row8 col9\" >-0.059667</td>\n",
              "                        <td id=\"T_ae814850_3eab_11ec_bf3b_0242ac1c0002row8_col10\" class=\"data row8 col10\" >-0.081112</td>\n",
              "                        <td id=\"T_ae814850_3eab_11ec_bf3b_0242ac1c0002row8_col11\" class=\"data row8 col11\" >-0.078841</td>\n",
              "                        <td id=\"T_ae814850_3eab_11ec_bf3b_0242ac1c0002row8_col12\" class=\"data row8 col12\" >-0.166873</td>\n",
              "                        <td id=\"T_ae814850_3eab_11ec_bf3b_0242ac1c0002row8_col13\" class=\"data row8 col13\" >0.160053</td>\n",
              "                        <td id=\"T_ae814850_3eab_11ec_bf3b_0242ac1c0002row8_col14\" class=\"data row8 col14\" >0.181964</td>\n",
              "                        <td id=\"T_ae814850_3eab_11ec_bf3b_0242ac1c0002row8_col15\" class=\"data row8 col15\" >0.106605</td>\n",
              "                        <td id=\"T_ae814850_3eab_11ec_bf3b_0242ac1c0002row8_col16\" class=\"data row8 col16\" >0.000560</td>\n",
              "                        <td id=\"T_ae814850_3eab_11ec_bf3b_0242ac1c0002row8_col17\" class=\"data row8 col17\" >0.113045</td>\n",
              "            </tr>\n",
              "            <tr>\n",
              "                        <th id=\"T_ae814850_3eab_11ec_bf3b_0242ac1c0002level0_row9\" class=\"row_heading level0 row9\" >release_month</th>\n",
              "                        <td id=\"T_ae814850_3eab_11ec_bf3b_0242ac1c0002row9_col0\" class=\"data row9 col0\" >0.012241</td>\n",
              "                        <td id=\"T_ae814850_3eab_11ec_bf3b_0242ac1c0002row9_col1\" class=\"data row9 col1\" >0.043785</td>\n",
              "                        <td id=\"T_ae814850_3eab_11ec_bf3b_0242ac1c0002row9_col2\" class=\"data row9 col2\" >-0.011791</td>\n",
              "                        <td id=\"T_ae814850_3eab_11ec_bf3b_0242ac1c0002row9_col3\" class=\"data row9 col3\" >-0.008248</td>\n",
              "                        <td id=\"T_ae814850_3eab_11ec_bf3b_0242ac1c0002row9_col4\" class=\"data row9 col4\" >0.129322</td>\n",
              "                        <td id=\"T_ae814850_3eab_11ec_bf3b_0242ac1c0002row9_col5\" class=\"data row9 col5\" >0.033193</td>\n",
              "                        <td id=\"T_ae814850_3eab_11ec_bf3b_0242ac1c0002row9_col6\" class=\"data row9 col6\" >0.108070</td>\n",
              "                        <td id=\"T_ae814850_3eab_11ec_bf3b_0242ac1c0002row9_col7\" class=\"data row9 col7\" >0.030602</td>\n",
              "                        <td id=\"T_ae814850_3eab_11ec_bf3b_0242ac1c0002row9_col8\" class=\"data row9 col8\" >-0.059667</td>\n",
              "                        <td id=\"T_ae814850_3eab_11ec_bf3b_0242ac1c0002row9_col9\" class=\"data row9 col9\" >1.000000</td>\n",
              "                        <td id=\"T_ae814850_3eab_11ec_bf3b_0242ac1c0002row9_col10\" class=\"data row9 col10\" >-0.016066</td>\n",
              "                        <td id=\"T_ae814850_3eab_11ec_bf3b_0242ac1c0002row9_col11\" class=\"data row9 col11\" >-0.013854</td>\n",
              "                        <td id=\"T_ae814850_3eab_11ec_bf3b_0242ac1c0002row9_col12\" class=\"data row9 col12\" >0.002538</td>\n",
              "                        <td id=\"T_ae814850_3eab_11ec_bf3b_0242ac1c0002row9_col13\" class=\"data row9 col13\" >0.040634</td>\n",
              "                        <td id=\"T_ae814850_3eab_11ec_bf3b_0242ac1c0002row9_col14\" class=\"data row9 col14\" >0.036651</td>\n",
              "                        <td id=\"T_ae814850_3eab_11ec_bf3b_0242ac1c0002row9_col15\" class=\"data row9 col15\" >0.017860</td>\n",
              "                        <td id=\"T_ae814850_3eab_11ec_bf3b_0242ac1c0002row9_col16\" class=\"data row9 col16\" >0.131293</td>\n",
              "                        <td id=\"T_ae814850_3eab_11ec_bf3b_0242ac1c0002row9_col17\" class=\"data row9 col17\" >-0.007818</td>\n",
              "            </tr>\n",
              "            <tr>\n",
              "                        <th id=\"T_ae814850_3eab_11ec_bf3b_0242ac1c0002level0_row10\" class=\"row_heading level0 row10\" >release_day</th>\n",
              "                        <td id=\"T_ae814850_3eab_11ec_bf3b_0242ac1c0002row10_col0\" class=\"data row10 col0\" >-0.009644</td>\n",
              "                        <td id=\"T_ae814850_3eab_11ec_bf3b_0242ac1c0002row10_col1\" class=\"data row10 col1\" >-0.081413</td>\n",
              "                        <td id=\"T_ae814850_3eab_11ec_bf3b_0242ac1c0002row10_col2\" class=\"data row10 col2\" >-0.089202</td>\n",
              "                        <td id=\"T_ae814850_3eab_11ec_bf3b_0242ac1c0002row10_col3\" class=\"data row10 col3\" >-0.105783</td>\n",
              "                        <td id=\"T_ae814850_3eab_11ec_bf3b_0242ac1c0002row10_col4\" class=\"data row10 col4\" >-0.062833</td>\n",
              "                        <td id=\"T_ae814850_3eab_11ec_bf3b_0242ac1c0002row10_col5\" class=\"data row10 col5\" >-0.074551</td>\n",
              "                        <td id=\"T_ae814850_3eab_11ec_bf3b_0242ac1c0002row10_col6\" class=\"data row10 col6\" >-0.053557</td>\n",
              "                        <td id=\"T_ae814850_3eab_11ec_bf3b_0242ac1c0002row10_col7\" class=\"data row10 col7\" >-0.157498</td>\n",
              "                        <td id=\"T_ae814850_3eab_11ec_bf3b_0242ac1c0002row10_col8\" class=\"data row10 col8\" >-0.081112</td>\n",
              "                        <td id=\"T_ae814850_3eab_11ec_bf3b_0242ac1c0002row10_col9\" class=\"data row10 col9\" >-0.016066</td>\n",
              "                        <td id=\"T_ae814850_3eab_11ec_bf3b_0242ac1c0002row10_col10\" class=\"data row10 col10\" >1.000000</td>\n",
              "                        <td id=\"T_ae814850_3eab_11ec_bf3b_0242ac1c0002row10_col11\" class=\"data row10 col11\" >-0.031574</td>\n",
              "                        <td id=\"T_ae814850_3eab_11ec_bf3b_0242ac1c0002row10_col12\" class=\"data row10 col12\" >0.023016</td>\n",
              "                        <td id=\"T_ae814850_3eab_11ec_bf3b_0242ac1c0002row10_col13\" class=\"data row10 col13\" >-0.093836</td>\n",
              "                        <td id=\"T_ae814850_3eab_11ec_bf3b_0242ac1c0002row10_col14\" class=\"data row10 col14\" >-0.145917</td>\n",
              "                        <td id=\"T_ae814850_3eab_11ec_bf3b_0242ac1c0002row10_col15\" class=\"data row10 col15\" >-0.080050</td>\n",
              "                        <td id=\"T_ae814850_3eab_11ec_bf3b_0242ac1c0002row10_col16\" class=\"data row10 col16\" >-0.060688</td>\n",
              "                        <td id=\"T_ae814850_3eab_11ec_bf3b_0242ac1c0002row10_col17\" class=\"data row10 col17\" >-0.105643</td>\n",
              "            </tr>\n",
              "            <tr>\n",
              "                        <th id=\"T_ae814850_3eab_11ec_bf3b_0242ac1c0002level0_row11\" class=\"row_heading level0 row11\" >numberofgenres</th>\n",
              "                        <td id=\"T_ae814850_3eab_11ec_bf3b_0242ac1c0002row11_col0\" class=\"data row11 col0\" >0.010604</td>\n",
              "                        <td id=\"T_ae814850_3eab_11ec_bf3b_0242ac1c0002row11_col1\" class=\"data row11 col1\" >0.193528</td>\n",
              "                        <td id=\"T_ae814850_3eab_11ec_bf3b_0242ac1c0002row11_col2\" class=\"data row11 col2\" >0.007031</td>\n",
              "                        <td id=\"T_ae814850_3eab_11ec_bf3b_0242ac1c0002row11_col3\" class=\"data row11 col3\" >0.087595</td>\n",
              "                        <td id=\"T_ae814850_3eab_11ec_bf3b_0242ac1c0002row11_col4\" class=\"data row11 col4\" >0.054458</td>\n",
              "                        <td id=\"T_ae814850_3eab_11ec_bf3b_0242ac1c0002row11_col5\" class=\"data row11 col5\" >0.195010</td>\n",
              "                        <td id=\"T_ae814850_3eab_11ec_bf3b_0242ac1c0002row11_col6\" class=\"data row11 col6\" >-0.040847</td>\n",
              "                        <td id=\"T_ae814850_3eab_11ec_bf3b_0242ac1c0002row11_col7\" class=\"data row11 col7\" >0.118601</td>\n",
              "                        <td id=\"T_ae814850_3eab_11ec_bf3b_0242ac1c0002row11_col8\" class=\"data row11 col8\" >-0.078841</td>\n",
              "                        <td id=\"T_ae814850_3eab_11ec_bf3b_0242ac1c0002row11_col9\" class=\"data row11 col9\" >-0.013854</td>\n",
              "                        <td id=\"T_ae814850_3eab_11ec_bf3b_0242ac1c0002row11_col10\" class=\"data row11 col10\" >-0.031574</td>\n",
              "                        <td id=\"T_ae814850_3eab_11ec_bf3b_0242ac1c0002row11_col11\" class=\"data row11 col11\" >1.000000</td>\n",
              "                        <td id=\"T_ae814850_3eab_11ec_bf3b_0242ac1c0002row11_col12\" class=\"data row11 col12\" >0.067125</td>\n",
              "                        <td id=\"T_ae814850_3eab_11ec_bf3b_0242ac1c0002row11_col13\" class=\"data row11 col13\" >0.171024</td>\n",
              "                        <td id=\"T_ae814850_3eab_11ec_bf3b_0242ac1c0002row11_col14\" class=\"data row11 col14\" >0.243381</td>\n",
              "                        <td id=\"T_ae814850_3eab_11ec_bf3b_0242ac1c0002row11_col15\" class=\"data row11 col15\" >0.192160</td>\n",
              "                        <td id=\"T_ae814850_3eab_11ec_bf3b_0242ac1c0002row11_col16\" class=\"data row11 col16\" >0.056506</td>\n",
              "                        <td id=\"T_ae814850_3eab_11ec_bf3b_0242ac1c0002row11_col17\" class=\"data row11 col17\" >0.088194</td>\n",
              "            </tr>\n",
              "            <tr>\n",
              "                        <th id=\"T_ae814850_3eab_11ec_bf3b_0242ac1c0002level0_row12\" class=\"row_heading level0 row12\" >lang_english</th>\n",
              "                        <td id=\"T_ae814850_3eab_11ec_bf3b_0242ac1c0002row12_col0\" class=\"data row12 col0\" >0.001205</td>\n",
              "                        <td id=\"T_ae814850_3eab_11ec_bf3b_0242ac1c0002row12_col1\" class=\"data row12 col1\" >0.168814</td>\n",
              "                        <td id=\"T_ae814850_3eab_11ec_bf3b_0242ac1c0002row12_col2\" class=\"data row12 col2\" >0.032202</td>\n",
              "                        <td id=\"T_ae814850_3eab_11ec_bf3b_0242ac1c0002row12_col3\" class=\"data row12 col3\" >0.126520</td>\n",
              "                        <td id=\"T_ae814850_3eab_11ec_bf3b_0242ac1c0002row12_col4\" class=\"data row12 col4\" >-0.113789</td>\n",
              "                        <td id=\"T_ae814850_3eab_11ec_bf3b_0242ac1c0002row12_col5\" class=\"data row12 col5\" >0.192291</td>\n",
              "                        <td id=\"T_ae814850_3eab_11ec_bf3b_0242ac1c0002row12_col6\" class=\"data row12 col6\" >-0.134275</td>\n",
              "                        <td id=\"T_ae814850_3eab_11ec_bf3b_0242ac1c0002row12_col7\" class=\"data row12 col7\" >0.146706</td>\n",
              "                        <td id=\"T_ae814850_3eab_11ec_bf3b_0242ac1c0002row12_col8\" class=\"data row12 col8\" >-0.166873</td>\n",
              "                        <td id=\"T_ae814850_3eab_11ec_bf3b_0242ac1c0002row12_col9\" class=\"data row12 col9\" >0.002538</td>\n",
              "                        <td id=\"T_ae814850_3eab_11ec_bf3b_0242ac1c0002row12_col10\" class=\"data row12 col10\" >0.023016</td>\n",
              "                        <td id=\"T_ae814850_3eab_11ec_bf3b_0242ac1c0002row12_col11\" class=\"data row12 col11\" >0.067125</td>\n",
              "                        <td id=\"T_ae814850_3eab_11ec_bf3b_0242ac1c0002row12_col12\" class=\"data row12 col12\" >1.000000</td>\n",
              "                        <td id=\"T_ae814850_3eab_11ec_bf3b_0242ac1c0002row12_col13\" class=\"data row12 col13\" >0.092872</td>\n",
              "                        <td id=\"T_ae814850_3eab_11ec_bf3b_0242ac1c0002row12_col14\" class=\"data row12 col14\" >0.197225</td>\n",
              "                        <td id=\"T_ae814850_3eab_11ec_bf3b_0242ac1c0002row12_col15\" class=\"data row12 col15\" >0.133997</td>\n",
              "                        <td id=\"T_ae814850_3eab_11ec_bf3b_0242ac1c0002row12_col16\" class=\"data row12 col16\" >-0.108984</td>\n",
              "                        <td id=\"T_ae814850_3eab_11ec_bf3b_0242ac1c0002row12_col17\" class=\"data row12 col17\" >0.127475</td>\n",
              "            </tr>\n",
              "            <tr>\n",
              "                        <th id=\"T_ae814850_3eab_11ec_bf3b_0242ac1c0002level0_row13\" class=\"row_heading level0 row13\" >bud_runtime</th>\n",
              "                        <td id=\"T_ae814850_3eab_11ec_bf3b_0242ac1c0002row13_col0\" class=\"data row13 col0\" >0.013554</td>\n",
              "                        <td id=\"T_ae814850_3eab_11ec_bf3b_0242ac1c0002row13_col1\" class=\"data row13 col1\" >0.400926</td>\n",
              "                        <td id=\"T_ae814850_3eab_11ec_bf3b_0242ac1c0002row13_col2\" class=\"data row13 col2\" >0.153826</td>\n",
              "                        <td id=\"T_ae814850_3eab_11ec_bf3b_0242ac1c0002row13_col3\" class=\"data row13 col3\" >0.222532</td>\n",
              "                        <td id=\"T_ae814850_3eab_11ec_bf3b_0242ac1c0002row13_col4\" class=\"data row13 col4\" >-0.010522</td>\n",
              "                        <td id=\"T_ae814850_3eab_11ec_bf3b_0242ac1c0002row13_col5\" class=\"data row13 col5\" >0.381996</td>\n",
              "                        <td id=\"T_ae814850_3eab_11ec_bf3b_0242ac1c0002row13_col6\" class=\"data row13 col6\" >-0.036025</td>\n",
              "                        <td id=\"T_ae814850_3eab_11ec_bf3b_0242ac1c0002row13_col7\" class=\"data row13 col7\" >0.390613</td>\n",
              "                        <td id=\"T_ae814850_3eab_11ec_bf3b_0242ac1c0002row13_col8\" class=\"data row13 col8\" >0.160053</td>\n",
              "                        <td id=\"T_ae814850_3eab_11ec_bf3b_0242ac1c0002row13_col9\" class=\"data row13 col9\" >0.040634</td>\n",
              "                        <td id=\"T_ae814850_3eab_11ec_bf3b_0242ac1c0002row13_col10\" class=\"data row13 col10\" >-0.093836</td>\n",
              "                        <td id=\"T_ae814850_3eab_11ec_bf3b_0242ac1c0002row13_col11\" class=\"data row13 col11\" >0.171024</td>\n",
              "                        <td id=\"T_ae814850_3eab_11ec_bf3b_0242ac1c0002row13_col12\" class=\"data row13 col12\" >0.092872</td>\n",
              "                        <td id=\"T_ae814850_3eab_11ec_bf3b_0242ac1c0002row13_col13\" class=\"data row13 col13\" >1.000000</td>\n",
              "                        <td id=\"T_ae814850_3eab_11ec_bf3b_0242ac1c0002row13_col14\" class=\"data row13 col14\" >0.718539</td>\n",
              "                        <td id=\"T_ae814850_3eab_11ec_bf3b_0242ac1c0002row13_col15\" class=\"data row13 col15\" >0.507037</td>\n",
              "                        <td id=\"T_ae814850_3eab_11ec_bf3b_0242ac1c0002row13_col16\" class=\"data row13 col16\" >-0.014658</td>\n",
              "                        <td id=\"T_ae814850_3eab_11ec_bf3b_0242ac1c0002row13_col17\" class=\"data row13 col17\" >0.222420</td>\n",
              "            </tr>\n",
              "            <tr>\n",
              "                        <th id=\"T_ae814850_3eab_11ec_bf3b_0242ac1c0002level0_row14\" class=\"row_heading level0 row14\" >bud_year</th>\n",
              "                        <td id=\"T_ae814850_3eab_11ec_bf3b_0242ac1c0002row14_col0\" class=\"data row14 col0\" >0.019269</td>\n",
              "                        <td id=\"T_ae814850_3eab_11ec_bf3b_0242ac1c0002row14_col1\" class=\"data row14 col1\" >0.496779</td>\n",
              "                        <td id=\"T_ae814850_3eab_11ec_bf3b_0242ac1c0002row14_col2\" class=\"data row14 col2\" >0.233786</td>\n",
              "                        <td id=\"T_ae814850_3eab_11ec_bf3b_0242ac1c0002row14_col3\" class=\"data row14 col3\" >0.341384</td>\n",
              "                        <td id=\"T_ae814850_3eab_11ec_bf3b_0242ac1c0002row14_col4\" class=\"data row14 col4\" >0.263282</td>\n",
              "                        <td id=\"T_ae814850_3eab_11ec_bf3b_0242ac1c0002row14_col5\" class=\"data row14 col5\" >0.502566</td>\n",
              "                        <td id=\"T_ae814850_3eab_11ec_bf3b_0242ac1c0002row14_col6\" class=\"data row14 col6\" >0.019006</td>\n",
              "                        <td id=\"T_ae814850_3eab_11ec_bf3b_0242ac1c0002row14_col7\" class=\"data row14 col7\" >0.579022</td>\n",
              "                        <td id=\"T_ae814850_3eab_11ec_bf3b_0242ac1c0002row14_col8\" class=\"data row14 col8\" >0.181964</td>\n",
              "                        <td id=\"T_ae814850_3eab_11ec_bf3b_0242ac1c0002row14_col9\" class=\"data row14 col9\" >0.036651</td>\n",
              "                        <td id=\"T_ae814850_3eab_11ec_bf3b_0242ac1c0002row14_col10\" class=\"data row14 col10\" >-0.145917</td>\n",
              "                        <td id=\"T_ae814850_3eab_11ec_bf3b_0242ac1c0002row14_col11\" class=\"data row14 col11\" >0.243381</td>\n",
              "                        <td id=\"T_ae814850_3eab_11ec_bf3b_0242ac1c0002row14_col12\" class=\"data row14 col12\" >0.197225</td>\n",
              "                        <td id=\"T_ae814850_3eab_11ec_bf3b_0242ac1c0002row14_col13\" class=\"data row14 col13\" >0.718539</td>\n",
              "                        <td id=\"T_ae814850_3eab_11ec_bf3b_0242ac1c0002row14_col14\" class=\"data row14 col14\" >1.000000</td>\n",
              "                        <td id=\"T_ae814850_3eab_11ec_bf3b_0242ac1c0002row14_col15\" class=\"data row14 col15\" >0.664549</td>\n",
              "                        <td id=\"T_ae814850_3eab_11ec_bf3b_0242ac1c0002row14_col16\" class=\"data row14 col16\" >0.258002</td>\n",
              "                        <td id=\"T_ae814850_3eab_11ec_bf3b_0242ac1c0002row14_col17\" class=\"data row14 col17\" >0.341395</td>\n",
              "            </tr>\n",
              "            <tr>\n",
              "                        <th id=\"T_ae814850_3eab_11ec_bf3b_0242ac1c0002level0_row15\" class=\"row_heading level0 row15\" >bud_popularity</th>\n",
              "                        <td id=\"T_ae814850_3eab_11ec_bf3b_0242ac1c0002row15_col0\" class=\"data row15 col0\" >0.023232</td>\n",
              "                        <td id=\"T_ae814850_3eab_11ec_bf3b_0242ac1c0002row15_col1\" class=\"data row15 col1\" >0.423807</td>\n",
              "                        <td id=\"T_ae814850_3eab_11ec_bf3b_0242ac1c0002row15_col2\" class=\"data row15 col2\" >0.114101</td>\n",
              "                        <td id=\"T_ae814850_3eab_11ec_bf3b_0242ac1c0002row15_col3\" class=\"data row15 col3\" >0.016220</td>\n",
              "                        <td id=\"T_ae814850_3eab_11ec_bf3b_0242ac1c0002row15_col4\" class=\"data row15 col4\" >0.158730</td>\n",
              "                        <td id=\"T_ae814850_3eab_11ec_bf3b_0242ac1c0002row15_col5\" class=\"data row15 col5\" >0.351475</td>\n",
              "                        <td id=\"T_ae814850_3eab_11ec_bf3b_0242ac1c0002row15_col6\" class=\"data row15 col6\" >-0.087499</td>\n",
              "                        <td id=\"T_ae814850_3eab_11ec_bf3b_0242ac1c0002row15_col7\" class=\"data row15 col7\" >0.251877</td>\n",
              "                        <td id=\"T_ae814850_3eab_11ec_bf3b_0242ac1c0002row15_col8\" class=\"data row15 col8\" >0.106605</td>\n",
              "                        <td id=\"T_ae814850_3eab_11ec_bf3b_0242ac1c0002row15_col9\" class=\"data row15 col9\" >0.017860</td>\n",
              "                        <td id=\"T_ae814850_3eab_11ec_bf3b_0242ac1c0002row15_col10\" class=\"data row15 col10\" >-0.080050</td>\n",
              "                        <td id=\"T_ae814850_3eab_11ec_bf3b_0242ac1c0002row15_col11\" class=\"data row15 col11\" >0.192160</td>\n",
              "                        <td id=\"T_ae814850_3eab_11ec_bf3b_0242ac1c0002row15_col12\" class=\"data row15 col12\" >0.133997</td>\n",
              "                        <td id=\"T_ae814850_3eab_11ec_bf3b_0242ac1c0002row15_col13\" class=\"data row15 col13\" >0.507037</td>\n",
              "                        <td id=\"T_ae814850_3eab_11ec_bf3b_0242ac1c0002row15_col14\" class=\"data row15 col14\" >0.664549</td>\n",
              "                        <td id=\"T_ae814850_3eab_11ec_bf3b_0242ac1c0002row15_col15\" class=\"data row15 col15\" >1.000000</td>\n",
              "                        <td id=\"T_ae814850_3eab_11ec_bf3b_0242ac1c0002row15_col16\" class=\"data row15 col16\" >0.155761</td>\n",
              "                        <td id=\"T_ae814850_3eab_11ec_bf3b_0242ac1c0002row15_col17\" class=\"data row15 col17\" >0.015958</td>\n",
              "            </tr>\n",
              "            <tr>\n",
              "                        <th id=\"T_ae814850_3eab_11ec_bf3b_0242ac1c0002level0_row16\" class=\"row_heading level0 row16\" >runtime_year</th>\n",
              "                        <td id=\"T_ae814850_3eab_11ec_bf3b_0242ac1c0002row16_col0\" class=\"data row16 col0\" >0.016368</td>\n",
              "                        <td id=\"T_ae814850_3eab_11ec_bf3b_0242ac1c0002row16_col1\" class=\"data row16 col1\" >0.196968</td>\n",
              "                        <td id=\"T_ae814850_3eab_11ec_bf3b_0242ac1c0002row16_col2\" class=\"data row16 col2\" >0.050202</td>\n",
              "                        <td id=\"T_ae814850_3eab_11ec_bf3b_0242ac1c0002row16_col3\" class=\"data row16 col3\" >0.137656</td>\n",
              "                        <td id=\"T_ae814850_3eab_11ec_bf3b_0242ac1c0002row16_col4\" class=\"data row16 col4\" >0.999603</td>\n",
              "                        <td id=\"T_ae814850_3eab_11ec_bf3b_0242ac1c0002row16_col5\" class=\"data row16 col5\" >0.214051</td>\n",
              "                        <td id=\"T_ae814850_3eab_11ec_bf3b_0242ac1c0002row16_col6\" class=\"data row16 col6\" >0.310113</td>\n",
              "                        <td id=\"T_ae814850_3eab_11ec_bf3b_0242ac1c0002row16_col7\" class=\"data row16 col7\" >0.214422</td>\n",
              "                        <td id=\"T_ae814850_3eab_11ec_bf3b_0242ac1c0002row16_col8\" class=\"data row16 col8\" >0.000560</td>\n",
              "                        <td id=\"T_ae814850_3eab_11ec_bf3b_0242ac1c0002row16_col9\" class=\"data row16 col9\" >0.131293</td>\n",
              "                        <td id=\"T_ae814850_3eab_11ec_bf3b_0242ac1c0002row16_col10\" class=\"data row16 col10\" >-0.060688</td>\n",
              "                        <td id=\"T_ae814850_3eab_11ec_bf3b_0242ac1c0002row16_col11\" class=\"data row16 col11\" >0.056506</td>\n",
              "                        <td id=\"T_ae814850_3eab_11ec_bf3b_0242ac1c0002row16_col12\" class=\"data row16 col12\" >-0.108984</td>\n",
              "                        <td id=\"T_ae814850_3eab_11ec_bf3b_0242ac1c0002row16_col13\" class=\"data row16 col13\" >-0.014658</td>\n",
              "                        <td id=\"T_ae814850_3eab_11ec_bf3b_0242ac1c0002row16_col14\" class=\"data row16 col14\" >0.258002</td>\n",
              "                        <td id=\"T_ae814850_3eab_11ec_bf3b_0242ac1c0002row16_col15\" class=\"data row16 col15\" >0.155761</td>\n",
              "                        <td id=\"T_ae814850_3eab_11ec_bf3b_0242ac1c0002row16_col16\" class=\"data row16 col16\" >1.000000</td>\n",
              "                        <td id=\"T_ae814850_3eab_11ec_bf3b_0242ac1c0002row16_col17\" class=\"data row16 col17\" >0.138201</td>\n",
              "            </tr>\n",
              "            <tr>\n",
              "                        <th id=\"T_ae814850_3eab_11ec_bf3b_0242ac1c0002level0_row17\" class=\"row_heading level0 row17\" >popularity_year</th>\n",
              "                        <td id=\"T_ae814850_3eab_11ec_bf3b_0242ac1c0002row17_col0\" class=\"data row17 col0\" >-0.006610</td>\n",
              "                        <td id=\"T_ae814850_3eab_11ec_bf3b_0242ac1c0002row17_col1\" class=\"data row17 col1\" >0.216844</td>\n",
              "                        <td id=\"T_ae814850_3eab_11ec_bf3b_0242ac1c0002row17_col2\" class=\"data row17 col2\" >0.160491</td>\n",
              "                        <td id=\"T_ae814850_3eab_11ec_bf3b_0242ac1c0002row17_col3\" class=\"data row17 col3\" >0.999987</td>\n",
              "                        <td id=\"T_ae814850_3eab_11ec_bf3b_0242ac1c0002row17_col4\" class=\"data row17 col4\" >0.141486</td>\n",
              "                        <td id=\"T_ae814850_3eab_11ec_bf3b_0242ac1c0002row17_col5\" class=\"data row17 col5\" >0.291721</td>\n",
              "                        <td id=\"T_ae814850_3eab_11ec_bf3b_0242ac1c0002row17_col6\" class=\"data row17 col6\" >0.168544</td>\n",
              "                        <td id=\"T_ae814850_3eab_11ec_bf3b_0242ac1c0002row17_col7\" class=\"data row17 col7\" >0.559883</td>\n",
              "                        <td id=\"T_ae814850_3eab_11ec_bf3b_0242ac1c0002row17_col8\" class=\"data row17 col8\" >0.113045</td>\n",
              "                        <td id=\"T_ae814850_3eab_11ec_bf3b_0242ac1c0002row17_col9\" class=\"data row17 col9\" >-0.007818</td>\n",
              "                        <td id=\"T_ae814850_3eab_11ec_bf3b_0242ac1c0002row17_col10\" class=\"data row17 col10\" >-0.105643</td>\n",
              "                        <td id=\"T_ae814850_3eab_11ec_bf3b_0242ac1c0002row17_col11\" class=\"data row17 col11\" >0.088194</td>\n",
              "                        <td id=\"T_ae814850_3eab_11ec_bf3b_0242ac1c0002row17_col12\" class=\"data row17 col12\" >0.127475</td>\n",
              "                        <td id=\"T_ae814850_3eab_11ec_bf3b_0242ac1c0002row17_col13\" class=\"data row17 col13\" >0.222420</td>\n",
              "                        <td id=\"T_ae814850_3eab_11ec_bf3b_0242ac1c0002row17_col14\" class=\"data row17 col14\" >0.341395</td>\n",
              "                        <td id=\"T_ae814850_3eab_11ec_bf3b_0242ac1c0002row17_col15\" class=\"data row17 col15\" >0.015958</td>\n",
              "                        <td id=\"T_ae814850_3eab_11ec_bf3b_0242ac1c0002row17_col16\" class=\"data row17 col16\" >0.138201</td>\n",
              "                        <td id=\"T_ae814850_3eab_11ec_bf3b_0242ac1c0002row17_col17\" class=\"data row17 col17\" >1.000000</td>\n",
              "            </tr>\n",
              "    </tbody></table>"
            ],
            "text/plain": [
              "<pandas.io.formats.style.Styler at 0x7fbb17036950>"
            ]
          },
          "metadata": {},
          "execution_count": 105
        }
      ]
    },
    {
      "cell_type": "markdown",
      "metadata": {
        "id": "oR3gQ3EvIlOY"
      },
      "source": [
        "**Checking the correlation of the variables with the target variable \"Revenue\"**"
      ]
    },
    {
      "cell_type": "markdown",
      "metadata": {
        "id": "C7Cas54M41_N"
      },
      "source": [
        "### **MODELLING**\n",
        "\n",
        "**Below are the Three Models which we are going to run**\n",
        "\n",
        "**1. Linear Regression**\n",
        "\n",
        "**2. Randorm Forest**\n",
        "\n",
        "**3. XGBOOST**\n",
        "\n",
        "**4. LightGBM**"
      ]
    },
    {
      "cell_type": "code",
      "metadata": {
        "execution": {
          "iopub.status.busy": "2021-11-05T15:32:57.074392Z",
          "iopub.execute_input": "2021-11-05T15:32:57.074791Z",
          "iopub.status.idle": "2021-11-05T15:32:57.080487Z",
          "shell.execute_reply.started": "2021-11-05T15:32:57.074756Z",
          "shell.execute_reply": "2021-11-05T15:32:57.079568Z"
        },
        "trusted": true,
        "id": "h5nd5F8P41_N"
      },
      "source": [
        "y=train.revenue\n",
        "X=train.drop( columns= ['revenue'])"
      ],
      "execution_count": null,
      "outputs": []
    },
    {
      "cell_type": "code",
      "metadata": {
        "execution": {
          "iopub.status.busy": "2021-11-05T15:32:57.082106Z",
          "iopub.execute_input": "2021-11-05T15:32:57.082718Z",
          "iopub.status.idle": "2021-11-05T15:32:57.093386Z",
          "shell.execute_reply.started": "2021-11-05T15:32:57.082679Z",
          "shell.execute_reply": "2021-11-05T15:32:57.092375Z"
        },
        "trusted": true,
        "colab": {
          "base_uri": "https://localhost:8080/"
        },
        "id": "UQaLJ54-41_N",
        "outputId": "9a394fa8-0e96-4ff3-96a8-cd0cf516b8d0"
      },
      "source": [
        "X.shape,y.shape,test.shape"
      ],
      "execution_count": null,
      "outputs": [
        {
          "output_type": "execute_result",
          "data": {
            "text/plain": [
              "((2840, 17), (2840,), (4398, 17))"
            ]
          },
          "metadata": {},
          "execution_count": 49
        }
      ]
    },
    {
      "cell_type": "code",
      "metadata": {
        "execution": {
          "iopub.status.busy": "2021-11-05T15:32:57.094933Z",
          "iopub.execute_input": "2021-11-05T15:32:57.09576Z",
          "iopub.status.idle": "2021-11-05T15:32:57.119027Z",
          "shell.execute_reply.started": "2021-11-05T15:32:57.095718Z",
          "shell.execute_reply": "2021-11-05T15:32:57.11822Z"
        },
        "trusted": true,
        "id": "T2iaFg1c41_N"
      },
      "source": [
        "from sklearn.model_selection import train_test_split\n",
        "X_train,X_val,y_train,y_val= train_test_split(X,y,test_size=0.2,random_state=39)"
      ],
      "execution_count": null,
      "outputs": []
    },
    {
      "cell_type": "markdown",
      "metadata": {
        "id": "F9-98XwzIuqb"
      },
      "source": [
        "**Splitting the data in 80:20 (Train and Validation)**"
      ]
    },
    {
      "cell_type": "markdown",
      "metadata": {
        "id": "29GTewiV41_N"
      },
      "source": [
        "**LinearRegression**"
      ]
    },
    {
      "cell_type": "code",
      "metadata": {
        "execution": {
          "iopub.status.busy": "2021-11-05T15:32:57.120378Z",
          "iopub.execute_input": "2021-11-05T15:32:57.120842Z",
          "iopub.status.idle": "2021-11-05T15:32:57.219109Z",
          "shell.execute_reply.started": "2021-11-05T15:32:57.120803Z",
          "shell.execute_reply": "2021-11-05T15:32:57.217903Z"
        },
        "trusted": true,
        "id": "sY2G2j3L41_N"
      },
      "source": [
        "from sklearn.linear_model import LinearRegression\n",
        "lr_model=LinearRegression()\n",
        "lr_model.fit(X_train,y_train)\n",
        "lr_pred=lr_model.predict(X_val)"
      ],
      "execution_count": null,
      "outputs": []
    },
    {
      "cell_type": "code",
      "metadata": {
        "execution": {
          "iopub.status.busy": "2021-11-05T15:32:57.224661Z",
          "iopub.execute_input": "2021-11-05T15:32:57.228658Z",
          "iopub.status.idle": "2021-11-05T15:32:57.245506Z",
          "shell.execute_reply.started": "2021-11-05T15:32:57.228609Z",
          "shell.execute_reply": "2021-11-05T15:32:57.244377Z"
        },
        "trusted": true,
        "colab": {
          "base_uri": "https://localhost:8080/"
        },
        "id": "1aIJJ7gV41_N",
        "outputId": "3a5bd8f7-4a35-4125-f298-f0f761c677c4"
      },
      "source": [
        "lr_rmse= mean_squared_error(y_val, lr_pred, squared=False)\n",
        "lr_rmse"
      ],
      "execution_count": null,
      "outputs": [
        {
          "output_type": "execute_result",
          "data": {
            "text/plain": [
              "2.347633667158991"
            ]
          },
          "metadata": {},
          "execution_count": 52
        }
      ]
    },
    {
      "cell_type": "markdown",
      "metadata": {
        "id": "TxKhD-U3VqEd"
      },
      "source": [
        "**The model score for Linear Regression model is 2.34**"
      ]
    },
    {
      "cell_type": "markdown",
      "metadata": {
        "id": "SPo0CPXi41_O"
      },
      "source": [
        "Fitting the entire dataset on the model"
      ]
    },
    {
      "cell_type": "code",
      "metadata": {
        "execution": {
          "iopub.status.busy": "2021-11-05T15:32:57.447841Z",
          "iopub.execute_input": "2021-11-05T15:32:57.448311Z",
          "iopub.status.idle": "2021-11-05T15:32:57.764661Z",
          "shell.execute_reply.started": "2021-11-05T15:32:57.448258Z",
          "shell.execute_reply": "2021-11-05T15:32:57.763644Z"
        },
        "trusted": true,
        "id": "F3GJt8VY41_O"
      },
      "source": [
        "lr_model.fit(X,y)\n",
        "lr_pred_full = lr_model.predict(test)\n",
        "lr_pred_full = np.exp(lr_pred_full)\n",
        "rand_lr = pd.DataFrame(lr_pred_full)\n",
        "\n",
        "linear_regression = pd.concat([test[\"id\"],rand_lr], axis =1)\n",
        "linear_regression.columns = ['id', 'revenue']\n",
        "linear_regression.to_csv(r'linear_regression.csv',index = False)\n"
      ],
      "execution_count": null,
      "outputs": []
    },
    {
      "cell_type": "code",
      "metadata": {
        "execution": {
          "iopub.status.busy": "2021-11-05T15:32:57.765923Z",
          "iopub.execute_input": "2021-11-05T15:32:57.766268Z",
          "iopub.status.idle": "2021-11-05T15:32:57.783458Z",
          "shell.execute_reply.started": "2021-11-05T15:32:57.766232Z",
          "shell.execute_reply": "2021-11-05T15:32:57.782213Z"
        },
        "trusted": true,
        "colab": {
          "base_uri": "https://localhost:8080/"
        },
        "id": "yf9jv-Am41_O",
        "outputId": "900e3893-914e-4803-84d0-fbccc08d6890"
      },
      "source": [
        "reg = LinearRegression().fit(X, y)\n",
        "for i,j in zip(reg.coef_, train.columns):\n",
        "    print(i,j)"
      ],
      "execution_count": null,
      "outputs": [
        {
          "output_type": "stream",
          "name": "stdout",
          "text": [
            "1.530226975383675e-05 id\n",
            "0.13322462762254664 budget\n",
            "0.2290050236523546 homepage\n",
            "-8.27078758412045 popularity\n",
            "1.2307448528752554 runtime\n",
            "0.20839146367632122 revenue\n",
            "0.00013013557620508316 rating\n",
            "-0.07694133296254073 totalVotes\n",
            "-0.015830110130417203 release_year\n",
            "0.014079824235702417 release_month\n",
            "0.07737247402124989 release_day\n",
            "0.3854409048721473 numberofgenres\n",
            "4.895782360985865e-07 lang_english\n",
            "2.421601871736673e-05 bud_runtime\n",
            "3.671351882876922e-08 bud_year\n",
            "-2454.5167730048884 bud_popularity\n",
            "16710.579732723138 runtime_year\n"
          ]
        }
      ]
    },
    {
      "cell_type": "markdown",
      "metadata": {
        "id": "cGJEuZbO41_O"
      },
      "source": [
        "**RandomForest**"
      ]
    },
    {
      "cell_type": "code",
      "metadata": {
        "execution": {
          "iopub.status.busy": "2021-11-05T15:32:57.784817Z",
          "iopub.execute_input": "2021-11-05T15:32:57.785384Z",
          "iopub.status.idle": "2021-11-05T15:32:58.630688Z",
          "shell.execute_reply.started": "2021-11-05T15:32:57.785339Z",
          "shell.execute_reply": "2021-11-05T15:32:58.629787Z"
        },
        "trusted": true,
        "id": "Obp5IOl041_O"
      },
      "source": [
        "from sklearn.ensemble import RandomForestRegressor\n",
        "rfr_model = RandomForestRegressor(random_state=42, \n",
        "                                  max_features='auto', \n",
        "                                  n_estimators= 50, \n",
        "                                  min_samples_leaf=2)\n",
        "rfr_model.fit(X_train,y_train)\n",
        "rfr_pred = rfr_model.predict(X_val)"
      ],
      "execution_count": null,
      "outputs": []
    },
    {
      "cell_type": "code",
      "metadata": {
        "execution": {
          "iopub.status.busy": "2021-11-05T15:32:58.632061Z",
          "iopub.execute_input": "2021-11-05T15:32:58.632409Z",
          "iopub.status.idle": "2021-11-05T15:32:58.639254Z",
          "shell.execute_reply.started": "2021-11-05T15:32:58.632372Z",
          "shell.execute_reply": "2021-11-05T15:32:58.638168Z"
        },
        "trusted": true,
        "colab": {
          "base_uri": "https://localhost:8080/"
        },
        "id": "xSHoNY2C41_O",
        "outputId": "945a2d92-c6c7-4208-9d70-300c83e1ecce"
      },
      "source": [
        "rfr_rmse= mean_squared_error(y_val, rfr_pred, squared=False)\n",
        "rfr_rmse"
      ],
      "execution_count": null,
      "outputs": [
        {
          "output_type": "execute_result",
          "data": {
            "text/plain": [
              "2.0449794667278467"
            ]
          },
          "metadata": {},
          "execution_count": 73
        }
      ]
    },
    {
      "cell_type": "markdown",
      "metadata": {
        "id": "ff1G5nMKVt5R"
      },
      "source": [
        "**The model score for Random Forest model is 2.044**"
      ]
    },
    {
      "cell_type": "code",
      "metadata": {
        "id": "hYNq-rHZjt4z"
      },
      "source": [
        "model_params = {\n",
        "    'n_estimators': [50, 150, 250],\n",
        "    'max_features': ['sqrt', 0.25, 0.5, 0.75, 1.0],\n",
        "    'min_samples_split': [2, 4, 6]\n",
        "}"
      ],
      "execution_count": null,
      "outputs": []
    },
    {
      "cell_type": "code",
      "metadata": {
        "id": "YNS0guhIldkE"
      },
      "source": [
        "# Use the random grid to search for best hyperparameters\n",
        "# First create the base model to tune\n",
        "\n",
        "rf_model = RandomForestRegressor(random_state=1)\n",
        "\n",
        "# set up grid search meta-estimator\n",
        "\n",
        "clf = GridSearchCV(rf_model, model_params, cv=5)"
      ],
      "execution_count": null,
      "outputs": []
    },
    {
      "cell_type": "code",
      "metadata": {
        "colab": {
          "base_uri": "https://localhost:8080/"
        },
        "id": "i1IZsr6VmD5P",
        "outputId": "372a96c6-650f-4352-ca1c-7a8bbee13689"
      },
      "source": [
        "model = clf.fit(X,y)\n",
        "print(clf.best_score_)\n",
        "print(clf.best_params_)"
      ],
      "execution_count": null,
      "outputs": [
        {
          "output_type": "stream",
          "name": "stdout",
          "text": [
            "0.5727842352556363\n",
            "{'max_features': 'sqrt', 'min_samples_split': 2, 'n_estimators': 150}\n"
          ]
        }
      ]
    },
    {
      "cell_type": "code",
      "metadata": {
        "id": "reMm8qfqpkq7"
      },
      "source": [
        "from sklearn.ensemble import RandomForestRegressor\n",
        "rfr_model = RandomForestRegressor(random_state=42, \n",
        "                                  max_features='sqrt', \n",
        "                                  n_estimators= 150, \n",
        "                                  min_samples_leaf=2)\n",
        "rfr_model.fit(X_train,y_train)\n",
        "rfr_pred = rfr_model.predict(X_val)"
      ],
      "execution_count": null,
      "outputs": []
    },
    {
      "cell_type": "code",
      "metadata": {
        "colab": {
          "base_uri": "https://localhost:8080/"
        },
        "id": "Jjl5ClTOpnaf",
        "outputId": "24cad51e-b216-4788-d44f-56706abf16fe"
      },
      "source": [
        "rfr_rmse= mean_squared_error(y_val, rfr_pred, squared=False)\n",
        "rfr_rmse"
      ],
      "execution_count": null,
      "outputs": [
        {
          "output_type": "execute_result",
          "data": {
            "text/plain": [
              "2.0455788293768062"
            ]
          },
          "metadata": {},
          "execution_count": 69
        }
      ]
    },
    {
      "cell_type": "markdown",
      "metadata": {
        "id": "EeJPsruaVy87"
      },
      "source": [
        "**The model score for Random Forest model is 2.045**"
      ]
    },
    {
      "cell_type": "markdown",
      "metadata": {
        "id": "rqUb1C-s41_O"
      },
      "source": [
        "Fitting the entire dataset on the model"
      ]
    },
    {
      "cell_type": "code",
      "metadata": {
        "execution": {
          "iopub.status.busy": "2021-11-05T15:32:58.641042Z",
          "iopub.execute_input": "2021-11-05T15:32:58.641605Z",
          "iopub.status.idle": "2021-11-05T15:32:59.586132Z",
          "shell.execute_reply.started": "2021-11-05T15:32:58.641569Z",
          "shell.execute_reply": "2021-11-05T15:32:59.585334Z"
        },
        "trusted": true,
        "id": "GRUXzBnU41_O"
      },
      "source": [
        "rfr_model.fit(X,y)\n",
        "rfr_pred_full = rfr_model.predict(test)\n",
        "rfr_pred_full = np.exp(rfr_pred_full)\n",
        "rand_rf = pd.DataFrame(rfr_pred_full)\n",
        "\n",
        "random_forest = pd.concat([test[\"id\"],rand_rf], axis =1)\n",
        "random_forest.columns = ['id', 'revenue']\n",
        "random_forest.to_csv(r'random_forest.csv',index = False)\n"
      ],
      "execution_count": null,
      "outputs": []
    },
    {
      "cell_type": "markdown",
      "metadata": {
        "id": "oL6kPEG241_P"
      },
      "source": [
        "**XGBoost**"
      ]
    },
    {
      "cell_type": "code",
      "metadata": {
        "scrolled": true,
        "execution": {
          "iopub.status.busy": "2021-11-05T15:32:59.587483Z",
          "iopub.execute_input": "2021-11-05T15:32:59.587811Z",
          "iopub.status.idle": "2021-11-05T15:32:59.659084Z",
          "shell.execute_reply.started": "2021-11-05T15:32:59.587775Z",
          "shell.execute_reply": "2021-11-05T15:32:59.658344Z"
        },
        "trusted": true,
        "id": "WTxfsIMZ41_P"
      },
      "source": [
        "import xgboost as xgb\n",
        "xgb_model = xgb.XGBRegressor()"
      ],
      "execution_count": null,
      "outputs": []
    },
    {
      "cell_type": "code",
      "metadata": {
        "execution": {
          "iopub.status.busy": "2021-11-05T15:32:59.660263Z",
          "iopub.execute_input": "2021-11-05T15:32:59.660598Z",
          "iopub.status.idle": "2021-11-05T15:33:06.671157Z",
          "shell.execute_reply.started": "2021-11-05T15:32:59.660563Z",
          "shell.execute_reply": "2021-11-05T15:33:06.670214Z"
        },
        "trusted": true,
        "colab": {
          "base_uri": "https://localhost:8080/"
        },
        "id": "i7SCIBsG41_P",
        "outputId": "c85c711b-79d4-425e-e8a1-b08391f3d3ff"
      },
      "source": [
        "xgb_model.fit(X_train, y_train)\n",
        "xgb_pred = xgb_model.predict(X_val)\n",
        "xgb_rmse= mean_squared_error(y_val, xgb_pred, squared=False)\n",
        "xgb_rmse"
      ],
      "execution_count": null,
      "outputs": [
        {
          "output_type": "stream",
          "name": "stdout",
          "text": [
            "[01:17:33] WARNING: /workspace/src/objective/regression_obj.cu:152: reg:linear is now deprecated in favor of reg:squarederror.\n"
          ]
        },
        {
          "output_type": "execute_result",
          "data": {
            "text/plain": [
              "2.017399893336167"
            ]
          },
          "metadata": {},
          "execution_count": 95
        }
      ]
    },
    {
      "cell_type": "markdown",
      "metadata": {
        "id": "taqaUPfY41_P"
      },
      "source": [
        "**Hyperparameter Tuning - GRID Search"
      ]
    },
    {
      "cell_type": "code",
      "metadata": {
        "execution": {
          "iopub.status.busy": "2021-11-05T15:33:06.672641Z",
          "iopub.execute_input": "2021-11-05T15:33:06.673Z"
        },
        "trusted": true,
        "colab": {
          "base_uri": "https://localhost:8080/"
        },
        "id": "n5zpP7VY41_P",
        "outputId": "0500f2fd-a105-46af-bd91-3b818cb72e6a"
      },
      "source": [
        "from sklearn.model_selection import GridSearchCV\n",
        "from xgboost.sklearn import XGBRegressor\n",
        "\n",
        "\n",
        "xgb = XGBRegressor()\n",
        "parameters = {\n",
        "              'objective':['reg:linear'],\n",
        "              'eta': [0.01, 0.03, 0.05, 0.07], \n",
        "              'max_depth': [3, 5, 6, 7],\n",
        "              'min_child_weight': [3, 4, 5],\n",
        "              'subsample': [0.6, 0.7, 0.8],\n",
        "              'colsample_bytree': [0.5, 0.6, 0.7],\n",
        "              'eval_metric': ['rmse'],\n",
        "              'n_estimators': [1000,2000,3000,3500] }\n",
        "\n",
        "xgb_grid = GridSearchCV(xgb,parameters,cv = 2,n_jobs = 5,verbose=True)\n",
        "\n",
        "xgb_grid.fit(X,y)\n",
        "\n",
        "print(xgb_grid.best_score_)\n",
        "print(xgb_grid.best_params_)"
      ],
      "execution_count": null,
      "outputs": [
        {
          "output_type": "stream",
          "name": "stdout",
          "text": [
            "Fitting 2 folds for each of 1728 candidates, totalling 3456 fits\n"
          ]
        },
        {
          "output_type": "stream",
          "name": "stderr",
          "text": [
            "[Parallel(n_jobs=5)]: Using backend LokyBackend with 5 concurrent workers.\n",
            "[Parallel(n_jobs=5)]: Done  40 tasks      | elapsed:  1.3min\n",
            "[Parallel(n_jobs=5)]: Done 190 tasks      | elapsed:  7.9min\n",
            "[Parallel(n_jobs=5)]: Done 440 tasks      | elapsed: 18.1min\n",
            "[Parallel(n_jobs=5)]: Done 790 tasks      | elapsed: 32.9min\n",
            "[Parallel(n_jobs=5)]: Done 1240 tasks      | elapsed: 51.3min\n",
            "[Parallel(n_jobs=5)]: Done 1790 tasks      | elapsed: 76.5min\n",
            "[Parallel(n_jobs=5)]: Done 2440 tasks      | elapsed: 106.8min\n",
            "[Parallel(n_jobs=5)]: Done 3190 tasks      | elapsed: 142.9min\n",
            "[Parallel(n_jobs=5)]: Done 3456 out of 3456 | elapsed: 155.8min finished\n"
          ]
        },
        {
          "output_type": "stream",
          "name": "stdout",
          "text": [
            "[23:49:15] WARNING: /workspace/src/objective/regression_obj.cu:152: reg:linear is now deprecated in favor of reg:squarederror.\n",
            "0.5539964886300793\n",
            "{'colsample_bytree': 0.6, 'eta': 0.01, 'eval_metric': 'rmse', 'max_depth': 7, 'min_child_weight': 4, 'n_estimators': 1000, 'objective': 'reg:linear', 'subsample': 0.8}\n"
          ]
        }
      ]
    },
    {
      "cell_type": "code",
      "metadata": {
        "id": "2-P2ECeo0uYU"
      },
      "source": [
        "import xgboost as xgb\n",
        "xgb = XGBRegressor(colsample_bytree= 0.6, \n",
        "                  eta= 0.01,\n",
        "                   eval_metric='rmse', \n",
        "                   max_depth= 7,\n",
        "                   min_child_weight= 4,\n",
        "                   n_estimators=1000,\n",
        "                   objective= 'reg:linear',\n",
        "                   subsample= 0.8)"
      ],
      "execution_count": null,
      "outputs": []
    },
    {
      "cell_type": "code",
      "metadata": {
        "colab": {
          "base_uri": "https://localhost:8080/"
        },
        "id": "BKcn3BGe0wF7",
        "outputId": "f230c267-3379-42b8-d19d-3aa4c06b34a2"
      },
      "source": [
        "xgb.fit(X_train, y_train)\n",
        "xgb_pred = xgb.predict(X_val)\n",
        "xgb_rmse= mean_squared_error(y_val, xgb_pred, squared=False)\n",
        "xgb_rmse"
      ],
      "execution_count": null,
      "outputs": [
        {
          "output_type": "stream",
          "name": "stdout",
          "text": [
            "[01:20:55] WARNING: /workspace/src/objective/regression_obj.cu:152: reg:linear is now deprecated in favor of reg:squarederror.\n"
          ]
        },
        {
          "output_type": "execute_result",
          "data": {
            "text/plain": [
              "2.0858171056331485"
            ]
          },
          "metadata": {},
          "execution_count": 101
        }
      ]
    },
    {
      "cell_type": "markdown",
      "metadata": {
        "id": "N5Lq0Yd-41_P"
      },
      "source": [
        "Fitting the entire dataset on the model"
      ]
    },
    {
      "cell_type": "code",
      "metadata": {
        "trusted": true,
        "colab": {
          "base_uri": "https://localhost:8080/"
        },
        "id": "hDNhTtkE41_P",
        "outputId": "4017a872-ee96-4d5e-d5b7-5a25efa29b8b"
      },
      "source": [
        "xgb_model.fit(X, y)\n",
        "xgb_pred_full = xgb_model.predict(test)\n",
        "xgb_pred_full = np.exp(xgb_pred_full)\n",
        "rand_xgb = pd.DataFrame(xgb_pred_full)\n",
        "\n",
        "xgb = pd.concat([test[\"id\"],rand_xgb], axis =1)\n",
        "xgb.columns =['id', 'revenue']\n",
        "xgb.to_csv(r'xgb.csv',index = False)"
      ],
      "execution_count": null,
      "outputs": [
        {
          "output_type": "stream",
          "name": "stdout",
          "text": [
            "[23:59:06] WARNING: /workspace/src/objective/regression_obj.cu:152: reg:linear is now deprecated in favor of reg:squarederror.\n"
          ]
        }
      ]
    },
    {
      "cell_type": "markdown",
      "metadata": {
        "id": "vxbFut_N41_Q"
      },
      "source": [
        "**LightGBM**"
      ]
    },
    {
      "cell_type": "code",
      "metadata": {
        "trusted": true,
        "id": "9yHVl4bL41_Q"
      },
      "source": [
        "import lightgbm as lgb\n",
        "lgb_model = lgb.LGBMRegressor()\n"
      ],
      "execution_count": null,
      "outputs": []
    },
    {
      "cell_type": "code",
      "metadata": {
        "trusted": true,
        "colab": {
          "base_uri": "https://localhost:8080/"
        },
        "id": "Xwbnh7J141_Q",
        "outputId": "7393eede-8bf1-4220-8dd4-b7ef9c1c996a"
      },
      "source": [
        "lgb_model.fit(X_train, y_train)\n",
        "lgb_pred = lgb_model.predict(X_val)\n",
        "lgb_rmse= mean_squared_error(y_val, lgb_pred, squared=False)\n",
        "lgb_rmse"
      ],
      "execution_count": null,
      "outputs": [
        {
          "output_type": "execute_result",
          "data": {
            "text/plain": [
              "2.012961606697791"
            ]
          },
          "metadata": {},
          "execution_count": 76
        }
      ]
    },
    {
      "cell_type": "code",
      "metadata": {
        "colab": {
          "base_uri": "https://localhost:8080/"
        },
        "id": "SQvcIAXRtD1v",
        "outputId": "c9eb7341-f3d8-466e-82cd-9b6044a3a200"
      },
      "source": [
        "from sklearn.model_selection import GridSearchCV\n",
        "from lightgbm.sklearn import LGBMRegressor\n",
        "\n",
        "\n",
        "lgb = LGBMRegressor()\n",
        "parameters = {'num_leaves': [30,40,50],\n",
        "              'min_data_in_leaf': [20,50,70],\n",
        "              'objective': ['regression'],\n",
        "              'max_depth': [5,7,9],\n",
        "              'learning_rate': [0.01,0.03,0.06],\n",
        "              \"boosting\": [\"gbdt\"],\n",
        "              \"feature_fraction\": [0.9,1.0,1.1],\n",
        "              \"bagging_freq\": [1,3,5],\n",
        "              \"bagging_fraction\": [0.9,1.0,1.1],\n",
        "              \"bagging_seed\": [11,14,17],\n",
        "              \"metric\": ['rmse'],\n",
        "              \"lambda_l1\": [0.2,0.4,0.6],\n",
        "              \"verbosity\": [-1]}\n",
        "\n",
        "lgb_grid = GridSearchCV(lgb,parameters,cv = 2)\n",
        "\n",
        "lgb_grid.fit(X,y)\n",
        "\n",
        "print(lgb_grid.best_score_)\n",
        "print(lgb_grid.best_params_)"
      ],
      "execution_count": 110,
      "outputs": [
        {
          "output_type": "stream",
          "name": "stdout",
          "text": [
            "0.5834493866365815\n",
            "{'bagging_fraction': 0.9, 'bagging_freq': 3, 'bagging_seed': 14, 'boosting': 'gbdt', 'feature_fraction': 1.0, 'lambda_l1': 0.2, 'learning_rate': 0.06, 'max_depth': 5, 'metric': 'rmse', 'min_data_in_leaf': 20, 'num_leaves': 30, 'objective': 'regression', 'verbosity': -1}\n"
          ]
        }
      ]
    },
    {
      "cell_type": "code",
      "metadata": {
        "id": "HsZhi2UmyKUw"
      },
      "source": [
        "from lightgbm.sklearn import LGBMRegressor\n",
        "lgb_model = LGBMRegressor(bagging_fraction= 0.9,\n",
        "                          bagging_freq= 3,\n",
        "                          bagging_seed= 14,\n",
        "                          boosting= 'gbdt', \n",
        "                          feature_fraction= 1.0,\n",
        "                          lambda_l1= 0.2,\n",
        "                          learning_rate= 0.06,\n",
        "                          max_depth= 5,\n",
        "                          metric= 'rmse',\n",
        "                          min_data_in_leaf= 20, \n",
        "                          num_leaves= 30,\n",
        "                        objective= 'regression',\n",
        "                        verbosity= -1 )\n",
        "lgb_model.fit(X_train,y_train)\n",
        "lgb_pred = lgb_model.predict(X_val)"
      ],
      "execution_count": 114,
      "outputs": []
    },
    {
      "cell_type": "code",
      "metadata": {
        "colab": {
          "base_uri": "https://localhost:8080/"
        },
        "id": "YwCg7b1QyvF1",
        "outputId": "5e0e6ba8-32a2-463d-eba8-7d1031487a64"
      },
      "source": [
        "lgb_rmse= mean_squared_error(y_val, lgb_pred, squared=False)\n",
        "lgb_rmse"
      ],
      "execution_count": 117,
      "outputs": [
        {
          "output_type": "execute_result",
          "data": {
            "text/plain": [
              "2.001091966610521"
            ]
          },
          "metadata": {},
          "execution_count": 117
        }
      ]
    },
    {
      "cell_type": "markdown",
      "metadata": {
        "id": "UAr4VZlc41_Q"
      },
      "source": [
        "Fitting the entire dataset on the model"
      ]
    },
    {
      "cell_type": "code",
      "metadata": {
        "trusted": true,
        "id": "NWG1nDgA41_R"
      },
      "source": [
        "lgb_model.fit(X, y)\n",
        "lgb_pred_full = lgb_model.predict(test)\n",
        "lgb_pred_full = np.exp(lgb_pred_full)\n",
        "rand_lgb = pd.DataFrame(lgb_pred_full)\n",
        "\n",
        "lgb = pd.concat([test[\"id\"],rand_lgb], axis =1)\n",
        "lgb.columns =['id', 'revenue']\n",
        "lgb.to_csv(r'lgb.csv',index = False)\n"
      ],
      "execution_count": 118,
      "outputs": []
    },
    {
      "cell_type": "code",
      "metadata": {
        "colab": {
          "base_uri": "https://localhost:8080/"
        },
        "id": "1hExKu_KXVIq",
        "outputId": "ba6a1fd7-68be-4e2f-b09d-94428dcf0fb1"
      },
      "source": [
        "!pip install shap\n",
        "import shap"
      ],
      "execution_count": 121,
      "outputs": [
        {
          "output_type": "stream",
          "name": "stdout",
          "text": [
            "Collecting shap\n",
            "  Downloading shap-0.40.0.tar.gz (371 kB)\n",
            "\u001b[K     |████████████████████████████████| 371 kB 4.2 MB/s \n",
            "\u001b[?25h  Installing build dependencies ... \u001b[?25l\u001b[?25hdone\n",
            "  Getting requirements to build wheel ... \u001b[?25l\u001b[?25hdone\n",
            "    Preparing wheel metadata ... \u001b[?25l\u001b[?25hdone\n",
            "Requirement already satisfied: scikit-learn in /usr/local/lib/python3.7/dist-packages (from shap) (0.22.2.post1)\n",
            "Requirement already satisfied: numpy in /usr/local/lib/python3.7/dist-packages (from shap) (1.19.5)\n",
            "Requirement already satisfied: pandas in /usr/local/lib/python3.7/dist-packages (from shap) (1.1.5)\n",
            "Requirement already satisfied: numba in /usr/local/lib/python3.7/dist-packages (from shap) (0.51.2)\n",
            "Collecting slicer==0.0.7\n",
            "  Downloading slicer-0.0.7-py3-none-any.whl (14 kB)\n",
            "Requirement already satisfied: cloudpickle in /usr/local/lib/python3.7/dist-packages (from shap) (1.3.0)\n",
            "Requirement already satisfied: tqdm>4.25.0 in /usr/local/lib/python3.7/dist-packages (from shap) (4.62.3)\n",
            "Requirement already satisfied: scipy in /usr/local/lib/python3.7/dist-packages (from shap) (1.4.1)\n",
            "Requirement already satisfied: packaging>20.9 in /usr/local/lib/python3.7/dist-packages (from shap) (21.0)\n",
            "Requirement already satisfied: pyparsing>=2.0.2 in /usr/local/lib/python3.7/dist-packages (from packaging>20.9->shap) (2.4.7)\n",
            "Requirement already satisfied: setuptools in /usr/local/lib/python3.7/dist-packages (from numba->shap) (57.4.0)\n",
            "Requirement already satisfied: llvmlite<0.35,>=0.34.0.dev0 in /usr/local/lib/python3.7/dist-packages (from numba->shap) (0.34.0)\n",
            "Requirement already satisfied: pytz>=2017.2 in /usr/local/lib/python3.7/dist-packages (from pandas->shap) (2018.9)\n",
            "Requirement already satisfied: python-dateutil>=2.7.3 in /usr/local/lib/python3.7/dist-packages (from pandas->shap) (2.8.2)\n",
            "Requirement already satisfied: six>=1.5 in /usr/local/lib/python3.7/dist-packages (from python-dateutil>=2.7.3->pandas->shap) (1.15.0)\n",
            "Requirement already satisfied: joblib>=0.11 in /usr/local/lib/python3.7/dist-packages (from scikit-learn->shap) (1.0.1)\n",
            "Building wheels for collected packages: shap\n",
            "  Building wheel for shap (PEP 517) ... \u001b[?25l\u001b[?25hdone\n",
            "  Created wheel for shap: filename=shap-0.40.0-cp37-cp37m-linux_x86_64.whl size=509251 sha256=65ef55822ace484bf54ae207ea5b2936cb157d3d0f1dd15bfa0853313ab76faa\n",
            "  Stored in directory: /root/.cache/pip/wheels/ec/35/84/e304841ac4b910bc95fe9a6e5302eb2507b4333728851dcbfb\n",
            "Successfully built shap\n",
            "Installing collected packages: slicer, shap\n",
            "Successfully installed shap-0.40.0 slicer-0.0.7\n"
          ]
        }
      ]
    },
    {
      "cell_type": "code",
      "metadata": {
        "colab": {
          "base_uri": "https://localhost:8080/",
          "height": 520
        },
        "id": "ySKpGJjPXouI",
        "outputId": "932556df-2977-469d-90d3-7bcf6a10ee8d"
      },
      "source": [
        "explainer = shap.TreeExplainer(lgb_model, X_train)\n",
        "shap_values = explainer.shap_values(X_train)\n",
        "\n",
        "shap.summary_plot(shap_values, X_train)"
      ],
      "execution_count": 122,
      "outputs": [
        {
          "output_type": "display_data",
          "data": {
            "image/png": "[encoded data removed]",
            "text/plain": [
              "<Figure size 576x597.6 with 2 Axes>"
            ]
          },
          "metadata": {
            "needs_background": "light"
          }
        }
      ]
    },
    {
      "cell_type": "markdown",
      "metadata": {
        "id": "EzctXj5_XtG2"
      },
      "source": [
        "**It gives us the best features suitable for this model**"
      ]
    },
    {
      "cell_type": "markdown",
      "metadata": {
        "id": "GWVh6HFDWAIq"
      },
      "source": [
        "# **Conclusion**\n",
        "\n",
        "**After running multiple models we can conclude that the best score we get is thorugh LGBM model which is 2.001**\n",
        "\n",
        "**Which gives us the Final score as 1.86 after submitting in the competition**"
      ]
    },
    {
      "cell_type": "markdown",
      "metadata": {
        "id": "NH900imxWi18"
      },
      "source": [
        "# **References**\n",
        "\n",
        "\n",
        "1.   https://www.kaggle.com/harshvr15/datawrang-eda-models-lr-rf-xgb-lgb-gridsearch\n",
        "2.   Refered Towards Data Science\n",
        "3.   https://scikit-learn.org/stable/modules/preprocessing.html\n",
        "\n",
        "\n",
        "The Kaggle was used to get the dataset and referred the given kernel. Towards data science to learn about preprocessing and cleaning. Scikit learn used to learn about various models. Ihave tried to train some models through appying my own hyper parameters.\n",
        "\n",
        "Copyright 2021 Ronak Bhushan Patil\n",
        "\n",
        "Permission is hereby granted, free of charge, to any person obtaining a copy of this software and associated documentation files (the \"Software\"), to deal in the Software without restriction, including without limitation the rights to use, copy, modify, merge, publish, distribute, sublicense, and/or sell copies of the Software, and to permit persons to whom the Software is furnished to do so, subject to the following conditions:\n",
        "The above copyright notice and this permission notice shall be included in all copies or substantial portions of the Software.\n",
        "THE SOFTWARE IS PROVIDED \"AS IS\", WITHOUT WARRANTY OF ANY KIND, EXPRESS OR IMPLIED, INCLUDING BUT NOT LIMITED TO THE WARRANTIES OF MERCHANTABILITY, FITNESS FOR A PARTICULAR PURPOSE AND NONINFRINGEMENT. IN NO EVENT SHALL THE AUTHORS OR COPYRIGHT HOLDERS BE LIABLE FOR ANY CLAIM, DAMAGES OR OTHER LIABILITY, WHETHER IN AN ACTION OF CONTRACT, TORT OR OTHERWISE, ARISING FROM, OUT OF OR IN CONNECTION WITH THE SOFTWARE OR THE USE OR OTHER DEALINGS IN THE SOFTWARE"
      ]
    }
  ]
}